{
 "cells": [
  {
   "cell_type": "markdown",
   "id": "94dbc59a-ac82-4fdb-845f-cf76fc046a0b",
   "metadata": {},
   "source": [
    "### Q1. What are the three measures of central tendency?"
   ]
  },
  {
   "cell_type": "markdown",
   "id": "8293d39a-e623-4916-9288-e885e64c72ba",
   "metadata": {},
   "source": [
    "The three measures of central tendency are:\n",
    "\n",
    "Mean: The mean is the arithmetic average of a set of numbers. It is calculated by adding up all the numbers in the set and dividing by the number of numbers.\n",
    "\n",
    "Median: The median is the middle value in a set of numbers. It is calculated by arranging the numbers in order from smallest to largest and finding the middle value.\n",
    "\n",
    "Mode: The mode is the value that occurs most frequently in a set of numbers. It is calculated by finding the number that appears most often in the set. In some cases, there may be more than one mode, or no mode at all."
   ]
  },
  {
   "cell_type": "markdown",
   "id": "f5e70224-b9a4-4677-ae9e-766a187a9aeb",
   "metadata": {},
   "source": [
    "### Q2. What is the difference between the mean, median, and mode? How are they used to measure the central tendency of a dataset?"
   ]
  },
  {
   "cell_type": "markdown",
   "id": "791ffd2e-6a6d-4cfe-bb27-223286815209",
   "metadata": {},
   "source": [
    "The mean, median, and mode are different measures of central tendency used to describe the typical or average value of a dataset.\n",
    "\n",
    "The mean is calculated by adding up all the values in the dataset and dividing by the number of values. It is affected by extreme values and outliers in the dataset, and can be skewed by them. The mean is often used when the data is normally distributed or symmetrical.\n",
    "\n",
    "The median is the middle value in a dataset when it is arranged in order from smallest to largest. It is not affected by extreme values and outliers, and is a good measure of central tendency when the data has skewed distribution or has extreme values.\n",
    "\n",
    "The mode is the value that occurs most frequently in a dataset. It can be useful in describing a dataset when the data has a peak or several peaks, but it is not always the best measure of central tendency because a dataset can have multiple modes, or no mode at all.\n",
    "\n",
    "All three measures are used to summarize and describe datasets. The choice of which measure to use depends on the nature of the dataset and the research question being asked. In general, the mean is most commonly used when the data is normally distributed or symmetrical, while the median and mode are used when the data is skewed or has outliers."
   ]
  },
  {
   "cell_type": "markdown",
   "id": "71207316-523d-4780-8ca9-e8ea4aa7b7f5",
   "metadata": {},
   "source": [
    "### Q3. Measure the three measures of central tendency for the given height data:\n",
    "[178,177,176,177,178.2,178,175,179,180,175,178.9,176.2,177,172.5,178,176.5]"
   ]
  },
  {
   "cell_type": "code",
   "execution_count": 1,
   "id": "42f6a022-9d3a-49dd-ac25-3dbcf545faba",
   "metadata": {},
   "outputs": [],
   "source": [
    "import numpy as np"
   ]
  },
  {
   "cell_type": "code",
   "execution_count": 2,
   "id": "cff394f2-eaee-4737-863f-075dfed1e518",
   "metadata": {},
   "outputs": [],
   "source": [
    "lst = [178,177,176,177,178.2,178,175,179,180,175,178.9,176.2,177,172.5,178,176.5]"
   ]
  },
  {
   "cell_type": "code",
   "execution_count": 3,
   "id": "a2dcb8a3-1f94-4f7f-b987-5b6b01e972fd",
   "metadata": {},
   "outputs": [
    {
     "data": {
      "text/plain": [
       "177.01875"
      ]
     },
     "execution_count": 3,
     "metadata": {},
     "output_type": "execute_result"
    }
   ],
   "source": [
    "np.mean(lst)"
   ]
  },
  {
   "cell_type": "code",
   "execution_count": 4,
   "id": "db6ae856-98b8-4a6c-86e9-6c92b007d0a1",
   "metadata": {},
   "outputs": [
    {
     "data": {
      "text/plain": [
       "177.0"
      ]
     },
     "execution_count": 4,
     "metadata": {},
     "output_type": "execute_result"
    }
   ],
   "source": [
    "np.median(lst)"
   ]
  },
  {
   "cell_type": "code",
   "execution_count": 7,
   "id": "d9ce18fb-8a6a-46f3-a813-250b11f4d1bd",
   "metadata": {},
   "outputs": [],
   "source": [
    "from scipy import stats"
   ]
  },
  {
   "cell_type": "code",
   "execution_count": 8,
   "id": "faf6ba09-2a24-40ec-b62d-702796a8d2c8",
   "metadata": {},
   "outputs": [
    {
     "name": "stderr",
     "output_type": "stream",
     "text": [
      "/tmp/ipykernel_98/3572933456.py:1: FutureWarning: Unlike other reduction functions (e.g. `skew`, `kurtosis`), the default behavior of `mode` typically preserves the axis it acts along. In SciPy 1.11.0, this behavior will change: the default value of `keepdims` will become False, the `axis` over which the statistic is taken will be eliminated, and the value None will no longer be accepted. Set `keepdims` to True or False to avoid this warning.\n",
      "  stats.mode(lst)\n"
     ]
    },
    {
     "data": {
      "text/plain": [
       "ModeResult(mode=array([177.]), count=array([3]))"
      ]
     },
     "execution_count": 8,
     "metadata": {},
     "output_type": "execute_result"
    }
   ],
   "source": [
    "stats.mode(lst)"
   ]
  },
  {
   "cell_type": "markdown",
   "id": "ad39b420-7b0d-4a5f-928d-fc244cdc7995",
   "metadata": {},
   "source": [
    "### Q4. Find the standard deviation for the given data:\n",
    "[178,177,176,177,178.2,178,175,179,180,175,178.9,176.2,177,172.5,178,176.5]"
   ]
  },
  {
   "cell_type": "code",
   "execution_count": 11,
   "id": "855c4bb0-af64-4177-abfd-3c560224aa0e",
   "metadata": {},
   "outputs": [],
   "source": [
    "import numpy as np"
   ]
  },
  {
   "cell_type": "code",
   "execution_count": 12,
   "id": "ded63f51-24e9-4cad-9184-ba60eb1da834",
   "metadata": {},
   "outputs": [],
   "source": [
    "lst = [178,177,176,177,178.2,178,175,179,180,175,178.9,176.2,177,172.5,178,176.5]"
   ]
  },
  {
   "cell_type": "code",
   "execution_count": 14,
   "id": "1c374a48-fb90-4151-8aab-9466362241ce",
   "metadata": {},
   "outputs": [],
   "source": [
    "std = np.std(lst)"
   ]
  },
  {
   "cell_type": "code",
   "execution_count": 15,
   "id": "14e13cdf-374f-4324-8ff0-1cb79ae93953",
   "metadata": {},
   "outputs": [
    {
     "data": {
      "text/plain": [
       "1.7885814036548633"
      ]
     },
     "execution_count": 15,
     "metadata": {},
     "output_type": "execute_result"
    }
   ],
   "source": [
    "std"
   ]
  },
  {
   "cell_type": "markdown",
   "id": "1cf4cef5-1fec-4a81-89e6-e60c2f16a16a",
   "metadata": {},
   "source": [
    "### Q5. How are measures of dispersion such as range, variance, and standard deviation used to describe the spread of a dataset? Provide an example."
   ]
  },
  {
   "cell_type": "markdown",
   "id": "8768661d-9dbd-4b02-b3df-48bcb0626424",
   "metadata": {},
   "source": [
    "Measures of dispersion, such as range, variance, and standard deviation, are used to describe the spread or variability of a dataset. These measures provide information about how spread out the data is from the central tendency or mean.\n",
    "\n",
    "The range is the simplest measure of dispersion and is calculated by subtracting the smallest value in the dataset from the largest value. It provides an idea of how much the data is spread from the minimum to the maximum values.\n",
    "\n",
    "The variance and standard deviation are more precise measures of dispersion. The variance is calculated by finding the average of the squared differences between each value in the dataset and the mean of the dataset. The standard deviation is the square root of the variance. It provides an idea of how far the data is from the mean.\n",
    "\n",
    "For example, let's consider the following dataset of ages of 10 people:\n",
    "\n",
    "23, 25, 22, 27, 28, 21, 24, 26, 23, 24\n",
    "\n",
    "The mean of the dataset is:\n",
    "\n",
    "(23 + 25 + 22 + 27 + 28 + 21 + 24 + 26 + 23 + 24) / 10 = 24.3\n",
    "\n",
    "The range of the dataset is:\n",
    "\n",
    "28 - 21 = 7\n",
    "\n",
    "The variance of the dataset is:\n",
    "\n",
    "((23 - 24.3)^2 + (25 - 24.3)^2 + (22 - 24.3)^2 + (27 - 24.3)^2 + (28 - 24.3)^2 + (21 - 24.3)^2 + (24 - 24.3)^2 + (26 - 24.3)^2 + (23 - 24.3)^2 + (24 - 24.3)^2) / 10 = 4.21\n",
    "\n",
    "The standard deviation of the dataset is:\n",
    "\n",
    "sqrt(4.21) = 2.05\n",
    "\n",
    "From this, we can see that the range of the ages is 7, meaning that the oldest person in the dataset is 7 years older than the youngest person. The variance of the ages is 4.21, indicating that the data is spread out from the mean by an average of about 2.05 years. The standard deviation provides the same information but is more easily interpretable as the distance of the data points from the mean in terms of the original units (years in this case).\n",
    "\n",
    "\n",
    "\n"
   ]
  },
  {
   "cell_type": "markdown",
   "id": "1cc61053-8ae5-45d2-9894-f2388ae16a24",
   "metadata": {},
   "source": [
    "### Q6. What is a Venn diagram?"
   ]
  },
  {
   "cell_type": "markdown",
   "id": "012156a5-a12b-49b3-9643-3b2ec7c0ccd1",
   "metadata": {},
   "source": [
    "A Venn diagram is a visual tool used to show the relationships between sets of items. It is composed of overlapping circles or ellipses, each representing a set, and the areas of overlap representing the elements that belong to both sets. Venn diagrams are named after John Venn, who introduced them in the late 19th century.\n",
    "\n",
    "Venn diagrams can be used to represent a wide range of relationships between sets, such as inclusion, intersection, union, and complement. They are commonly used in mathematics, logic, statistics, and other fields to illustrate concepts such as set theory, probability, and logical reasoning.\n",
    "\n",
    "Venn diagrams can have two or more sets, and the number of sets is represented by the number of overlapping circles. The diagram can be shaded or colored to show the areas of overlap or non-overlap between the sets, depending on the purpose of the diagram. Venn diagrams can also be used to compare and contrast different groups or categories of items, such as in market research or social studies."
   ]
  },
  {
   "cell_type": "markdown",
   "id": "7ac2e2a5-8b7b-4dd4-86fe-101ffc0b93af",
   "metadata": {},
   "source": [
    "### Q7. For the two given sets A = (2,3,4,5,6,7) & B = (0,2,6,8,10). Find:\n",
    "(i) A ⋂ B\n",
    "(ii) A ⋃ B"
   ]
  },
  {
   "cell_type": "markdown",
   "id": "d5c3bbe9-b0a6-4413-9a95-c3c172a0bb4b",
   "metadata": {},
   "source": [
    "The intersection (⋂) of two sets A and B contains the elements that are common to both A and B. The union (⋃) of two sets A and B contains all the elements that are in either A or B (or in both).\n",
    "\n",
    "Given A = (2, 3, 4, 5, 6, 7) and B = (0, 2, 6, 8, 10), we can find:\n",
    "\n",
    "(i) A ⋂ B\n",
    "\n",
    "The elements that are common to both sets A and B are 2 and 6, so their intersection is:\n",
    "\n",
    "A ⋂ B = {2, 6}\n",
    "\n",
    "(ii) A ⋃ B\n",
    "\n",
    "The union of sets A and B contains all the elements in both sets, without duplication:\n",
    "\n",
    "A ⋃ B = {0, 2, 3, 4, 5, 6, 7, 8, 10}\n",
    "\n",
    "Therefore, the answer is:\n",
    "\n",
    "(i) A ⋂ B = {2, 6}\n",
    "(ii) A ⋃ B = {0, 2, 3, 4, 5, 6, 7, 8, 10}"
   ]
  },
  {
   "cell_type": "markdown",
   "id": "1f61eddf-4d97-4fb5-af60-10088695a6a7",
   "metadata": {},
   "source": [
    "### Q8. What do you understand about skewness in data?"
   ]
  },
  {
   "cell_type": "markdown",
   "id": "98d02dd2-c5f9-440e-9278-f04ece0cd0f4",
   "metadata": {},
   "source": [
    "Skewness is a measure of the asymmetry of a probability distribution or a dataset. It measures how much the shape of the distribution deviates from a symmetric distribution, such as the normal distribution.\n",
    "\n",
    "If the dataset is symmetric, then the mean, median, and mode will be the same, and the skewness will be zero. If the dataset is positively skewed, then the tail of the distribution will be longer on the right-hand side, and the mean will be greater than the median. If the dataset is negatively skewed, then the tail of the distribution will be longer on the left-hand side, and the mean will be less than the median.\n",
    "\n",
    "Skewness is important to consider when analyzing a dataset because it can affect the interpretation of the data and the results of statistical tests. For example, if a dataset is positively skewed, then the mean may not be an appropriate measure of central tendency, and the median may be a better representation of the center of the data. Similarly, if a dataset is negatively skewed, the median may not be an appropriate measure of central tendency, and the mean may be a better representation of the center of the data.\n",
    "\n",
    "Skewness can be calculated using various measures, such as the Pearson's skewness coefficient, which is a standardized measure of skewness that is calculated as the third standardized moment of the data. Alternatively, skewness can also be observed visually by looking at a histogram or a box plot of the data, where a longer tail on one side than the other can indicate positive or negative skewness, respectively.\n",
    "\n",
    "\n",
    "\n",
    "\n",
    "\n"
   ]
  },
  {
   "cell_type": "markdown",
   "id": "dabe7f73-f814-4c63-81cb-bc3caeafa5d1",
   "metadata": {},
   "source": [
    "### Q9. If a data is right skewed then what will be the position of median with respect to mean?"
   ]
  },
  {
   "cell_type": "markdown",
   "id": "8abae2bd-a252-4e0e-804e-740d57cbad1e",
   "metadata": {},
   "source": [
    "If a dataset is right-skewed, then the tail of the distribution will be longer on the right-hand side, and the distribution will be pulled towards the higher values. In this case, the mean will be greater than the median.\n",
    "\n",
    "The reason for this is that the mean is influenced by extreme values in the dataset, such as outliers, whereas the median is not. As a result, when a dataset is right-skewed, the mean is pulled towards the higher values in the tail of the distribution, causing it to be greater than the median, which is less influenced by those extreme values.\n",
    "\n",
    "For example, consider a dataset of salaries in a company, where the majority of employees earn low salaries, but a few employees earn very high salaries. In this case, the distribution of salaries would be right-skewed, with a longer tail on the right-hand side due to the high salaries. The mean salary would be greater than the median salary because the high salaries would increase the mean, but not the median."
   ]
  },
  {
   "cell_type": "markdown",
   "id": "a1a87dae-b590-4539-9299-f3f24abbd99f",
   "metadata": {},
   "source": [
    "### Q10. Explain the difference between covariance and correlation. How are these measures used in statistical analysis?"
   ]
  },
  {
   "cell_type": "markdown",
   "id": "e3cf6195-2690-44a8-be17-bc59dabd48be",
   "metadata": {},
   "source": [
    "Covariance and correlation are two measures used in statistical analysis to describe the relationship between two variables. While they are related concepts, they are different in some important ways.\n",
    "\n",
    "Covariance is a measure of the degree to which two variables change together. Specifically, it measures how much two variables vary together from their respective means. Covariance can be positive or negative, depending on whether the two variables tend to move in the same direction (positive covariance) or opposite directions (negative covariance). A covariance of zero indicates that the two variables are uncorrelated.\n",
    "\n",
    "Correlation, on the other hand, is a standardized measure of the relationship between two variables. It measures the degree to which two variables are linearly related to each other, and the strength and direction of the relationship. Correlation can range from -1 (perfect negative correlation) to +1 (perfect positive correlation), with a correlation of 0 indicating no linear relationship between the variables.\n",
    "\n",
    "The key difference between covariance and correlation is that covariance is not standardized, meaning that it is affected by the scale of the variables, whereas correlation is standardized, meaning that it is not affected by the scale of the variables. This means that correlation is a more useful measure when comparing the strength of the relationship between variables that are measured on different scales.\n",
    "\n",
    "Both covariance and correlation are used in statistical analysis to explore the relationship between variables. They can be used to identify patterns and relationships in data, to test hypotheses about the relationship between variables, and to develop models that can be used to make predictions about future data.\n",
    "\n",
    "For example, covariance and correlation can be used in finance to explore the relationship between the returns of two stocks, to identify whether they tend to move in the same direction or not. In medicine, covariance and correlation can be used to explore the relationship between two health outcomes, such as BMI and blood pressure, to identify potential risk factors for disease."
   ]
  },
  {
   "cell_type": "markdown",
   "id": "9f78e820-3f64-45b0-851a-699f83dd62ad",
   "metadata": {},
   "source": [
    "### Q11. What is the formula for calculating the sample mean? Provide an example calculation for a dataset."
   ]
  },
  {
   "cell_type": "markdown",
   "id": "1849e615-f73d-46ec-9abf-3fcdf231a113",
   "metadata": {},
   "source": [
    "The formula for calculating the sample mean is:\n",
    "\n",
    "Sample mean = (sum of all values in the sample) / (number of values in the sample)\n",
    "\n",
    "In mathematical notation, it can be expressed as:\n",
    "\n",
    "x̄ = (Σx) / n\n",
    "\n",
    "where x̄ is the sample mean, Σx is the sum of all values in the sample, and n is the number of values in the sample.\n",
    "\n",
    "Here's an example calculation:\n",
    "\n",
    "Consider the following dataset:\n",
    "\n",
    "5, 8, 12, 15, 18\n",
    "\n",
    "To calculate the sample mean, we need to add up all the values in the dataset and divide by the number of values:\n",
    "\n",
    "x̄ = (5 + 8 + 12 + 15 + 18) / 5\n",
    "x̄ = 58 / 5\n",
    "x̄ = 11.6\n",
    "\n",
    "Therefore, the sample mean of the dataset is 11.6."
   ]
  },
  {
   "cell_type": "markdown",
   "id": "dad6f284-5f73-4236-99e2-441f34df6726",
   "metadata": {},
   "source": [
    "### Q12. For a normal distribution data what is the relationship between its measure of central tendency?"
   ]
  },
  {
   "cell_type": "markdown",
   "id": "df8de0c3-51c3-4dd7-b097-1dcd89cb24a0",
   "metadata": {},
   "source": [
    "For a normal distribution, the three measures of central tendency (i.e., mean, median, and mode) are equal. In other words, they are all located at the center of the distribution. This is because a normal distribution is a symmetrical distribution, meaning that it is perfectly balanced around its central point.\n",
    "\n",
    "The mean of a normal distribution is the most commonly used measure of central tendency, as it takes into account all values in the dataset and provides a precise estimate of the central point. The median and mode are also useful measures of central tendency in certain situations, such as when dealing with skewed distributions or when there are extreme values in the dataset.\n",
    "\n",
    "However, in a normal distribution, the mean, median, and mode will be the same value, indicating that the data is perfectly balanced around the central point. This property of normal distributions makes them particularly useful in statistical analysis, as they allow for the use of powerful inferential techniques that rely on the assumption of normality."
   ]
  },
  {
   "cell_type": "markdown",
   "id": "123e3090-c361-4857-b835-8ee32e25d187",
   "metadata": {},
   "source": [
    "### Q13. How is covariance different from correlation?"
   ]
  },
  {
   "cell_type": "markdown",
   "id": "7464b0a6-e313-4cc1-b542-c4af2a7c4d3d",
   "metadata": {},
   "source": [
    "Covariance and correlation are both measures of the relationship between two variables, but they differ in some important ways:\n",
    "\n",
    "Units of Measurement: Covariance is measured in units that are the product of the units of the two variables being analyzed (e.g., meters squared or dollars squared), while correlation is a unitless measure that ranges from -1 to +1.\n",
    "\n",
    "Interpretation: Covariance measures the degree and direction of the linear relationship between two variables, but it is difficult to interpret the magnitude of the covariance because its value depends on the scale of the variables. Correlation, on the other hand, provides a standardized measure of the strength and direction of the linear relationship between two variables, so it is easier to interpret.\n",
    "\n",
    "Range of Values: Covariance can take on any value, from negative infinity to positive infinity, while correlation is always between -1 and +1.\n",
    "\n",
    "Scale Sensitivity: Covariance is sensitive to the scale of the variables, which means that changes in the scale of one or both variables can change the value of the covariance. Correlation, on the other hand, is not affected by the scale of the variables.\n",
    "\n",
    "In summary, covariance and correlation both measure the relationship between two variables, but correlation is a more useful measure because it is standardized and not affected by the scale of the variables.\n",
    "\n",
    "\n",
    "\n"
   ]
  },
  {
   "cell_type": "markdown",
   "id": "07344ee0-a1c7-4351-88fd-edfe248dcc99",
   "metadata": {},
   "source": [
    "### Q14. How do outliers affect measures of central tendency and dispersion? Provide an example."
   ]
  },
  {
   "cell_type": "markdown",
   "id": "04eca81b-be04-42d5-ae36-f1de8bdd54e0",
   "metadata": {},
   "source": [
    "Outliers are data points that are significantly different from the other values in a dataset. They can have a significant impact on measures of central tendency and dispersion.\n",
    "\n",
    "In terms of measures of central tendency, outliers can have a large effect on the mean but little effect on the median or mode. This is because the mean is calculated by taking the sum of all values in the dataset and dividing by the number of values, so an outlier that is much larger or smaller than the other values can greatly influence the overall average. The median and mode, on the other hand, are not affected by extreme values, as they only take into account the middle or most common value(s) in the dataset.\n",
    "\n",
    "In terms of measures of dispersion, outliers can have a large effect on the range, variance, and standard deviation. The range is simply the difference between the largest and smallest values in the dataset, so an outlier that is much larger or smaller than the other values can greatly increase the range. The variance and standard deviation, which are measures of how spread out the data is from the mean, can also be greatly affected by outliers. This is because these measures take into account the difference between each value in the dataset and the mean, so an outlier that is much larger or smaller than the other values can greatly increase the average distance between the values and the mean.\n",
    "\n",
    "Here's an example:\n",
    "\n",
    "Consider the following dataset:\n",
    "\n",
    "5, 8, 12, 15, 18, 100\n",
    "\n",
    "The outlier value of 100 greatly affects the mean, increasing it from 12.7 to 28.3. However, the median and mode remain unchanged at 12 and there is a single mode. The range is now 95, which is much larger than the range without the outlier (13). The variance and standard deviation are also greatly increased, indicating that the data is much more spread out from the mean due to the outlier value."
   ]
  },
  {
   "cell_type": "code",
   "execution_count": null,
   "id": "584f6a21-d87c-46e2-8ec7-ab50f99a0e70",
   "metadata": {},
   "outputs": [],
   "source": []
  }
 ],
 "metadata": {
  "kernelspec": {
   "display_name": "Python 3 (ipykernel)",
   "language": "python",
   "name": "python3"
  },
  "language_info": {
   "codemirror_mode": {
    "name": "ipython",
    "version": 3
   },
   "file_extension": ".py",
   "mimetype": "text/x-python",
   "name": "python",
   "nbconvert_exporter": "python",
   "pygments_lexer": "ipython3",
   "version": "3.10.8"
  }
 },
 "nbformat": 4,
 "nbformat_minor": 5
}
