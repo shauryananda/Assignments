{
 "cells": [
  {
   "cell_type": "markdown",
   "id": "720f588a-5dba-45c8-9c7d-37dcf5e64525",
   "metadata": {},
   "source": [
    "### Q1. Create a python program to sort the given list of tuples based on integer value using a lambda function.\n",
    "### [('Sachin Tendulkar', 34357), ('Ricky Ponting', 27483), ('Jack Kallis', 25534), ('Virat Kohli', 24936)]"
   ]
  },
  {
   "cell_type": "code",
   "execution_count": 2,
   "id": "34705027-0741-4dfd-8a74-072566cb11aa",
   "metadata": {},
   "outputs": [
    {
     "name": "stdout",
     "output_type": "stream",
     "text": [
      "[('Virat Kohli', 24936), ('Jack Kallis', 25534), ('Ricky Ponting', 27483), ('Sachin Tendulkar', 34357)]\n"
     ]
    }
   ],
   "source": [
    "my_list = [('Sachin Tendulkar', 34357), ('Ricky Ponting', 27483), ('Jack Kallis', 25534), ('Virat Kohli', 24936)]\n",
    "\n",
    "sorted_list = sorted(my_list, key=lambda x: x[1], reverse=False)\n",
    "\n",
    "print(sorted_list)"
   ]
  },
  {
   "cell_type": "markdown",
   "id": "6c2f1c9c-b259-4cc3-af90-188e3444bfcc",
   "metadata": {},
   "source": [
    "We first define a list of tuples called my_list.\n",
    "\n",
    "We then use the sorted() function to sort the list based on the integer value in each tuple. We pass a key parameter to sorted() that specifies the criterion for sorting. \n",
    "\n",
    "Here, we use a lambda function that takes in a tuple x and returns its second element, which is the integer value we want to sort by. We also set reverse=True to sort the list in descending order.Finally, we print the sorted list."
   ]
  },
  {
   "cell_type": "markdown",
   "id": "ba635890-c28f-45ae-a831-814fdba0232e",
   "metadata": {},
   "source": [
    "### Q2. Write a Python Program to find the squares of all the numbers in the given list of integers using lambda and map functions.\n",
    "\n",
    "### [1, 2, 3, 4, 5, 6, 7, 8, 9, 10]"
   ]
  },
  {
   "cell_type": "code",
   "execution_count": 3,
   "id": "1d6f61a3-9875-476e-a9cb-3997de43458e",
   "metadata": {},
   "outputs": [
    {
     "name": "stdout",
     "output_type": "stream",
     "text": [
      "[1, 4, 9, 16, 25, 36, 49, 64, 81, 100]\n"
     ]
    }
   ],
   "source": [
    "my_list = [1, 2, 3, 4, 5, 6, 7, 8, 9, 10]\n",
    "\n",
    "squares = list(map(lambda x: x**2, my_list))\n",
    "\n",
    "print(squares)"
   ]
  },
  {
   "cell_type": "markdown",
   "id": "3c888c22-61b0-48e7-94ea-5fc3ab73b71a",
   "metadata": {},
   "source": [
    "We first define a list of integers called my_list.\n",
    "\n",
    "We then use the map() function to apply a lambda function to each element in my_list. The lambda function takes in a number x and returns its square x**2.\n",
    "\n",
    "We convert the result of map() to a list using the list() function and assign it to a variable called squares.\n",
    "\n",
    "Finally, we print the list of squares."
   ]
  },
  {
   "cell_type": "markdown",
   "id": "9bafb35f-7b30-49a2-8f44-82d33c1b6f93",
   "metadata": {},
   "source": [
    "### Q3. Write a python program to convert the given list of integers into a tuple of strings. Use map and lambda functions\n",
    "### Given String: [1, 2, 3, 4, 5, 6, 7, 8, 9, 10]\n",
    "### Expected output: ('1', '2', '3', '4', '5', '6', '7', '8', '9', '10')"
   ]
  },
  {
   "cell_type": "code",
   "execution_count": 4,
   "id": "f11956a5-12f2-4eaf-9a24-e0584348ba02",
   "metadata": {},
   "outputs": [
    {
     "name": "stdout",
     "output_type": "stream",
     "text": [
      "('1', '2', '3', '4', '5', '6', '7', '8', '9', '10')\n"
     ]
    }
   ],
   "source": [
    "my_list = [1, 2, 3, 4, 5, 6, 7, 8, 9, 10]\n",
    "\n",
    "my_tuple = tuple(map(lambda x: str(x), my_list))\n",
    "\n",
    "print(my_tuple)"
   ]
  },
  {
   "cell_type": "markdown",
   "id": "20a38d5b-7545-43ff-8ef2-9803a91b7167",
   "metadata": {},
   "source": [
    "We first define a list of integers called my_list.\n",
    "\n",
    "We then use the map() function to apply a lambda function to each element in my_list. The lambda function takes in a number x and converts it to a string using the str() function.\n",
    "\n",
    "We convert the result of map() to a tuple using the tuple() function and assign it to a variable called my_tuple.\n",
    "\n",
    "Finally, we print the tuple of strings."
   ]
  },
  {
   "cell_type": "markdown",
   "id": "2f9b083b-f6ac-41e5-97a8-fa90c33eb3d8",
   "metadata": {},
   "source": [
    "### Q4. Write a python program using reduce function to compute the product of a list containing numbers from 1 to 25."
   ]
  },
  {
   "cell_type": "code",
   "execution_count": 5,
   "id": "6cfcd813-6a27-4fb6-9592-f8195455126d",
   "metadata": {},
   "outputs": [
    {
     "name": "stdout",
     "output_type": "stream",
     "text": [
      "15511210043330985984000000\n"
     ]
    }
   ],
   "source": [
    "from functools import reduce\n",
    "\n",
    "my_list = list(range(1, 26))\n",
    "\n",
    "product = reduce(lambda x, y: x * y, my_list)\n",
    "\n",
    "print(product)"
   ]
  },
  {
   "cell_type": "markdown",
   "id": "42309eca-2ae4-45e8-b485-ea3a6ae347fa",
   "metadata": {},
   "source": [
    "We first import the reduce() function from the functools module.\n",
    "\n",
    "We define a list called my_list containing numbers from 1 to 25 using the range() function and the list() function.\n",
    "\n",
    "We use the reduce() function to apply a lambda function to each pair of elements in my_list and accumulate the result. \n",
    "\n",
    "The lambda function takes in two numbers x and y and returns their product x*y.\n",
    "\n",
    "Finally, we print the product of all the numbers in the list.\n"
   ]
  },
  {
   "cell_type": "markdown",
   "id": "51f4f1e5-d182-4961-b2c0-62ea52347027",
   "metadata": {},
   "source": [
    "### Q5. Write a python program to filter the numbers in a given list that are divisible by 2 and 3 using the filter function.\n",
    "\n",
    "### [2, 3, 6, 9, 27, 60, 90, 120, 55, 46]"
   ]
  },
  {
   "cell_type": "code",
   "execution_count": 6,
   "id": "2b2a4780-5f38-40f7-9f5f-394fc6eeef74",
   "metadata": {},
   "outputs": [
    {
     "name": "stdout",
     "output_type": "stream",
     "text": [
      "[6, 60, 90, 120]\n"
     ]
    }
   ],
   "source": [
    "my_list = [2, 3, 6, 9, 27, 60, 90, 120, 55, 46]\n",
    "\n",
    "result = list(filter(lambda x: x % 2 == 0 and x % 3 == 0, my_list))\n",
    "\n",
    "print(result)\n"
   ]
  },
  {
   "cell_type": "markdown",
   "id": "df89affd-3b4d-400f-997b-ec0282c69fe4",
   "metadata": {},
   "source": [
    "We first define a list of numbers called my_list.\n",
    "\n",
    "We use the filter() function to apply a lambda function to each element in my_list and return only those that are divisible by both 2 and 3. \n",
    "The lambda function takes in a number x and returns True if it is divisible by 2 and 3, and False otherwise.\n",
    "\n",
    "We convert the result of filter() to a list using the list() function and assign it to a variable called result.\n",
    "\n",
    "Finally, we print the filtered list of numbers."
   ]
  },
  {
   "cell_type": "markdown",
   "id": "344aa2fd-2c1e-4b06-962c-78b930976d59",
   "metadata": {},
   "source": [
    "### Q6. Write a python program to find palindromes in the given list of strings using lambda and filter function.\n",
    "\n",
    "### ['python', 'php', 'aba', 'radar', 'level']"
   ]
  },
  {
   "cell_type": "code",
   "execution_count": 7,
   "id": "d8592ce5-2722-4883-bf3f-2f1581f33e5e",
   "metadata": {},
   "outputs": [
    {
     "name": "stdout",
     "output_type": "stream",
     "text": [
      "['php', 'aba', 'radar', 'level']\n"
     ]
    }
   ],
   "source": [
    "my_list = ['python', 'php', 'aba', 'radar', 'level']\n",
    "\n",
    "result = list(filter(lambda x: x == x[::-1], my_list))\n",
    "\n",
    "print(result)"
   ]
  },
  {
   "cell_type": "markdown",
   "id": "ca0c1494-a44b-41de-aa97-85aec2ea4919",
   "metadata": {},
   "source": [
    "We first define a list of strings called my_list.\n",
    "\n",
    "We use the filter() function to apply a lambda function to each element in my_list and return only those that are palindromes. The lambda function takes in a string x and checks if it is equal to its reverse x[::-1].\n",
    "\n",
    "We convert the result of filter() to a list using the list() function and assign it to a variable called result.\n",
    "\n",
    "Finally, we print the list of palindromes."
   ]
  },
  {
   "cell_type": "code",
   "execution_count": null,
   "id": "a98bda2c-30e6-40b5-beb2-b6d9e514de89",
   "metadata": {},
   "outputs": [],
   "source": []
  }
 ],
 "metadata": {
  "kernelspec": {
   "display_name": "Python 3 (ipykernel)",
   "language": "python",
   "name": "python3"
  },
  "language_info": {
   "codemirror_mode": {
    "name": "ipython",
    "version": 3
   },
   "file_extension": ".py",
   "mimetype": "text/x-python",
   "name": "python",
   "nbconvert_exporter": "python",
   "pygments_lexer": "ipython3",
   "version": "3.10.8"
  }
 },
 "nbformat": 4,
 "nbformat_minor": 5
}
