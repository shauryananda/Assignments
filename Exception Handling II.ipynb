{
 "cells": [
  {
   "cell_type": "markdown",
   "id": "3c28fc88-c348-4bb6-a4f4-4488ad8fd19c",
   "metadata": {},
   "source": [
    "### Q1. Explain why we have to use the Exception class while creating a Custom Exception."
   ]
  },
  {
   "cell_type": "markdown",
   "id": "61a364d1-51ec-40e8-a917-91d742e0aa4e",
   "metadata": {},
   "source": [
    "Exceptions are used to indicate that something unexpected or exceptional has occurred during the execution of a program. When an exception is raised, the program execution stops and the exception is propagated up the call stack until it is caught and handled by an exception handler.\n",
    "\n",
    "In order to create a custom exception, we need to define a new class that inherits from the built-in Exception class or one of its subclasses. By doing this, our custom exception class gains all the functionality of the base exception class and can also add additional features specific to our custom exception.\n",
    "\n",
    "Using the Exception class as the base class for our custom exception is important because it provides the essential features and behavior of an exception, such as a string representation of the exception, a stack trace, and the ability to be caught and handled by an exception handler. Additionally, by inheriting from Exception, our custom exception will be recognized as an exception type by the programming language and its libraries, making it easier to use and integrate into our code.\n",
    "\n",
    "Therefore, using the Exception class as the base class for our custom exception is essential to ensure that our exception is properly recognized and handled within the context of our program.\n",
    "\n",
    "\n",
    "\n",
    "\n"
   ]
  },
  {
   "cell_type": "markdown",
   "id": "3673c22d-57a0-42fc-81a7-660860d04892",
   "metadata": {},
   "source": [
    "### Q2. Write a python program to print Python Exception Hierarchy."
   ]
  },
  {
   "cell_type": "code",
   "execution_count": 1,
   "id": "027dc1e8-f52c-4a84-892c-192ee060967c",
   "metadata": {},
   "outputs": [
    {
     "name": "stdout",
     "output_type": "stream",
     "text": [
      "ArithmeticError\n",
      "AssertionError\n",
      "AttributeError\n",
      "BaseException\n",
      "BlockingIOError\n",
      "BrokenPipeError\n",
      "BufferError\n",
      "BytesWarning\n",
      "ChildProcessError\n",
      "ConnectionAbortedError\n",
      "ConnectionError\n",
      "ConnectionRefusedError\n",
      "ConnectionResetError\n",
      "DeprecationWarning\n",
      "EOFError\n",
      "EncodingWarning\n",
      "EnvironmentError\n",
      "Exception\n",
      "FileExistsError\n",
      "FileNotFoundError\n",
      "FloatingPointError\n",
      "FutureWarning\n",
      "GeneratorExit\n",
      "IOError\n",
      "ImportError\n",
      "ImportWarning\n",
      "IndentationError\n",
      "IndexError\n",
      "InterruptedError\n",
      "IsADirectoryError\n",
      "KeyError\n",
      "KeyboardInterrupt\n",
      "LookupError\n",
      "MemoryError\n",
      "ModuleNotFoundError\n",
      "NameError\n",
      "NotADirectoryError\n",
      "NotImplementedError\n",
      "OSError\n",
      "OverflowError\n",
      "PendingDeprecationWarning\n",
      "PermissionError\n",
      "ProcessLookupError\n",
      "RecursionError\n",
      "ReferenceError\n",
      "ResourceWarning\n",
      "RuntimeError\n",
      "RuntimeWarning\n",
      "StopAsyncIteration\n",
      "StopIteration\n",
      "SyntaxError\n",
      "SyntaxWarning\n",
      "SystemError\n",
      "SystemExit\n",
      "TabError\n",
      "TimeoutError\n",
      "TypeError\n",
      "UnboundLocalError\n",
      "UnicodeDecodeError\n",
      "UnicodeEncodeError\n",
      "UnicodeError\n",
      "UnicodeTranslateError\n",
      "UnicodeWarning\n",
      "UserWarning\n",
      "ValueError\n",
      "Warning\n",
      "ZeroDivisionError\n"
     ]
    }
   ],
   "source": [
    "import inspect\n",
    "\n",
    "def print_exception_hierarchy():\n",
    "    for name, obj in inspect.getmembers(__builtins__):\n",
    "        if inspect.isclass(obj) and issubclass(obj, BaseException):\n",
    "            print(name)\n",
    "\n",
    "print_exception_hierarchy()\n"
   ]
  },
  {
   "cell_type": "markdown",
   "id": "2962f7b4-38b3-4376-9ef4-3a7c064cf4e5",
   "metadata": {},
   "source": [
    "The inspect module allows us to introspect Python objects and retrieve information about them, such as their attributes, methods, and inheritance hierarchy. In this case, we use inspect.getmembers to retrieve all the objects defined in the __builtins__ module, which contains all the built-in objects and functions in Python.\n",
    "\n",
    "We then iterate over these objects and check if they are classes that inherit from the BaseException class. If they are, we print their name, which corresponds to the name of the exception type.\n",
    "\n",
    "When we run this program, it will print the names of all the built-in exception types in Python, in hierarchical order, from the most general to the most specific. This includes exception types such as Exception, ArithmeticError, ZeroDivisionError, FileNotFoundError, IndexError, and many others."
   ]
  },
  {
   "cell_type": "markdown",
   "id": "2a652ec4-fc20-4b44-bc75-12e41e9350de",
   "metadata": {},
   "source": [
    "### Q3. What errors are defined in the ArithmeticError class? Explain any two with an example."
   ]
  },
  {
   "cell_type": "markdown",
   "id": "1e8dd48a-6a26-4bb6-a47f-63108e88affc",
   "metadata": {},
   "source": [
    "The ArithmeticError class is a built-in exception class in Python that serves as a base class for all arithmetic-related errors. This class inherits from the Exception class, which is the base class for all exceptions in Python.\n",
    "\n",
    "Some of the errors defined in the ArithmeticError class include:\n",
    "\n",
    "ZeroDivisionError: raised when attempting to divide a number by zero.\n",
    "\n",
    "OverflowError: raised when a calculation exceeds the maximum representable value for a numeric type.\n",
    "\n",
    "FloatingPointError: raised when a floating-point calculation fails to produce a valid result.\n",
    "\n",
    "ValueError: raised when an argument is of the correct type but has an inappropriate value.\n",
    "\n",
    "TypeError: raised when an argument is of the wrong type."
   ]
  },
  {
   "cell_type": "code",
   "execution_count": 2,
   "id": "ddb89dee-7076-4e38-a6fe-86e92e03088f",
   "metadata": {},
   "outputs": [
    {
     "name": "stdout",
     "output_type": "stream",
     "text": [
      "Cannot divide by zero!\n"
     ]
    }
   ],
   "source": [
    "x = 10\n",
    "y = 0\n",
    "\n",
    "try:\n",
    "    result = x / y\n",
    "except ZeroDivisionError:\n",
    "    print(\"Cannot divide by zero!\")\n",
    "else:\n",
    "    print(result)\n"
   ]
  },
  {
   "cell_type": "markdown",
   "id": "48ded45a-0cea-42e1-a45f-918b4cbed0b4",
   "metadata": {},
   "source": [
    "In this example, we attempt to divide the variable x by zero, which will raise a ZeroDivisionError exception. We catch this exception using a try/except block and print a custom error message. If the division had succeeded, we would print the result."
   ]
  },
  {
   "cell_type": "markdown",
   "id": "9f9dc0ee-5e34-4265-b683-edaebe1122f2",
   "metadata": {},
   "source": [
    "OverflowError"
   ]
  },
  {
   "cell_type": "code",
   "execution_count": 3,
   "id": "3a5bb425-a206-4099-8f21-ee0b3d236643",
   "metadata": {},
   "outputs": [
    {
     "name": "stdout",
     "output_type": "stream",
     "text": [
      "18446744073709551614\n"
     ]
    }
   ],
   "source": [
    "import sys\n",
    "\n",
    "x = sys.maxsize\n",
    "y = 2\n",
    "\n",
    "try:\n",
    "    result = x * y\n",
    "except OverflowError:\n",
    "    print(\"Result is too large to represent!\")\n",
    "else:\n",
    "    print(result)"
   ]
  },
  {
   "cell_type": "markdown",
   "id": "9f1d70d8-5edd-45e8-a194-2d3903e6578f",
   "metadata": {},
   "source": [
    "We attempt to multiply the variable x by 2, which will result in a value that exceeds the maximum representable value for a sys.maxsize-sized integer. This will raise an OverflowError exception. We catch this exception using a try/except block and print a custom error message. If the multiplication had succeeded, we would print the result."
   ]
  },
  {
   "cell_type": "markdown",
   "id": "80599726-4dcb-4f1b-9400-cfab68681137",
   "metadata": {},
   "source": [
    "### Q4. Why LookupError class is used? Explain with an example KeyError and IndexError./"
   ]
  },
  {
   "cell_type": "markdown",
   "id": "7b93dcda-2a85-41e0-8aca-c5bc34e8cf1c",
   "metadata": {},
   "source": [
    "The LookupError class is a built-in exception class in Python that serves as a base class for all lookup-related errors. This class inherits from the Exception class, which is the base class for all exceptions in Python.\n",
    "\n",
    "The LookupError class is used to represent errors that occur when attempting to access an element in a collection or container that does not exist. It serves as a base class for several other more specific lookup-related errors, such as IndexError and KeyError.\n",
    "\n",
    "Here are two examples of lookup-related errors defined in the LookupError class:\n",
    "\n",
    "KeyError"
   ]
  },
  {
   "cell_type": "code",
   "execution_count": 4,
   "id": "ac9106e3-4488-4aac-ab3c-5636d87f2861",
   "metadata": {},
   "outputs": [
    {
     "name": "stdout",
     "output_type": "stream",
     "text": [
      "Key not found in dictionary!\n"
     ]
    }
   ],
   "source": [
    "d = {'a': 1, 'b': 2, 'c': 3}\n",
    "\n",
    "try:\n",
    "    value = d['d']\n",
    "except KeyError:\n",
    "    print(\"Key not found in dictionary!\")\n",
    "else:\n",
    "    print(value)"
   ]
  },
  {
   "cell_type": "markdown",
   "id": "4487bc1d-e288-4ecf-beab-20b24afb473e",
   "metadata": {},
   "source": [
    "We attempt to access the value associated with the key 'd' in the dictionary d. However, this key does not exist in the dictionary, so attempting to access it will raise a KeyError exception. We catch this exception using a try/except block and print a custom error message. If the key had existed in the dictionary, we would print its associated value."
   ]
  },
  {
   "cell_type": "markdown",
   "id": "093b3327-48e7-4061-bf13-e116268cc6d0",
   "metadata": {},
   "source": [
    "IndexError"
   ]
  },
  {
   "cell_type": "code",
   "execution_count": 5,
   "id": "205389a5-5c0c-44b2-9055-2b7eb2e92b46",
   "metadata": {},
   "outputs": [
    {
     "name": "stdout",
     "output_type": "stream",
     "text": [
      "Index out of range!\n"
     ]
    }
   ],
   "source": [
    "lst = [1, 2, 3]\n",
    "\n",
    "try:\n",
    "    value = lst[3]\n",
    "except IndexError:\n",
    "    print(\"Index out of range!\")\n",
    "else:\n",
    "    print(value)"
   ]
  },
  {
   "cell_type": "markdown",
   "id": "bcd33324-6c27-4678-bf91-db83aa2873b9",
   "metadata": {},
   "source": [
    "We attempt to access the element at index 3 in the list lst. However, this index is out of range of the list, so attempting to access it will raise an IndexError exception. We catch this exception using a try/except block and print a custom error message. If the index had been within the range of the list, we would print the corresponding element."
   ]
  },
  {
   "cell_type": "markdown",
   "id": "e87d0db1-ad74-456f-a3b8-e68e93b10bf5",
   "metadata": {},
   "source": [
    "### Q5. Explain ImportError. What is ModuleNotFoundError?"
   ]
  },
  {
   "cell_type": "markdown",
   "id": "fb730173-1010-4515-8650-2362965916d5",
   "metadata": {},
   "source": [
    "ImportError is a built-in exception class in Python that is raised when an import statement fails to find a module or when there is a problem importing a module. This can happen for several reasons, such as:\n",
    "\n",
    "The module does not exist.\n",
    "The module is not in the search path.\n",
    "The module has syntax errors or other problems that prevent it from being imported.\n",
    "The module depends on other modules or packages that are not installed or not available.\n",
    "When an ImportError occurs, it usually means that there is a problem with the code or the environment, and it can be difficult to diagnose and fix.\n",
    "\n",
    "ModuleNotFoundError is a subclass of ImportError that was introduced in Python 3.6 to provide a more specific error message when a module cannot be found. It is raised when an import statement fails to find a module that is not built-in or part of the standard library."
   ]
  },
  {
   "cell_type": "code",
   "execution_count": 6,
   "id": "e32f5814-5831-4b33-bede-262526f4e242",
   "metadata": {},
   "outputs": [
    {
     "ename": "ModuleNotFoundError",
     "evalue": "No module named 'non_existent_module'",
     "output_type": "error",
     "traceback": [
      "\u001b[0;31m---------------------------------------------------------------------------\u001b[0m",
      "\u001b[0;31mModuleNotFoundError\u001b[0m                       Traceback (most recent call last)",
      "Cell \u001b[0;32mIn[6], line 1\u001b[0m\n\u001b[0;32m----> 1\u001b[0m \u001b[38;5;28;01mimport\u001b[39;00m \u001b[38;5;21;01mnon_existent_module\u001b[39;00m\n",
      "\u001b[0;31mModuleNotFoundError\u001b[0m: No module named 'non_existent_module'"
     ]
    }
   ],
   "source": [
    "import non_existent_module"
   ]
  },
  {
   "cell_type": "markdown",
   "id": "f373ee78-0189-4fb1-9153-a764b5eec37d",
   "metadata": {},
   "source": [
    "We get an ImportError exception with the following error message:"
   ]
  },
  {
   "cell_type": "markdown",
   "id": "cc6333de-be71-4969-b25a-54fdfbcb09de",
   "metadata": {},
   "source": [
    "This message tells us that the module non_existent_module could not be found, and that it is not a built-in module or part of the standard library. The ModuleNotFoundError exception was raised because the module could not be found, and it is a subclass of ImportError that provides a more specific error message."
   ]
  },
  {
   "cell_type": "markdown",
   "id": "6c8ea592-eea5-4722-ad8f-f7e1fe9b7626",
   "metadata": {},
   "source": [
    "### Q6. List down some best practices for exception handling in python."
   ]
  },
  {
   "cell_type": "markdown",
   "id": "780ded4a-2e21-4bbe-9d21-f833ac9e0986",
   "metadata": {},
   "source": [
    "Here are some best practices for exception handling in Python:\n",
    "\n",
    "Use specific exception types: Use specific exception types whenever possible, rather than catching and handling a generic Exception type. This helps to make the code more readable and maintainable, and also ensures that exceptions are caught and handled appropriately.\n",
    "\n",
    "Use try-except blocks judiciously: Use try-except blocks only for code that may raise exceptions, and avoid using them for code that is not likely to raise exceptions. This helps to keep the code clean and easy to read.\n",
    "\n",
    "Handle exceptions gracefully: Handle exceptions gracefully by providing appropriate error messages and taking appropriate action to recover from the exception, if possible. Avoid simply printing error messages and exiting the program, as this can lead to data loss or other issues.\n",
    "\n",
    "Use finally blocks for cleanup: Use finally blocks to ensure that cleanup code is executed, even if an exception is raised. This can be used to release resources or perform other cleanup tasks, regardless of whether an exception occurs.\n",
    "\n",
    "Avoid catching too many exceptions: Avoid catching too many exceptions in a single try-except block, as this can make the code harder to understand and maintain. Instead, catch only the specific exceptions that are likely to occur, and handle them appropriately.\n",
    "\n",
    "Use the with statement: Use the with statement to automatically close files, sockets, and other resources when they are no longer needed. This helps to ensure that resources are released properly, even if an exception occurs.\n",
    "\n",
    "Log exceptions: Use logging to record exceptions and other error conditions, rather than simply printing them to the console or to a file. This helps to diagnose issues and track down bugs.\n",
    "\n",
    "Use custom exceptions: Use custom exceptions to provide more meaningful error messages and to make the code more readable and maintainable. This can also help to ensure that exceptions are caught and handled appropriately."
   ]
  },
  {
   "cell_type": "code",
   "execution_count": null,
   "id": "33e1cc46-8b9c-4399-9018-a9b9aeb80ce4",
   "metadata": {},
   "outputs": [],
   "source": []
  }
 ],
 "metadata": {
  "kernelspec": {
   "display_name": "Python 3 (ipykernel)",
   "language": "python",
   "name": "python3"
  },
  "language_info": {
   "codemirror_mode": {
    "name": "ipython",
    "version": 3
   },
   "file_extension": ".py",
   "mimetype": "text/x-python",
   "name": "python",
   "nbconvert_exporter": "python",
   "pygments_lexer": "ipython3",
   "version": "3.10.8"
  }
 },
 "nbformat": 4,
 "nbformat_minor": 5
}
