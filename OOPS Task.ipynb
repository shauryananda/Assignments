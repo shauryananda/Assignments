{
 "cells": [
  {
   "cell_type": "markdown",
   "id": "e8e80db5-dcea-467b-aa34-5310bc38cc86",
   "metadata": {},
   "source": [
    "### Q1. Create a vehicle class with an init method having instance variables as name_of_vehicle, max_speed and average_of_vehicle."
   ]
  },
  {
   "cell_type": "code",
   "execution_count": 1,
   "id": "5b66b2b8-638d-4bc0-b5fe-df82c52cdcaf",
   "metadata": {},
   "outputs": [],
   "source": [
    "class Vehicle:\n",
    "    def __init__(self, name, max_speed, avg_speed):\n",
    "        self.name_of_vehicle = name\n",
    "        self.max_speed = max_speed\n",
    "        self.average_of_vehicle = avg_speed"
   ]
  },
  {
   "cell_type": "markdown",
   "id": "ee8d5256-f9fe-4457-8d16-65e724786bfe",
   "metadata": {},
   "source": [
    "In this example, the __init__ method takes three arguments: name, max_speed, and avg_speed. These arguments are used to initialize instance variables for the name_of_vehicle, max_speed, and average_of_vehicle attributes of the class.\n",
    "\n",
    "To create an instance of the Vehicle class, you can call the class constructor and pass in values for the instance variables, like this:"
   ]
  },
  {
   "cell_type": "code",
   "execution_count": 3,
   "id": "182a4216-7fab-4702-9298-21d347c3a589",
   "metadata": {},
   "outputs": [
    {
     "name": "stdout",
     "output_type": "stream",
     "text": [
      "Toyota\n",
      "200\n",
      "100\n"
     ]
    }
   ],
   "source": [
    "car = Vehicle(\"Toyota\", 200, 100)\n",
    "print(car.name_of_vehicle)  \n",
    "print(car.max_speed)  \n",
    "print(car.average_of_vehicle)"
   ]
  },
  {
   "cell_type": "markdown",
   "id": "4337c0a1-d245-4097-833b-81ec569817dc",
   "metadata": {},
   "source": [
    "This creates a Vehicle object called car, with a name_of_vehicle attribute of \"Toyota\", a max_speed attribute of 200, and an average_of_vehicle attribute of 100. We can use these attributes using dot notation"
   ]
  },
  {
   "cell_type": "markdown",
   "id": "97645522-02c6-4493-93ce-2537c7a971bc",
   "metadata": {},
   "source": [
    "### Q2. Create a child class car from the vehicle class created in Q1, which will inherit the vehicle class.\n",
    "\n",
    "\n",
    "### Create a method named seating_capacity which takes capacity as an argument and returns the name of the vehicle and its seating capacity."
   ]
  },
  {
   "cell_type": "code",
   "execution_count": 4,
   "id": "9012844a-b686-4584-bdd8-8ff4507ca926",
   "metadata": {},
   "outputs": [],
   "source": [
    "class Car(Vehicle):\n",
    "    def seating_capacity(self, capacity):\n",
    "        return f\"{self.name_of_vehicle} has a seating capacity of {capacity} people.\""
   ]
  },
  {
   "cell_type": "markdown",
   "id": "1af751f3-d611-435c-b27e-adb1e5526d4c",
   "metadata": {},
   "source": [
    "The Car class is defined as a subclass of the Vehicle class using the syntax class Car(Vehicle):. This means that the Car class inherits all the attributes and methods of the Vehicle class.\n",
    "\n",
    "The seating_capacity method takes a single argument capacity, which represents the number of people that the car can seat. Inside the method, we use string formatting to return a string that includes the name of the vehicle and its seating capacity.\n",
    "\n",
    "To create an instance of the Car class and call the seating_capacity method, we can do the following:"
   ]
  },
  {
   "cell_type": "code",
   "execution_count": 5,
   "id": "b83eaff8-025a-4747-aadb-ba4e6dcb4984",
   "metadata": {},
   "outputs": [
    {
     "name": "stdout",
     "output_type": "stream",
     "text": [
      "Toyota has a seating capacity of 5 people.\n"
     ]
    }
   ],
   "source": [
    "car = Car(\"Toyota\", 200, 100)\n",
    "print(car.seating_capacity(5))  # output: Toyota has a seating capacity of 5 people."
   ]
  },
  {
   "cell_type": "markdown",
   "id": "12d70a61-6bf2-4faa-b55e-f2b0f2e4904e",
   "metadata": {},
   "source": [
    "We create a Car object called car, passing in values for the name_of_vehicle, max_speed, and average_of_vehicle attributes. Then we call the seating_capacity method on the car object, passing in a value of 5 for the capacity parameter. This returns a string that includes the name of the vehicle and its seating capacity."
   ]
  },
  {
   "cell_type": "markdown",
   "id": "e6ed1229-b930-47c8-bf0d-156c25c1875e",
   "metadata": {},
   "source": [
    "### Q3. What is multiple inheritance? Write a python code to demonstrate multiple inheritance."
   ]
  },
  {
   "cell_type": "markdown",
   "id": "04094f79-0b1a-432f-80dc-b7086ecc576d",
   "metadata": {},
   "source": [
    "Multiple inheritance is a feature in object-oriented programming where a class can inherit attributes and methods from multiple parent classes."
   ]
  },
  {
   "cell_type": "markdown",
   "id": "498198a2-63f6-43d8-b8fa-28cee2e3a9a4",
   "metadata": {},
   "source": [
    "Example"
   ]
  },
  {
   "cell_type": "code",
   "execution_count": 6,
   "id": "ee1ea587-7188-4e0e-b78f-b2b00cc96609",
   "metadata": {},
   "outputs": [],
   "source": [
    "class Person:\n",
    "    def __init__(self, name, age):\n",
    "        self.name = name\n",
    "        self.age = age\n",
    "\n",
    "    def get_name(self):\n",
    "        return self.name\n",
    "\n",
    "    def get_age(self):\n",
    "        return self.age\n",
    "\n",
    "\n",
    "class School:\n",
    "    def __init__(self, school_name, grade):\n",
    "        self.school_name = school_name\n",
    "        self.grade = grade\n",
    "\n",
    "    def get_school_name(self):\n",
    "        return self.school_name\n",
    "\n",
    "    def get_grade(self):\n",
    "        return self.grade\n",
    "\n",
    "\n",
    "class Student(Person, School):\n",
    "    def __init__(self, name, age, school_name, grade):\n",
    "        Person.__init__(self, name, age)\n",
    "        School.__init__(self, school_name, grade)\n",
    "\n",
    "    def get_student_details(self):\n",
    "        return f\"{self.get_name()} is a student of {self.get_school_name()} in grade {self.get_grade()}.\""
   ]
  },
  {
   "cell_type": "markdown",
   "id": "bac84be9-10ba-494d-a61c-69af506a1b83",
   "metadata": {},
   "source": [
    "In this example, the Person class defines attributes and methods related to a person's name and age, while the School class defines attributes and methods related to a student's school name and grade.\n",
    "\n",
    "The Student class is defined as a subclass of both Person and School using the syntax class Student(Person, School):. This means that the Student class inherits all the attributes and methods of both parent classes.\n",
    "\n",
    "The Student class has an __init__ method that calls the __init__ methods of both parent classes using the syntax ParentClassName.__init__(self, arguments). This initializes the attributes of both parent classes for the Student class.\n",
    "\n",
    "The Student class also has a get_student_details method that returns a string containing the name of the student, their school name, and their grade.\n",
    "\n",
    "To create an instance of the Student class and call the get_student_details method, we can do the following:"
   ]
  },
  {
   "cell_type": "code",
   "execution_count": 7,
   "id": "5454e173-bf04-40bb-a569-0f6292d0f2e9",
   "metadata": {},
   "outputs": [
    {
     "name": "stdout",
     "output_type": "stream",
     "text": [
      "Alice is a student of ABC School in grade 10.\n"
     ]
    }
   ],
   "source": [
    "student = Student(\"Alice\", 16, \"ABC School\", 10)\n",
    "print(student.get_student_details())  # output: Alice is a student of ABC School in grade 10.\n"
   ]
  },
  {
   "cell_type": "markdown",
   "id": "76d6460b-06d1-4db9-82ff-5e321f43f78c",
   "metadata": {},
   "source": [
    "We create a Student object called student, passing in values for the name, age, school_name, and grade attributes. Then we call the get_student_details method on the student object, which returns a string with details about the student."
   ]
  },
  {
   "cell_type": "markdown",
   "id": "132b7219-4ea6-4d8c-8af8-f8b19d45e7ab",
   "metadata": {},
   "source": [
    "### Q4. What are getter and setter in python? Create a class and create a getter and a setter method in this class."
   ]
  },
  {
   "cell_type": "markdown",
   "id": "04ef7206-bb3e-4bc0-b4da-8529cc895df6",
   "metadata": {},
   "source": [
    "Getter and setter methods are used in object-oriented programming to access and modify the values of instance variables or attributes of a class.\n",
    "\n",
    "A getter method retrieves the value of an instance variable, while a setter method sets the value of an instance variable."
   ]
  },
  {
   "cell_type": "markdown",
   "id": "5e610107-05eb-408c-b974-dbd69f33ba00",
   "metadata": {},
   "source": [
    "Example"
   ]
  },
  {
   "cell_type": "code",
   "execution_count": 8,
   "id": "85cc9c00-424b-475a-ad6f-a67319c9885c",
   "metadata": {},
   "outputs": [],
   "source": [
    "class Person:\n",
    "    def __init__(self, name):\n",
    "        self._name = name  # underscore before name indicates it as a protected attribute\n",
    "\n",
    "    def get_name(self):\n",
    "        return self._name\n",
    "\n",
    "    def set_name(self, name):\n",
    "        self._name = name"
   ]
  },
  {
   "cell_type": "markdown",
   "id": "b7af17d6-c879-47fc-8147-164e64eebe1e",
   "metadata": {},
   "source": [
    "The Person class has a single instance variable called _name, which is a protected attribute (indicated by the underscore before the name).\n",
    "\n",
    "The class has a getter method called get_name, which retrieves the value of the _name attribute.\n",
    "\n",
    "The class also has a setter method called set_name, which sets the value of the _name attribute."
   ]
  },
  {
   "cell_type": "markdown",
   "id": "1121320b-9e71-4ce7-a5f7-5476e9948b23",
   "metadata": {},
   "source": [
    "To create an instance of the Person class and call the getter and setter methods, we can do the following:"
   ]
  },
  {
   "cell_type": "code",
   "execution_count": 10,
   "id": "720cb1c5-5869-488d-b3b3-383492511c45",
   "metadata": {},
   "outputs": [
    {
     "name": "stdout",
     "output_type": "stream",
     "text": [
      "John\n",
      "Alice\n"
     ]
    }
   ],
   "source": [
    "person = Person(\"John\")\n",
    "print(person.get_name())  # output: John\n",
    "\n",
    "person.set_name(\"Alice\")\n",
    "print(person.get_name())  # output: Alice"
   ]
  },
  {
   "cell_type": "markdown",
   "id": "a32eac30-c943-47a4-b779-89db74fd2487",
   "metadata": {},
   "source": [
    "In this example, we create a Person object called person, passing in the value \"John\" for the name. Then we call the get_name method on the person object, which returns the current value of the name attribute (\"John\").\n",
    "\n",
    "We then call the set_name method on the person object, passing in the value \"Alice\" to change the name attribute. Finally, we call the get_name method again on the person object, which returns the updated value of the name attribute (\"Alice\")."
   ]
  },
  {
   "cell_type": "markdown",
   "id": "34acd073-be8a-46b2-8adf-724ebd99bbce",
   "metadata": {},
   "source": [
    "### Q5. What is method overriding in python? Write a python code to demonstrate method overriding."
   ]
  },
  {
   "cell_type": "markdown",
   "id": "7634b1f1-9786-472b-b817-07956f19a6f7",
   "metadata": {},
   "source": [
    "Method overriding is a concept in object-oriented programming that allows a subclass to provide a different implementation of a method that is already defined in its superclass. The subclass provides its own implementation of the method, which will be used instead of the superclass's implementation when the method is called on an instance of the subclass."
   ]
  },
  {
   "cell_type": "markdown",
   "id": "3b3b2088-aa6d-43f2-b45e-eefb1b0a043e",
   "metadata": {},
   "source": [
    "Example"
   ]
  },
  {
   "cell_type": "code",
   "execution_count": 11,
   "id": "ee66e014-eb89-4347-ba97-b90503aa9098",
   "metadata": {},
   "outputs": [
    {
     "name": "stdout",
     "output_type": "stream",
     "text": [
      "Some generic sound\n",
      "Bark!\n",
      "Meow!\n"
     ]
    }
   ],
   "source": [
    "class Animal:\n",
    "    def make_sound(self):\n",
    "        print(\"Some generic sound\")\n",
    "\n",
    "class Dog(Animal):\n",
    "    def make_sound(self):\n",
    "        print(\"Bark!\")\n",
    "\n",
    "class Cat(Animal):\n",
    "    def make_sound(self):\n",
    "        print(\"Meow!\")\n",
    "\n",
    "# create objects of Animal, Dog, and Cat classes\n",
    "animal = Animal()\n",
    "dog = Dog()\n",
    "cat = Cat()\n",
    "\n",
    "# call the make_sound method on each object\n",
    "animal.make_sound()  # output: Some generic sound\n",
    "dog.make_sound()     # output: Bark!\n",
    "cat.make_sound()     # output: Meow!"
   ]
  },
  {
   "cell_type": "markdown",
   "id": "b648f303-05e7-42b6-a484-debe21292ee2",
   "metadata": {},
   "source": [
    "We have a superclass called Animal with a method called make_sound, which prints a generic sound. We also have two subclasses, Dog and Cat, which inherit from the Animal class and override the make_sound method with their own implementation.\n",
    "\n",
    "When we create objects of the Animal, Dog, and Cat classes and call the make_sound method on each object, we see that the output varies depending on the object's class. The Animal object calls the superclass's implementation of the method, which prints the generic sound. The Dog and Cat objects call their own implementation of the method, which prints \"Bark!\" and \"Meow!\", respectively. This demonstrates how method overriding allows subclasses to provide their own behavior for methods inherited from their superclass."
   ]
  },
  {
   "cell_type": "code",
   "execution_count": null,
   "id": "7fc78205-a207-4f59-8341-abaa308ea29a",
   "metadata": {},
   "outputs": [],
   "source": []
  }
 ],
 "metadata": {
  "kernelspec": {
   "display_name": "Python 3 (ipykernel)",
   "language": "python",
   "name": "python3"
  },
  "language_info": {
   "codemirror_mode": {
    "name": "ipython",
    "version": 3
   },
   "file_extension": ".py",
   "mimetype": "text/x-python",
   "name": "python",
   "nbconvert_exporter": "python",
   "pygments_lexer": "ipython3",
   "version": "3.10.8"
  }
 },
 "nbformat": 4,
 "nbformat_minor": 5
}
