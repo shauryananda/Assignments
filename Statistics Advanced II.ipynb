{
 "cells": [
  {
   "cell_type": "markdown",
   "id": "63fd8b2b-cad6-4a94-9183-ab4d8e8a972d",
   "metadata": {},
   "source": [
    "### Q1. What is Estimation Statistics? Explain point estimate and interval estimate."
   ]
  },
  {
   "cell_type": "markdown",
   "id": "fc3be154-80cd-4c4b-b6fc-a361db9f3ef3",
   "metadata": {},
   "source": [
    "Estimation statistics is a branch of statistics that involves making inferences about a population based on a sample of data. The goal of estimation statistics is to use the information obtained from a sample to make predictions about a population parameter, such as a population mean or proportion.\n",
    "\n",
    "There are two types of estimation in statistics: point estimation and interval estimation.\n",
    "\n",
    "Point Estimate: A point estimate is a single value that is used to estimate an unknown population parameter. For example, the sample mean is a point estimate of the population mean, and the sample proportion is a point estimate of the population proportion. Point estimates can be calculated using formulas or statistical software.\n",
    "\n",
    "Interval Estimate: An interval estimate is a range of values that is used to estimate an unknown population parameter. Interval estimates are often more informative than point estimates because they provide a measure of the precision of the estimate. A common type of interval estimate is the confidence interval, which is a range of values that is likely to contain the true population parameter with a certain degree of confidence. For example, a 95% confidence interval for the population mean indicates that if we were to repeat the sampling process many times, we would expect 95% of the intervals to contain the true population mean."
   ]
  },
  {
   "cell_type": "markdown",
   "id": "f6393f30-f9d0-459c-a3d1-5345e577323f",
   "metadata": {},
   "source": [
    "In summary, estimation statistics is the process of using sample data to make inferences about a population parameter. Point estimates are single values used to estimate an unknown parameter, while interval estimates provide a range of values likely to contain the true parameter value with a certain degree of confidence."
   ]
  },
  {
   "cell_type": "markdown",
   "id": "0a39f851-4e2d-4795-ba00-8dbf96263577",
   "metadata": {},
   "source": [
    "### Q2. Write a Python function to estimate the population mean using a sample mean and standard deviation."
   ]
  },
  {
   "cell_type": "code",
   "execution_count": 1,
   "id": "336ab674-8e18-4182-9087-d0842eed9eca",
   "metadata": {},
   "outputs": [],
   "source": [
    "def estimate_population_mean(sample_mean, sample_std, sample_size):\n",
    "    import math\n",
    "    # Calculate the standard error of the mean\n",
    "    std_error_mean = sample_std / math.sqrt(sample_size)\n",
    "    # Calculate the lower and upper bounds of the 95% confidence interval\n",
    "    lower_bound = sample_mean - 1.96 * std_error_mean\n",
    "    upper_bound = sample_mean + 1.96 * std_error_mean\n",
    "    # Return the estimated population mean and the confidence interval\n",
    "    return sample_mean, (lower_bound, upper_bound)"
   ]
  },
  {
   "cell_type": "markdown",
   "id": "de73d5fa-6a61-4449-a2f3-1ad03a94c5b2",
   "metadata": {},
   "source": [
    "This function takes three arguments: the sample mean, the sample standard deviation, and the sample size. It calculates the standard error of the mean using the formula std_error_mean = sample_std / math.sqrt(sample_size), where math.sqrt is the square root function from the math module.\n",
    "\n",
    "It then calculates the lower and upper bounds of the 95% confidence interval using the formula lower_bound = sample_mean - 1.96 * std_error_mean and upper_bound = sample_mean + 1.96 * std_error_mean, where 1.96 is the z-score for a 95% confidence interval.\n",
    "\n",
    "Finally, the function returns a tuple containing the estimated population mean (sample_mean) and the confidence interval ((lower_bound, upper_bound)). Note that the confidence interval is calculated assuming a normal distribution and a large sample size. If the sample size is small, a t-distribution should be used instead of the normal distribution."
   ]
  },
  {
   "cell_type": "markdown",
   "id": "d1f8d8bb-ca02-4e76-b438-8f356e5d3132",
   "metadata": {},
   "source": [
    "### Q3. What is Hypothesis testing? Why is it used? State the importance of Hypothesis testing."
   ]
  },
  {
   "cell_type": "markdown",
   "id": "b7df9d0a-1c7e-45f4-8264-0d246357dd42",
   "metadata": {},
   "source": [
    "Hypothesis testing is a statistical method that is used to make decisions about a population parameter based on sample data. It involves formulating two hypotheses about the population parameter: the null hypothesis and the alternative hypothesis. The null hypothesis represents the status quo or default assumption, while the alternative hypothesis represents the opposite or alternative assumption.\n",
    "\n",
    "The purpose of hypothesis testing is to determine whether the sample data provides enough evidence to reject the null hypothesis in favor of the alternative hypothesis. This is done by calculating a test statistic based on the sample data and comparing it to a critical value or p-value. The test statistic measures the distance between the sample estimate and the hypothesized value under the null hypothesis, while the critical value or p-value represents the threshold beyond which we reject the null hypothesis.\n",
    "\n",
    "Hypothesis testing is used in a wide range of fields, including science, engineering, business, and social sciences. It is particularly useful for making decisions based on empirical evidence rather than intuition or subjective judgment. For example, hypothesis testing can be used to determine whether a new drug is effective in treating a particular disease, whether a marketing campaign is successful in increasing sales, or whether a manufacturing process is producing defective products.\n",
    "\n",
    "The importance of hypothesis testing lies in its ability to provide a systematic and objective way of making decisions based on data. It helps to reduce the risk of making incorrect conclusions or assumptions, and it provides a way of quantifying the strength of evidence in favor of a particular hypothesis. Hypothesis testing also encourages researchers to be precise in their hypotheses and to use data to support their claims rather than relying on anecdotal evidence or personal opinion.\n",
    "\n",
    "\n",
    "\n"
   ]
  },
  {
   "cell_type": "markdown",
   "id": "175d7075-87f9-4ae8-97c5-2924b0bcb270",
   "metadata": {},
   "source": [
    "### Q4. Create a hypothesis that states whether the average weight of male college students is greater than the average weight of female college students."
   ]
  },
  {
   "cell_type": "markdown",
   "id": "3fdd2b81-2699-4ad7-a91e-f4884086f9e9",
   "metadata": {},
   "source": [
    "Null Hypothesis: The average weight of male college students is equal to or less than the average weight of female college students.\n",
    "\n",
    "Alternative Hypothesis: The average weight of male college students is greater than the average weight of female college students.\n",
    "\n",
    "Symbolically, this can be expressed as:\n",
    "\n",
    "H0: μm ≤ μf\n",
    "\n",
    "Ha: μm > μf\n",
    "\n",
    "where H0 is the null hypothesis, Ha is the alternative hypothesis, μm is the population mean weight of male college students, and μf is the population mean weight of female college students.\n",
    "\n",
    "This hypothesis can be tested using a two-sample t-test or a z-test, depending on the sample size and assumptions about the population distribution. The test statistic will measure the difference between the sample means of the two groups and determine whether it is statistically significant at a chosen level of significance (e.g. α = 0.05). If the p-value is less than the chosen level of significance, we reject the null hypothesis and conclude that there is evidence to support the alternative hypothesis. If the p-value is greater than the chosen level of significance, we fail to reject the null hypothesis and conclude that there is not enough evidence to support the alternative hypothesis.\n",
    "\n",
    "\n",
    "\n"
   ]
  },
  {
   "cell_type": "markdown",
   "id": "50bcced9-ae80-4644-980f-e84354471cb4",
   "metadata": {},
   "source": [
    "### Q5. Write a Python script to conduct a hypothesis test on the difference between two population means,given a sample from each population."
   ]
  },
  {
   "cell_type": "code",
   "execution_count": 2,
   "id": "d1c1db9f-9d4e-4b7d-81f4-e0575273a0ea",
   "metadata": {},
   "outputs": [
    {
     "name": "stdout",
     "output_type": "stream",
     "text": [
      "Reject the null hypothesis\n",
      "Sample mean 1:  50.1001970749268\n",
      "Sample mean 2:  46.07616177269232\n",
      "Test statistic:  3.2051833338087197\n",
      "P-value:  0.0015735761292824425\n"
     ]
    }
   ],
   "source": [
    "import numpy as np\n",
    "from scipy.stats import ttest_ind\n",
    "\n",
    "# Sample data from two populations\n",
    "pop1 = np.random.normal(50, 10, 100)\n",
    "pop2 = np.random.normal(45, 8, 100)\n",
    "\n",
    "# Calculate the sample means and standard deviations\n",
    "sample_mean1 = np.mean(pop1)\n",
    "sample_mean2 = np.mean(pop2)\n",
    "sample_std1 = np.std(pop1, ddof=1)\n",
    "sample_std2 = np.std(pop2, ddof=1)\n",
    "\n",
    "# Set the significance level\n",
    "alpha = 0.05\n",
    "\n",
    "# Conduct a two-sample t-test assuming equal variances\n",
    "test_statistic, p_value = ttest_ind(pop1, pop2, equal_var=True)\n",
    "\n",
    "# Compare the p-value to the significance level\n",
    "if p_value < alpha:\n",
    "    print(\"Reject the null hypothesis\")\n",
    "else:\n",
    "    print(\"Fail to reject the null hypothesis\")\n",
    "\n",
    "# Print the sample means and the test results\n",
    "print(\"Sample mean 1: \", sample_mean1)\n",
    "print(\"Sample mean 2: \", sample_mean2)\n",
    "print(\"Test statistic: \", test_statistic)\n",
    "print(\"P-value: \", p_value)"
   ]
  },
  {
   "cell_type": "markdown",
   "id": "b83f1ef1-90e9-41e5-9521-2d19e20d5587",
   "metadata": {},
   "source": [
    "### Q6: What is a null and alternative hypothesis? Give some examples."
   ]
  },
  {
   "cell_type": "markdown",
   "id": "6366a491-81f2-4c6a-9f19-2304d801dc33",
   "metadata": {},
   "source": [
    "In hypothesis testing, the null hypothesis (H0) is a statement that represents the status quo or the default assumption, while the alternative hypothesis (Ha) is a statement that represents a new or different claim that is being tested against the null hypothesis.\n",
    "\n",
    "Here are some examples of null and alternative hypotheses:\n",
    "\n",
    "Example 1: A manufacturer claims that their light bulbs last an average of 1000 hours.\n",
    "Null Hypothesis: The average lifespan of the manufacturer's light bulbs is 1000 hours (H0: μ = 1000).\n",
    "\n",
    "Alternative Hypothesis: The average lifespan of the manufacturer's light bulbs is different from 1000 hours (Ha: μ ≠ 1000).\n",
    "\n",
    "Example 2: A new drug is developed to treat a particular disease.\n",
    "Null Hypothesis: The new drug is no more effective than the existing treatment (H0: μnew ≤ μexisting).\n",
    "\n",
    "Alternative Hypothesis: The new drug is more effective than the existing treatment (Ha: μnew > μexisting).\n",
    "\n",
    "Example 3: An online retailer claims that their website's checkout process takes less than 2 minutes on average.\n",
    "Null Hypothesis: The average checkout time on the retailer's website is 2 minutes or more (H0: μ ≥ 2).\n",
    "\n",
    "Alternative Hypothesis: The average checkout time on the retailer's website is less than 2 minutes (Ha: μ < 2)."
   ]
  },
  {
   "cell_type": "markdown",
   "id": "f332b9ae-63a5-46b3-889c-a0ca18f9e935",
   "metadata": {},
   "source": [
    "### Q7. Write down the steps involved in hypothesis testing."
   ]
  },
  {
   "cell_type": "markdown",
   "id": "4476a073-54de-42a6-8fa1-6d29442e9870",
   "metadata": {},
   "source": [
    "The general steps involved in hypothesis testing are as follows:\n",
    "\n",
    "1. State the null hypothesis (H0) and the alternative hypothesis (Ha) in clear and concise terms.\n",
    "\n",
    "2. Choose the appropriate statistical test based on the type of data, the research question, and the assumptions of the test.\n",
    "\n",
    "3. Determine the significance level (alpha) of the test, which is the probability of rejecting the null    hypothesis when it is actually true. Common values for alpha are 0.05 and 0.01.\n",
    "\n",
    "4. Collect a sample of data from the population of interest and calculate the appropriate test          statistic based on the sample data and the assumptions of the test.\n",
    "\n",
    "5. Determine the p-value of the test, which is the probability of observing a test statistic as extreme   as or more extreme than the observed value, assuming that the null hypothesis is true.\n",
    "\n",
    "6. Compare the p-value to the significance level. If the p-value is less than or equal to the significance level, reject the null hypothesis and conclude that there is evidence to support the alternative hypothesis. If the p-value is greater than the significance level, fail to reject the null hypothesis and conclude that there is not enough evidence to support the alternative hypothesis.\n",
    "\n",
    "7. Interpret the results of the test in the context of the research question and draw conclusions based on the evidence provided by the data.\n",
    "\n",
    "8. Check the assumptions of the test and the validity of the results to ensure that the conclusions are justified and reliable.\n",
    "\n",
    "9. Report the results of the test, including the test statistic, the p-value, the conclusion, and any relevant statistics or graphs that support the interpretation of the results."
   ]
  },
  {
   "cell_type": "markdown",
   "id": "222e59f4-52c0-4d50-a863-69e8b83ecb45",
   "metadata": {},
   "source": [
    "### Q8. Define p-value and explain its significance in hypothesis testing."
   ]
  },
  {
   "cell_type": "markdown",
   "id": "00d7a4d1-7dc4-4d45-babc-ed97a1eab096",
   "metadata": {},
   "source": [
    "The p-value is the probability of observing a test statistic as extreme as or more extreme than the observed value, assuming that the null hypothesis is true. In hypothesis testing, the p-value provides a measure of the strength of the evidence against the null hypothesis, based on the sample data and the assumptions of the test.\n",
    "\n",
    "The significance of the p-value in hypothesis testing is that it allows us to make a decision about whether to reject or fail to reject the null hypothesis. If the p-value is less than or equal to the significance level (alpha), we reject the null hypothesis and conclude that there is evidence to support the alternative hypothesis. If the p-value is greater than the significance level, we fail to reject the null hypothesis and conclude that there is not enough evidence to support the alternative hypothesis.\n",
    "\n",
    "The smaller the p-value, the stronger the evidence against the null hypothesis, and the more confident we can be in rejecting it. A p-value of 0.05, for example, indicates that there is a 5% chance of observing a test statistic as extreme as or more extreme than the observed value, assuming that the null hypothesis is true. If the p-value is smaller than 0.05, we reject the null hypothesis with a 95% level of confidence."
   ]
  },
  {
   "cell_type": "markdown",
   "id": "6254d2c2-8fdd-4f70-ab46-7ddd04b70d6d",
   "metadata": {},
   "source": [
    "p-value is not the probability that the null hypothesis is true or false. Instead, it is a measure of the evidence against the null hypothesis, based on the sample data and the assumptions of the test. A small p-value suggests that the null hypothesis is unlikely to be true, but it does not prove that the alternative hypothesis is true."
   ]
  },
  {
   "cell_type": "markdown",
   "id": "95d0523a-71a3-48c1-adf0-f9438e5fa0b8",
   "metadata": {},
   "source": [
    "### Q9. Generate a Student's t-distribution plot using Python's matplotlib library, with the degrees of freedomparameter set to 10."
   ]
  },
  {
   "cell_type": "code",
   "execution_count": 3,
   "id": "cda35845-c4bf-498f-852f-dca7769f7660",
   "metadata": {},
   "outputs": [
    {
     "data": {
      "image/png": "[encoded data removed]",
      "text/plain": [
       "<Figure size 640x480 with 1 Axes>"
      ]
     },
     "metadata": {},
     "output_type": "display_data"
    }
   ],
   "source": [
    "import numpy as np\n",
    "import matplotlib.pyplot as plt\n",
    "\n",
    "# Generate x values\n",
    "x = np.linspace(-4, 4, 1000)\n",
    "\n",
    "# Calculate y values using t-distribution PDF\n",
    "y = (1 / (np.sqrt(10) * np.sqrt(np.pi))) * ((1 + (x ** 2) / 10) ** (-6))\n",
    "\n",
    "# Plot the t-distribution\n",
    "plt.plot(x, y, label='t-distribution with 10 df')\n",
    "\n",
    "# Add legend, axis labels and title\n",
    "plt.legend()\n",
    "plt.xlabel('x')\n",
    "plt.ylabel('Probability density')\n",
    "plt.title('Student\\'s t-distribution with 10 degrees of freedom')\n",
    "\n",
    "# Show the plot\n",
    "plt.show()"
   ]
  },
  {
   "cell_type": "markdown",
   "id": "317ee3ef-a290-43e6-b8c0-760efd84abdf",
   "metadata": {},
   "source": [
    "This code generates a plot of the t-distribution with 10 degrees of freedom, using the t-distribution PDF. The x values range from -4 to 4, and the y values are calculated using the formula for the t-distribution PDF with 10 degrees of freedom. The resulting plot shows the bell-shaped curve of the t-distribution, centered around 0, with thicker tails than the normal distribution due to the smaller sample size (degrees of freedom)."
   ]
  },
  {
   "cell_type": "markdown",
   "id": "13b2609a-6b09-4199-b464-36e1d445ad03",
   "metadata": {},
   "source": [
    "### Q10. Write a Python program to calculate the two-sample t-test for independent samples, given two random samples of equal size and a null hypothesis that the population means are equal."
   ]
  },
  {
   "cell_type": "code",
   "execution_count": 4,
   "id": "2079271b-2343-4e51-850f-43e4d9e2d43f",
   "metadata": {},
   "outputs": [
    {
     "name": "stdout",
     "output_type": "stream",
     "text": [
      "Sample 1: [ 7  5 11  8  9  6 10  7  9  8]\n",
      "Sample 2: [5 6 8 7 6 9 7 6 8 7]\n",
      "Null hypothesis: The population means are equal\n",
      "Sample 1 mean: 8.0\n",
      "Sample 2 mean: 6.9\n",
      "Sample 1 standard deviation: 1.8257418583505538\n",
      "Sample 2 standard deviation: 1.1972189997378646\n",
      "Degrees of freedom: 18\n",
      "Pooled standard deviation: 1.5438048235879214\n",
      "Test statistic: 1.5932550136313828\n",
      "P-value: 0.12851127501103934\n",
      "Fail to reject null hypothesis, there is not enough evidence to conclude that the population means are different.\n"
     ]
    }
   ],
   "source": [
    "import numpy as np\n",
    "from scipy.stats import t\n",
    "\n",
    "# Define two random samples of equal size\n",
    "sample1 = np.array([7, 5, 11, 8, 9, 6, 10, 7, 9, 8])\n",
    "sample2 = np.array([5, 6, 8, 7, 6, 9, 7, 6, 8, 7])\n",
    "\n",
    "# Define the null hypothesis that the population means are equal\n",
    "null_hypothesis = 'The population means are equal'\n",
    "\n",
    "# Calculate the sample means and standard deviations\n",
    "sample1_mean = np.mean(sample1)\n",
    "sample2_mean = np.mean(sample2)\n",
    "sample1_std = np.std(sample1, ddof=1)\n",
    "sample2_std = np.std(sample2, ddof=1)\n",
    "\n",
    "# Calculate the degrees of freedom\n",
    "n1 = len(sample1)\n",
    "n2 = len(sample2)\n",
    "df = n1 + n2 - 2\n",
    "\n",
    "# Calculate the pooled standard deviation\n",
    "s_pooled = np.sqrt(((n1 - 1) * sample1_std ** 2 + (n2 - 1) * sample2_std ** 2) / df)\n",
    "\n",
    "# Calculate the test statistic\n",
    "t_statistic = (sample1_mean - sample2_mean) / (s_pooled * np.sqrt(1 / n1 + 1 / n2))\n",
    "\n",
    "# Calculate the p-value\n",
    "p_value = 2 * t.cdf(-abs(t_statistic), df)\n",
    "\n",
    "# Define the significance level\n",
    "alpha = 0.05\n",
    "\n",
    "# Print the results\n",
    "print('Sample 1:', sample1)\n",
    "print('Sample 2:', sample2)\n",
    "print('Null hypothesis:', null_hypothesis)\n",
    "print('Sample 1 mean:', sample1_mean)\n",
    "print('Sample 2 mean:', sample2_mean)\n",
    "print('Sample 1 standard deviation:', sample1_std)\n",
    "print('Sample 2 standard deviation:', sample2_std)\n",
    "print('Degrees of freedom:', df)\n",
    "print('Pooled standard deviation:', s_pooled)\n",
    "print('Test statistic:', t_statistic)\n",
    "print('P-value:', p_value)\n",
    "\n",
    "# Make decision based on the p-value and significance level\n",
    "if p_value < alpha:\n",
    "    print('Reject null hypothesis, the population means are not equal.')\n",
    "else:\n",
    "    print('Fail to reject null hypothesis, there is not enough evidence to conclude that the population means are different.')"
   ]
  },
  {
   "cell_type": "markdown",
   "id": "e7892696-93de-4668-a412-af61f81e3159",
   "metadata": {},
   "source": [
    "### Q11. What is Student’s t distribution? When to use the t-Distribution."
   ]
  },
  {
   "cell_type": "markdown",
   "id": "36a1ca57-244c-495b-81b8-5f79c9490868",
   "metadata": {},
   "source": [
    "Student's t-distribution is a probability distribution that arises when estimating the mean of a normally distributed population when the sample size is small, and the population standard deviation is unknown. The t-distribution is similar in shape to the standard normal distribution but has heavier tails and is flatter at the peak.\n",
    "\n",
    "The t-distribution is used to make inferences about population means based on sample data when the sample size is small (less than 30) or the population standard deviation is unknown. Specifically, it is used to construct confidence intervals and conduct hypothesis tests for the population mean.\n",
    "\n",
    "When the sample size is large (greater than 30), the t-distribution is approximated by the standard normal distribution. In this case, the z-test can be used instead of the t-test.\n",
    "\n",
    "In summary, the t-distribution is used when:\n",
    "\n",
    "The population standard deviation is unknown, and\n",
    "The sample size is small (less than 30).\n",
    "It is an important tool in statistical inference, particularly when conducting hypothesis tests and constructing confidence intervals for population means."
   ]
  },
  {
   "cell_type": "markdown",
   "id": "401bce1a-f713-402f-8c91-47a58c0c2959",
   "metadata": {},
   "source": [
    "### Q12. What is t-statistic? State the formula for t-statistic."
   ]
  },
  {
   "cell_type": "markdown",
   "id": "b59a9f53-5331-4448-b038-bdb92573f5b2",
   "metadata": {},
   "source": [
    "The t-statistic is a test statistic used in hypothesis testing when the population standard deviation is unknown and the sample size is small. It measures the difference between the sample mean and the hypothesized population mean in terms of the estimated standard error.\n",
    "\n",
    "The formula for the t-statistic is:\n",
    "\n",
    "t = (x̄ - μ) / (s / √n)\n",
    "\n",
    "where:\n",
    "x̄ = sample mean\n",
    "μ = hypothesized population mean\n",
    "s = sample standard deviation\n",
    "n = sample size\n",
    "\n",
    "The t-statistic represents the number of standard errors that the sample mean is from the hypothesized population mean. The larger the absolute value of the t-statistic, the more evidence there is against the null hypothesis (i.e., the hypothesized population mean) and in favor of the alternative hypothesis.\n",
    "\n",
    "The t-statistic is used to calculate the p-value, which represents the probability of obtaining a sample mean as extreme or more extreme than the one observed if the null hypothesis is true. If the p-value is less than the chosen significance level, typically 0.05, the null hypothesis is rejected in favor of the alternative hypothesis.\n",
    "\n",
    "\n",
    "\n"
   ]
  },
  {
   "cell_type": "markdown",
   "id": "728c9872-6e15-496e-adab-3d254891bd87",
   "metadata": {},
   "source": [
    "### Q13. A coffee shop owner wants to estimate the average daily revenue for their shop. They take a random sample of 50 days and find the sample mean revenue to be 500 dollars with a standard deviation of 50 dollars. Estimate the population mean revenue with a 95% confidence interval."
   ]
  },
  {
   "cell_type": "markdown",
   "id": "22ee0a41-80cb-4aff-a92f-d8bc2c5341a0",
   "metadata": {},
   "source": [
    "The formula for the confidence interval for the population mean is:\n",
    "\n",
    "CI = x̄ ± t(α/2, n-1) * (s / √n)\n",
    "\n",
    "where:\n",
    "x̄ = sample mean\n",
    "s = sample standard deviation\n",
    "n = sample size\n",
    "t(α/2, n-1) = the t-score with (n-1) degrees of freedom and the area of α/2 in the upper tail of the distribution\n",
    "\n",
    "Using the given information, we have:\n",
    "\n",
    "x̄ = $500\n",
    "s = $50\n",
    "n = 50\n",
    "α = 0.05 (since we want a 95% confidence interval, the significance level is 1 - 0.95 = 0.05)\n",
    "df = n - 1 = 49\n",
    "\n",
    "From the t-distribution table or a statistical software, we find that the t-score with 49 degrees of freedom and α/2 = 0.025 is approximately 2.009.\n",
    "\n",
    "Plugging in the values, we get:\n",
    "\n",
    "CI = $500 ± 2.009 * ($50 / √50)\n",
    "= $500 ± $14.18\n",
    "\n",
    "Therefore, the 95% confidence interval for the population mean revenue is ($485.82, $514.18). We can say with 95% confidence that the true population mean revenue falls within this interval.\n",
    "\n",
    "\n"
   ]
  },
  {
   "cell_type": "markdown",
   "id": "1082643a-3a78-44e8-8ba4-72cbd94d1c04",
   "metadata": {},
   "source": [
    "### Q14. A researcher hypothesizes that a new drug will decrease blood pressure by 10 mmHg. They conduct a clinical trial with 100 patients and find that the sample mean decrease in blood pressure is 8 mmHg with a standard deviation of 3 mmHg. Test the hypothesis with a significance level of 0.05."
   ]
  },
  {
   "cell_type": "markdown",
   "id": "7434b495-3c24-48e8-a11e-55b84282218e",
   "metadata": {},
   "source": [
    "To test the hypothesis that the new drug decreases blood pressure by 10 mmHg, we can use a one-sample t-test. The null and alternative hypotheses are:\n",
    "\n",
    "H0: μ = 10 (the population mean decrease in blood pressure is 10 mmHg)\n",
    "Ha: μ < 10 (the population mean decrease in blood pressure is less than 10 mmHg)\n",
    "\n",
    "We can use the t-test statistic and the p-value to test the hypothesis.\n",
    "\n",
    "The formula for the t-test statistic is:\n",
    "\n",
    "t = (x̄ - μ) / (s / √n)\n",
    "\n",
    "where:\n",
    "x̄ = sample mean\n",
    "μ = hypothesized population mean\n",
    "s = sample standard deviation\n",
    "n = sample size\n",
    "\n",
    "Plugging in the values, we get:\n",
    "\n",
    "t = (8 - 10) / (3 / √100)\n",
    "= -2 * √100 / 3\n",
    "= -6.67\n",
    "\n",
    "The degrees of freedom for the t-test is (n - 1) = 99.\n",
    "\n",
    "From the t-distribution table or a statistical software, we find that the p-value for a one-tailed test with a t-score of -6.67 and 99 degrees of freedom is less than 0.0001 (much smaller than the significance level of 0.05).\n",
    "\n",
    "Since the p-value is less than the significance level, we reject the null hypothesis in favor of the alternative hypothesis. We can conclude that the new drug decreases blood pressure by less than 10 mmHg."
   ]
  },
  {
   "cell_type": "markdown",
   "id": "accf9041-f516-44b0-aac7-ce0d657b9797",
   "metadata": {},
   "source": [
    "### Q15. An electronics company produces a certain type of product with a mean weight of 5 pounds and a standard deviation of 0.5 pounds. A random sample of 25 products is taken, and the sample mean weight is found to be 4.8 pounds. Test the hypothesis that the true mean weight of the products is less than 5 pounds with a significance level of 0.01."
   ]
  },
  {
   "cell_type": "markdown",
   "id": "a2a62f20-aa4b-43f4-b1fa-6c4f50928ec1",
   "metadata": {},
   "source": [
    "To test the hypothesis that the true mean weight of the products is less than 5 pounds, we can use a one-sample t-test. The null and alternative hypotheses are:\n",
    "\n",
    "H0: μ = 5 (the population mean weight is 5 pounds)\n",
    "Ha: μ < 5 (the population mean weight is less than 5 pounds)\n",
    "\n",
    "We can use the t-test statistic and the p-value to test the hypothesis.\n",
    "\n",
    "The formula for the t-test statistic is:\n",
    "\n",
    "t = (x̄ - μ) / (s / √n)\n",
    "\n",
    "where:\n",
    "x̄ = sample mean\n",
    "μ = hypothesized population mean\n",
    "s = sample standard deviation\n",
    "n = sample size\n",
    "\n",
    "Plugging in the values, we get:\n",
    "\n",
    "t = (4.8 - 5) / (0.5 / √25)\n",
    "= -2\n",
    "\n",
    "The degrees of freedom for the t-test is (n - 1) = 24.\n",
    "\n",
    "From the t-distribution table or a statistical software, we find that the p-value for a one-tailed test with a t-score of -2 and 24 degrees of freedom is approximately 0.028.\n",
    "\n",
    "Since the p-value is greater than the significance level of 0.01, we fail to reject the null hypothesis. We do not have sufficient evidence to conclude that the true mean weight of the products is less than 5 pounds at the 0.01 significance level.\n",
    "\n",
    "\n",
    "\n"
   ]
  },
  {
   "cell_type": "markdown",
   "id": "af8ad141-5547-4ac2-849e-cd541dad4460",
   "metadata": {},
   "source": [
    "### Q16. Two groups of students are given different study materials to prepare for a test. The first group (n1 =30) has a mean score of 80 with a standard deviation of 10, and the second group (n2 = 40) has a meanscore of 75 with a standard deviation of 8. Test the hypothesis that the population means for the two groups are equal with a significance level of 0.01."
   ]
  },
  {
   "cell_type": "markdown",
   "id": "c43e527b-6b0a-4a61-875b-3c1f6417a510",
   "metadata": {},
   "source": [
    "To test whether the population means for the two groups are equal, we can use a two-sample t-test. The null hypothesis is that the population means are equal, and the alternative hypothesis is that they are not equal.\n",
    "\n",
    "H0: μ1 = μ2\n",
    "Ha: μ1 ≠ μ2\n",
    "\n",
    "We will use a significance level of 0.01, which means that we will reject the null hypothesis if the probability of obtaining our sample results under the null hypothesis is less than 0.01.\n",
    "\n",
    "First, we need to calculate the test statistic, which is given by:\n",
    "\n",
    "t = (x̄1 - x̄2) / [sqrt((s1^2/n1) + (s2^2/n2))]\n",
    "\n",
    "where x̄1 and x̄2 are the sample means, s1 and s2 are the sample standard deviations, and n1 and n2 are the sample sizes.\n",
    "\n",
    "Substituting the given values, we get:\n",
    "\n",
    "t = (80 - 75) / [sqrt((10^2/30) + (8^2/40))] = 2.24\n",
    "\n",
    "The degrees of freedom for the t-distribution are given by:\n",
    "\n",
    "df = (s1^2/n1 + s2^2/n2)^2 / [(s1^2/n1)^2/(n1-1) + (s2^2/n2)^2/(n2-1)]\n",
    "\n",
    "Substituting the given values, we get:\n",
    "\n",
    "df = (10^2/30 + 8^2/40)^2 / [(10^2/30)^2/29 + (8^2/40)^2/39] = 65.28\n",
    "\n",
    "Using a t-table or a calculator, we can find the critical t-value for a two-tailed test with 65 degrees of freedom and a significance level of 0.01. The critical t-value is 2.620.\n",
    "\n",
    "Since our calculated t-value of 2.24 is less than the critical t-value of 2.620, we fail to reject the null hypothesis. Therefore, we do not have sufficient evidence to conclude that the population means for the two groups are different at the 0.01 level of significance.\n",
    "\n",
    "\n",
    "\n"
   ]
  },
  {
   "cell_type": "markdown",
   "id": "8ad6296f-dbf2-4049-bde6-502930d93637",
   "metadata": {},
   "source": [
    "### Q17. A marketing company wants to estimate the average number of ads watched by viewers during a TV program. They take a random sample of 50 viewers and find that the sample mean is 4 with a standard deviation of 1.5. Estimate the population mean with a 99% confidence interval."
   ]
  },
  {
   "cell_type": "markdown",
   "id": "9951cbf2-56c9-4014-8dac-6e73cb242a99",
   "metadata": {},
   "source": [
    "To estimate the population mean number of ads watched by viewers during a TV program, we can use a confidence interval. Since the sample size is large (n = 50), we can use the z-distribution instead of the t-distribution.\n",
    "\n",
    "The formula for a 99% confidence interval for the population mean is:\n",
    "\n",
    "CI = x̄ ± zα/2 * (σ / sqrt(n))\n",
    "\n",
    "where x̄ is the sample mean, σ is the population standard deviation (which is unknown), n is the sample size, and zα/2 is the z-score that corresponds to the desired confidence level (in this case, 99%).\n",
    "\n",
    "Substituting the given values, we get:\n",
    "\n",
    "CI = 4 ± 2.58 * (1.5 / sqrt(50)) = 4 ± 0.58\n",
    "\n",
    "Therefore, the 99% confidence interval for the population mean number of ads watched by viewers during a TV program is (3.42, 4.58). We can be 99% confident that the true population mean falls within this interval.\n",
    "\n",
    "\n",
    "\n"
   ]
  },
  {
   "cell_type": "code",
   "execution_count": null,
   "id": "06a9dd9b-a50d-4b04-9216-b0663d30aa84",
   "metadata": {},
   "outputs": [],
   "source": []
  }
 ],
 "metadata": {
  "kernelspec": {
   "display_name": "Python 3 (ipykernel)",
   "language": "python",
   "name": "python3"
  },
  "language_info": {
   "codemirror_mode": {
    "name": "ipython",
    "version": 3
   },
   "file_extension": ".py",
   "mimetype": "text/x-python",
   "name": "python",
   "nbconvert_exporter": "python",
   "pygments_lexer": "ipython3",
   "version": "3.10.8"
  }
 },
 "nbformat": 4,
 "nbformat_minor": 5
}
