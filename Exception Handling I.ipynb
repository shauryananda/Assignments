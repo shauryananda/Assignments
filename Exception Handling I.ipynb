{
 "cells": [
  {
   "cell_type": "markdown",
   "id": "06dd80f6-98bd-4295-adf3-43bee8852305",
   "metadata": {},
   "source": [
    "### Q1. What is an Exception in Python? Write the difference between exception and syntax errors"
   ]
  },
  {
   "cell_type": "markdown",
   "id": "986a26be-c3e3-4520-aa4f-df94d2848483",
   "metadata": {},
   "source": [
    "In Python, an exception is an error that occurs during the execution of a program. When an exception occurs, the normal flow of the program is disrupted and the program terminates abnormally.\n",
    "\n",
    "Exceptions can occur for a variety of reasons, such as trying to perform an invalid operation, accessing a resource that is not available, or encountering an unexpected condition. Python provides a built-in mechanism to handle exceptions using try-except blocks.\n",
    "\n",
    "Syntax errors, on the other hand, occur when there is a problem with the syntax of the program. Syntax errors are detected by the Python interpreter during the compilation of the program, and prevent the program from executing at all. Examples of syntax errors include forgetting to close a parentheses, misspelling a keyword, or forgetting a colon at the end of a statement.\n",
    "\n",
    "Here are some key differences between exceptions and syntax errors:\n",
    "\n",
    "Detection: Syntax errors are detected by the Python interpreter during the compilation of the program, while exceptions are detected during the execution of the program.\n",
    "\n",
    "Occurrence: Syntax errors occur when there is a problem with the syntax of the program, while exceptions occur when there is an error during the execution of the program.\n",
    "\n",
    "Handling: Syntax errors must be fixed by editing the program and correcting the syntax, while exceptions can be handled by using try-except blocks to gracefully recover from the error and continue executing the program.\n",
    "\n",
    "Impact: Syntax errors prevent the program from executing at all, while exceptions can be handled and the program can continue executing despite the error."
   ]
  },
  {
   "cell_type": "markdown",
   "id": "8da60a23-a436-43cb-b999-9672205f36de",
   "metadata": {},
   "source": [
    "Exceptions are errors that occur during the execution of a program, while syntax errors are errors that occur due to problems with the syntax of the program. Exceptions can be handled using try-except blocks, while syntax errors must be fixed by editing the program and correcting the syntax."
   ]
  },
  {
   "cell_type": "markdown",
   "id": "8b94503a-2472-4a8f-92d7-c0c8d69c0742",
   "metadata": {},
   "source": [
    "### Q2. What happens when an exception is not handled? Explain with an example"
   ]
  },
  {
   "cell_type": "markdown",
   "id": "50685c88-053d-4315-8d1b-71d073507ad7",
   "metadata": {},
   "source": [
    "When an exception is not handled in a Python program, it will cause the program to terminate abruptly and display an error message that describes the nature of the exception. This is because Python cannot continue executing the program when an unhandled exception occurs."
   ]
  },
  {
   "cell_type": "markdown",
   "id": "2e88e447-c74b-457d-9c3f-56e3bde58543",
   "metadata": {},
   "source": [
    "Example"
   ]
  },
  {
   "cell_type": "code",
   "execution_count": 1,
   "id": "174c85df-773e-4ad5-b8dd-b74d62b403e1",
   "metadata": {},
   "outputs": [
    {
     "ename": "FileNotFoundError",
     "evalue": "[Errno 2] No such file or directory: 'nonexistent_file.txt'",
     "output_type": "error",
     "traceback": [
      "\u001b[0;31m---------------------------------------------------------------------------\u001b[0m",
      "\u001b[0;31mFileNotFoundError\u001b[0m                         Traceback (most recent call last)",
      "Cell \u001b[0;32mIn[1], line 2\u001b[0m\n\u001b[1;32m      1\u001b[0m \u001b[38;5;66;03m# Attempt to open a file that does not exist\u001b[39;00m\n\u001b[0;32m----> 2\u001b[0m \u001b[38;5;28;01mwith\u001b[39;00m \u001b[38;5;28;43mopen\u001b[39;49m\u001b[43m(\u001b[49m\u001b[38;5;124;43m\"\u001b[39;49m\u001b[38;5;124;43mnonexistent_file.txt\u001b[39;49m\u001b[38;5;124;43m\"\u001b[39;49m\u001b[43m,\u001b[49m\u001b[43m \u001b[49m\u001b[38;5;124;43m\"\u001b[39;49m\u001b[38;5;124;43mr\u001b[39;49m\u001b[38;5;124;43m\"\u001b[39;49m\u001b[43m)\u001b[49m \u001b[38;5;28;01mas\u001b[39;00m file:\n\u001b[1;32m      3\u001b[0m     contents \u001b[38;5;241m=\u001b[39m file\u001b[38;5;241m.\u001b[39mread()\n",
      "File \u001b[0;32m/opt/conda/lib/python3.10/site-packages/IPython/core/interactiveshell.py:282\u001b[0m, in \u001b[0;36m_modified_open\u001b[0;34m(file, *args, **kwargs)\u001b[0m\n\u001b[1;32m    275\u001b[0m \u001b[38;5;28;01mif\u001b[39;00m file \u001b[38;5;129;01min\u001b[39;00m {\u001b[38;5;241m0\u001b[39m, \u001b[38;5;241m1\u001b[39m, \u001b[38;5;241m2\u001b[39m}:\n\u001b[1;32m    276\u001b[0m     \u001b[38;5;28;01mraise\u001b[39;00m \u001b[38;5;167;01mValueError\u001b[39;00m(\n\u001b[1;32m    277\u001b[0m         \u001b[38;5;124mf\u001b[39m\u001b[38;5;124m\"\u001b[39m\u001b[38;5;124mIPython won\u001b[39m\u001b[38;5;124m'\u001b[39m\u001b[38;5;124mt let you open fd=\u001b[39m\u001b[38;5;132;01m{\u001b[39;00mfile\u001b[38;5;132;01m}\u001b[39;00m\u001b[38;5;124m by default \u001b[39m\u001b[38;5;124m\"\u001b[39m\n\u001b[1;32m    278\u001b[0m         \u001b[38;5;124m\"\u001b[39m\u001b[38;5;124mas it is likely to crash IPython. If you know what you are doing, \u001b[39m\u001b[38;5;124m\"\u001b[39m\n\u001b[1;32m    279\u001b[0m         \u001b[38;5;124m\"\u001b[39m\u001b[38;5;124myou can use builtins\u001b[39m\u001b[38;5;124m'\u001b[39m\u001b[38;5;124m open.\u001b[39m\u001b[38;5;124m\"\u001b[39m\n\u001b[1;32m    280\u001b[0m     )\n\u001b[0;32m--> 282\u001b[0m \u001b[38;5;28;01mreturn\u001b[39;00m \u001b[43mio_open\u001b[49m\u001b[43m(\u001b[49m\u001b[43mfile\u001b[49m\u001b[43m,\u001b[49m\u001b[43m \u001b[49m\u001b[38;5;241;43m*\u001b[39;49m\u001b[43margs\u001b[49m\u001b[43m,\u001b[49m\u001b[43m \u001b[49m\u001b[38;5;241;43m*\u001b[39;49m\u001b[38;5;241;43m*\u001b[39;49m\u001b[43mkwargs\u001b[49m\u001b[43m)\u001b[49m\n",
      "\u001b[0;31mFileNotFoundError\u001b[0m: [Errno 2] No such file or directory: 'nonexistent_file.txt'"
     ]
    }
   ],
   "source": [
    "# Attempt to open a file that does not exist\n",
    "with open(\"nonexistent_file.txt\", \"r\") as file:\n",
    "    contents = file.read()\n"
   ]
  },
  {
   "cell_type": "markdown",
   "id": "97f59e48-8703-4516-878a-dce7dfba0d26",
   "metadata": {},
   "source": [
    "We attempt to open a file that does not exist using the open() function. This will raise a FileNotFoundError exception, since the file cannot be found. However, we have not included any code to handle this exception."
   ]
  },
  {
   "cell_type": "markdown",
   "id": "351dea48-1e7d-4f53-aac6-f8aa6aa51951",
   "metadata": {},
   "source": [
    "When we run this program, it terminates abruptly and display the following error message:"
   ]
  },
  {
   "cell_type": "markdown",
   "id": "7f430291-3ada-4fe7-b2e3-84106dee27cb",
   "metadata": {},
   "source": [
    "No such file or directory: 'nonexistent_file.txt'"
   ]
  },
  {
   "cell_type": "markdown",
   "id": "a7b1f827-790b-4e75-b04d-c281af2815d0",
   "metadata": {},
   "source": [
    "This error message indicates that a FileNotFoundError occurred while attempting to open the file \"nonexistent_file.txt\". Since we did not handle this exception in our program, Python was unable to continue executing the program and terminated abruptly.\n",
    "\n",
    "To handle this exception, we could add a try-except block to catch the exception and take appropriate action, such as displaying an error message to the user or providing a default value."
   ]
  },
  {
   "cell_type": "code",
   "execution_count": 3,
   "id": "cc9e1c6f-30ea-4544-a375-a759c6e00954",
   "metadata": {},
   "outputs": [
    {
     "name": "stdout",
     "output_type": "stream",
     "text": [
      "Error: File not found.\n"
     ]
    }
   ],
   "source": [
    "try:\n",
    "    # Attempt to open a file that does not exist\n",
    "    with open(\"nonexistent_file.txt\", \"r\") as file:\n",
    "        contents = file.read()\n",
    "except FileNotFoundError:\n",
    "    print(\"Error: File not found.\")"
   ]
  },
  {
   "cell_type": "markdown",
   "id": "04ddbaae-ce0d-482d-bd8c-64258fd0c933",
   "metadata": {},
   "source": [
    "We have added a try-except block to catch the FileNotFoundError exception that is raised when attempting to open the file. If the exception occurs, the except block will execute and display an error message to the user. This allows the program to continue executing instead of terminating abruptly."
   ]
  },
  {
   "cell_type": "markdown",
   "id": "005cd989-4f09-4bcc-b7d4-4492b098f433",
   "metadata": {},
   "source": [
    "### Q3. Which Python statements are used to catch and handle exceptions? Explain with an example\n"
   ]
  },
  {
   "cell_type": "markdown",
   "id": "9db5dec3-07b6-4d74-9ec4-330ff29c6f02",
   "metadata": {},
   "source": [
    "We use try-except blocks to catch and handle exceptions. The try block contains the code that might raise an exception, while the except block contains the code that handles the exception if it occurs."
   ]
  },
  {
   "cell_type": "markdown",
   "id": "0dc88275-38a5-41e1-a8cb-94bc37dc0a75",
   "metadata": {},
   "source": [
    "Example"
   ]
  },
  {
   "cell_type": "code",
   "execution_count": 4,
   "id": "ba59d0a4-7645-4e97-a3fc-e61550d815b0",
   "metadata": {},
   "outputs": [
    {
     "name": "stdout",
     "output_type": "stream",
     "text": [
      "Error: Division by zero.\n"
     ]
    }
   ],
   "source": [
    "# Attempt to divide 10 by 0\n",
    "try:\n",
    "    result = 10 / 0\n",
    "except ZeroDivisionError:\n",
    "    print(\"Error: Division by zero.\")\n"
   ]
  },
  {
   "cell_type": "markdown",
   "id": "8b338c3d-97fa-4b21-a579-ff295a5fcb51",
   "metadata": {},
   "source": [
    "In this example, we use the try statement to attempt to divide 10 by 0, which will raise a ZeroDivisionError exception. We have included an except block to catch this exception and print an error message to the user."
   ]
  },
  {
   "cell_type": "markdown",
   "id": "01ec0ba4-3eb8-43fc-8246-15b2e2932cf2",
   "metadata": {},
   "source": [
    "This message indicates that a ZeroDivisionError occurred while attempting to divide 10 by 0, but the program was able to continue executing after catching and handling the exception.\n",
    "\n",
    "We can also use multiple except blocks to catch and handle different types of exceptions that might occur. "
   ]
  },
  {
   "cell_type": "markdown",
   "id": "21bc9540-8d02-47ca-80dc-a8da1fb8e8dc",
   "metadata": {},
   "source": [
    "Example"
   ]
  },
  {
   "cell_type": "code",
   "execution_count": 5,
   "id": "7d120384-02fc-4ab8-bace-fbf8952ddf28",
   "metadata": {},
   "outputs": [
    {
     "name": "stdout",
     "output_type": "stream",
     "text": [
      "Error: File not found.\n"
     ]
    }
   ],
   "source": [
    "# Attempt to open a file that does not exist\n",
    "try:\n",
    "    with open(\"nonexistent_file.txt\", \"r\") as file:\n",
    "        contents = file.read()\n",
    "except FileNotFoundError:\n",
    "    print(\"Error: File not found.\")\n",
    "except IOError:\n",
    "    print(\"Error: I/O error.\")"
   ]
  },
  {
   "cell_type": "markdown",
   "id": "042354de-9b3f-4090-8da7-2b863b0d3968",
   "metadata": {},
   "source": [
    "We use the try statement to attempt to open a file that does not exist, which will raise either a FileNotFoundError or an IOError exception. We have included two except blocks to catch these exceptions and print appropriate error messages to the user depending on the type of exception that occurred."
   ]
  },
  {
   "cell_type": "markdown",
   "id": "738abff9-18b5-4332-89af-647e39ae7ba8",
   "metadata": {},
   "source": [
    "This message indicates that a FileNotFoundError occurred while attempting to open the file \"nonexistent_file.txt\". If we modified the program to try to open a file that we do not have permission to access, it would output the following error message instead:"
   ]
  },
  {
   "cell_type": "markdown",
   "id": "f25326a8-2229-40ae-b8f9-8689cc923333",
   "metadata": {},
   "source": [
    "Error: I/O error."
   ]
  },
  {
   "cell_type": "markdown",
   "id": "acca2fa9-2c98-4dd1-92e1-ee8361c37868",
   "metadata": {},
   "source": [
    "This message indicates that an IOError occurred while attempting to open the file, which might occur if we do not have the necessary permissions to access the file. By including multiple except blocks, we can catch and handle different types of exceptions that might occur in our program."
   ]
  },
  {
   "cell_type": "markdown",
   "id": "66720927-863f-46e4-8063-369c5b527f6e",
   "metadata": {},
   "source": [
    "### Q4. Explain with an example\n",
    "\n",
    "##### (a) try and else\n",
    "##### (b) finally\n",
    "##### (c) raise"
   ]
  },
  {
   "cell_type": "markdown",
   "id": "1884f258-d10d-4ca7-a863-bfec18eb9932",
   "metadata": {},
   "source": [
    "a) try and else blocks:"
   ]
  },
  {
   "cell_type": "markdown",
   "id": "39a981aa-f648-493c-847f-4b237643b97e",
   "metadata": {},
   "source": [
    "We can include an else block along with a try and except block. The else block will be executed only if no exception is raised in the try block."
   ]
  },
  {
   "cell_type": "code",
   "execution_count": 7,
   "id": "72a4f02d-6006-452c-9fa2-133101da8470",
   "metadata": {},
   "outputs": [
    {
     "name": "stdout",
     "output_type": "stream",
     "text": [
      "The result is: 5.0\n"
     ]
    }
   ],
   "source": [
    "try:\n",
    "    # Execute some code that might raise an exception\n",
    "    result = 10 / 2\n",
    "except ZeroDivisionError:\n",
    "    print(\"Error: Division by zero.\")\n",
    "else:\n",
    "    print(\"The result is:\", result)"
   ]
  },
  {
   "cell_type": "markdown",
   "id": "394f35ad-9f8f-4dce-83ce-ea48fff0a416",
   "metadata": {},
   "source": [
    "We try to divide 10 by 2, which will not raise any exception. Therefore, the else block will be executed and it will print the result.\n",
    "\n",
    "If we try to divide 10 by 0, then a ZeroDivisionError will occur and the except block will be executed instead of the else block."
   ]
  },
  {
   "cell_type": "markdown",
   "id": "3216c138-1285-4ada-9f73-b5194ebc5c0e",
   "metadata": {},
   "source": [
    "b) finally block:"
   ]
  },
  {
   "cell_type": "markdown",
   "id": "88f47323-3dc0-4b54-b5fc-028fa51490f5",
   "metadata": {},
   "source": [
    "We can include a finally block along with a try and except block. The finally block will be executed regardless of whether an exception is raised or not."
   ]
  },
  {
   "cell_type": "code",
   "execution_count": 8,
   "id": "19d7033f-2d43-4b5f-860f-692f36ad3d0c",
   "metadata": {},
   "outputs": [
    {
     "name": "stdout",
     "output_type": "stream",
     "text": [
      "Hello, world!\n",
      "This is a test.\n",
      "\n",
      "Done.\n"
     ]
    }
   ],
   "source": [
    "try:\n",
    "    # Open a file and read its contents\n",
    "    with open(\"example.txt\", \"r\") as file:\n",
    "        contents = file.read()\n",
    "    print(contents)\n",
    "except FileNotFoundError:\n",
    "    print(\"Error: File not found.\")\n",
    "finally:\n",
    "    print(\"Done.\")"
   ]
  },
  {
   "cell_type": "markdown",
   "id": "c1ea333a-30f7-4f3e-be8d-69be617a5511",
   "metadata": {},
   "source": [
    "We try to open a file named \"example.txt\" and read its contents. If the file does not exist, then a FileNotFoundError exception will be raised and the except block will be executed. Regardless of whether an exception is raised or not, the finally block will be executed and it will print \"Done.\" This can be useful for tasks such as closing files or releasing resources that were opened in the try block."
   ]
  },
  {
   "cell_type": "markdown",
   "id": "990e7795-3907-430f-8f43-9e2f65b88b0a",
   "metadata": {},
   "source": [
    "(c) raise statement:"
   ]
  },
  {
   "cell_type": "markdown",
   "id": "6c2c99eb-b119-4817-87ac-8a56f27e945c",
   "metadata": {},
   "source": [
    "We can use the raise statement to raise an exception manually"
   ]
  },
  {
   "cell_type": "code",
   "execution_count": 11,
   "id": "e668f6b4-4917-4eaf-ac96-2a6d71510ae0",
   "metadata": {},
   "outputs": [],
   "source": [
    "# Raise a ValueError exception if the input is negative\n",
    "def square_root(x):\n",
    "    if x < 0:\n",
    "        raise ValueError(\"Input must be non-negative.\")\n",
    "    return math.sqrt(x)"
   ]
  },
  {
   "cell_type": "markdown",
   "id": "5776b03f-f6a3-418b-80ef-bd36873d6d68",
   "metadata": {},
   "source": [
    "We define a function named square_root that takes an input x. If x is negative, then we raise a ValueError exception with a custom error message. Otherwise, we return the square root of x. By raising an exception, we can indicate that an error occurred in our code and provide a custom error message to the user."
   ]
  },
  {
   "cell_type": "markdown",
   "id": "222b4db9-6e6e-474c-aad9-ffc11601d5d1",
   "metadata": {},
   "source": [
    "### Q5. What are Custom Exceptions in Python? Why do we need Custom Exceptions? Explain with an example"
   ]
  },
  {
   "cell_type": "markdown",
   "id": "9b1db84c-3366-402c-9a71-196382a6869f",
   "metadata": {},
   "source": [
    "Custom exceptions in Python are user-defined exceptions that can be created by inheriting from the built-in Exception class or any of its subclasses.\n",
    "\n",
    "Custom exceptions are useful when we need to raise an exception that is specific to our application or module. By creating our own exception class, we can provide a more informative error message and handle the exception more effectively."
   ]
  },
  {
   "cell_type": "markdown",
   "id": "ec954b45-ff2d-43ad-ba1b-00a72f6cc32c",
   "metadata": {},
   "source": [
    "Example"
   ]
  },
  {
   "cell_type": "code",
   "execution_count": 12,
   "id": "784e8ab1-a493-4d6e-bc63-6e7686490194",
   "metadata": {},
   "outputs": [
    {
     "name": "stdout",
     "output_type": "stream",
     "text": [
      "apple is out of stock.\n"
     ]
    }
   ],
   "source": [
    "class OutOfStockError(Exception):\n",
    "    \"\"\"\n",
    "    Exception raised when a product is out of stock\n",
    "    \"\"\"\n",
    "    def __init__(self, product):\n",
    "        self.product = product\n",
    "        self.message = f\"{product} is out of stock.\"\n",
    "        super().__init__(self.message)\n",
    "\n",
    "def check_stock(product, stock):\n",
    "    \"\"\"\n",
    "    Check if a product is in stock\n",
    "    \"\"\"\n",
    "    if stock.get(product, 0) == 0:\n",
    "        raise OutOfStockError(product)\n",
    "    else:\n",
    "        print(f\"{product} is in stock.\")\n",
    "\n",
    "# Example usage\n",
    "stock = {\"apple\": 0, \"banana\": 5, \"orange\": 3}\n",
    "try:\n",
    "    check_stock(\"apple\", stock)\n",
    "except OutOfStockError as e:\n",
    "    print(e.message)\n"
   ]
  },
  {
   "cell_type": "markdown",
   "id": "df3669b0-a640-4f23-afff-35a8bb96f822",
   "metadata": {},
   "source": [
    "We define a custom exception class named OutOfStockError that inherits from the built-in Exception class. The OutOfStockError class takes a product argument in its constructor and sets a custom error message using f-strings.\n",
    "\n",
    "We also define a function named check_stock that takes two arguments: product and stock. If the product is not in stock or has a stock value of 0, then we raise an OutOfStockError exception with the name of the product.\n",
    "\n",
    "Finally, we create a dictionary of stock values and try to check if \"apple\" is in stock. Since \"apple\" has a stock value of 0 in our example, an OutOfStockError exception is raised and caught in the except block. The custom error message is printed to the console.\n",
    "\n",
    "In this way, custom exceptions allow us to handle errors in a more specific and informative way, making it easier to debug and maintain our code."
   ]
  },
  {
   "cell_type": "markdown",
   "id": "cb119811-7122-45ed-8a6f-92707b263186",
   "metadata": {},
   "source": [
    "### Q6. Create a custom exception class. Use this class to handle an exception"
   ]
  },
  {
   "cell_type": "markdown",
   "id": "8943b8ef-3205-4a1e-8bfb-afb2f78aee03",
   "metadata": {},
   "source": [
    "Example"
   ]
  },
  {
   "cell_type": "code",
   "execution_count": 13,
   "id": "efe12fed-aaf4-4e37-996e-2127478f9c95",
   "metadata": {},
   "outputs": [
    {
     "name": "stdout",
     "output_type": "stream",
     "text": [
      "-4 is negative.\n"
     ]
    }
   ],
   "source": [
    "class NegativeNumberError(Exception):\n",
    "    \"\"\"\n",
    "    Exception raised when a negative number is encountered\n",
    "    \"\"\"\n",
    "    def __init__(self, number):\n",
    "        self.number = number\n",
    "        self.message = f\"{number} is negative.\"\n",
    "        super().__init__(self.message)\n",
    "\n",
    "def square_root(number):\n",
    "    \"\"\"\n",
    "    Compute the square root of a number\n",
    "    \"\"\"\n",
    "    if number < 0:\n",
    "        raise NegativeNumberError(number)\n",
    "    return number ** 0.5\n",
    "\n",
    "# Example usage\n",
    "try:\n",
    "    result = square_root(-4)\n",
    "except NegativeNumberError as e:\n",
    "    print(e.message)\n"
   ]
  },
  {
   "cell_type": "markdown",
   "id": "6b1ff1e4-6baf-48de-aed0-390d6a8f862e",
   "metadata": {},
   "source": [
    "We define a custom exception class named NegativeNumberError that inherits from the built-in Exception class. The NegativeNumberError class takes a number argument in its constructor and sets a custom error message using f-strings.\n",
    "\n",
    "We also define a function named square_root that takes a number argument. If the number is negative, then we raise a NegativeNumberError exception with the value of the number. Otherwise, we compute and return the square root of the number.\n",
    "\n",
    "Finally, we call the square_root function with a negative number (-4 in this case). Since the number is negative, a NegativeNumberError exception is raised and caught in the except block. The custom error message is printed to the console.\n",
    "\n",
    "In this way, custom exceptions allow us to handle errors in a more specific and informative way, making it easier to debug and maintain our code."
   ]
  },
  {
   "cell_type": "code",
   "execution_count": null,
   "id": "e3318e1d-0345-4d6d-956e-80195e4b19a4",
   "metadata": {},
   "outputs": [],
   "source": []
  }
 ],
 "metadata": {
  "kernelspec": {
   "display_name": "Python 3 (ipykernel)",
   "language": "python",
   "name": "python3"
  },
  "language_info": {
   "codemirror_mode": {
    "name": "ipython",
    "version": 3
   },
   "file_extension": ".py",
   "mimetype": "text/x-python",
   "name": "python",
   "nbconvert_exporter": "python",
   "pygments_lexer": "ipython3",
   "version": "3.10.8"
  }
 },
 "nbformat": 4,
 "nbformat_minor": 5
}
