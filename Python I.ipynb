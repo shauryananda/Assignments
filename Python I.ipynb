{
 "cells": [
  {
   "cell_type": "markdown",
   "id": "1842a6ab-517d-4d2e-a412-a08d79c4f5ae",
   "metadata": {},
   "source": [
    "### Q1. Who developed Python Programming Language?"
   ]
  },
  {
   "cell_type": "markdown",
   "id": "bb410146-fe89-4ea9-8d7c-e77de5f26936",
   "metadata": {},
   "source": [
    "Python programming language was developed by Guido van Rossum, a Dutch programmer. He created Python in the late 1980s while working at the National Research Institute for Mathematics and Computer Science (CWI) in the Netherlands. The first version of Python, version 0.9.0, was released in February 1991. Since then, Python has undergone numerous updates and revisions, with the latest stable version being Python 3.10, released in October 2021."
   ]
  },
  {
   "cell_type": "markdown",
   "id": "63b0d238-483e-4cc8-80e6-e379e1c13ed2",
   "metadata": {},
   "source": [
    "### Q2. Which type of programming does Python support?"
   ]
  },
  {
   "cell_type": "markdown",
   "id": "62abd549-3e90-4312-8db4-6d0885ab9695",
   "metadata": {},
   "source": [
    "Python is a high-level, general-purpose programming language that supports several programming paradigms, including:\n",
    "\n",
    "Procedural programming: Python supports the creation of procedures or functions that operate on data.\n",
    "\n",
    "Object-oriented programming (OOP): Python supports OOP concepts like encapsulation, inheritance, and polymorphism.\n",
    "\n",
    "Functional programming: Python supports functional programming concepts like lambda functions and map, filter, and reduce functions.\n",
    "\n",
    "Scripting programming: Python is widely used as a scripting language for automation, rapid prototyping, and web development.\n",
    "\n",
    "Python's versatility in supporting multiple programming paradigms makes it a popular choice for a wide range of applications and use cases."
   ]
  },
  {
   "cell_type": "markdown",
   "id": "bee3ee13-7660-4f8d-9ee3-623cc71486d0",
   "metadata": {},
   "source": [
    "### Q3. Is Python case sensitive when dealing with identifiers?"
   ]
  },
  {
   "cell_type": "markdown",
   "id": "36ce8295-7649-40a6-98df-d4ef7c7c9999",
   "metadata": {},
   "source": [
    "Yes, Python is a case-sensitive language when it comes to identifiers, such as variable names, function names, and class names. This means that Python distinguishes between uppercase and lowercase letters in identifiers.\n",
    "\n",
    "For example, the variables \"myVariable\", \"MyVariable\", and \"MYVARIABLE\" are three different variables in Python, and changing the case of any letter in the variable name will create a new variable."
   ]
  },
  {
   "cell_type": "markdown",
   "id": "24601313-36de-4de9-b62a-e1105bf647e9",
   "metadata": {},
   "source": [
    "Example"
   ]
  },
  {
   "cell_type": "code",
   "execution_count": 1,
   "id": "912a182e-d8d0-4ffc-8412-96db8ca8cf6d",
   "metadata": {},
   "outputs": [
    {
     "name": "stdout",
     "output_type": "stream",
     "text": [
      "10\n",
      "20\n",
      "30\n"
     ]
    }
   ],
   "source": [
    "myVariable = 10\n",
    "MyVariable = 20\n",
    "MYVARIABLE = 30\n",
    "\n",
    "print(myVariable)   \n",
    "print(MyVariable)   \n",
    "print(MYVARIABLE)   "
   ]
  },
  {
   "cell_type": "markdown",
   "id": "98087cf6-8f48-4395-82d1-f5b586db16e5",
   "metadata": {},
   "source": [
    "### Q4. What is the correct extension of the Python file?"
   ]
  },
  {
   "cell_type": "markdown",
   "id": "6d12fe50-49a8-413f-97e0-07fc8974aebf",
   "metadata": {},
   "source": [
    "The correct extension for a Python file is \".py\"."
   ]
  },
  {
   "cell_type": "markdown",
   "id": "2d43c542-a86b-46da-b81f-84871b535fd0",
   "metadata": {},
   "source": [
    "It is important to use the correct file extension when saving Python files, as this helps ensure that other developers and tools recognize the file as a Python script. Additionally, some code editors and IDEs use the file extension to provide syntax highlighting and other features specific to Python programming."
   ]
  },
  {
   "cell_type": "markdown",
   "id": "6b3c9dbf-cdac-4f7f-8de6-69e65c58988c",
   "metadata": {},
   "source": [
    "### Q5. Is Python code compiled or interpreted?"
   ]
  },
  {
   "cell_type": "markdown",
   "id": "652ff383-095e-46c6-a536-d38fe7007dd4",
   "metadata": {},
   "source": [
    "Python code is interpreted, rather than compiled. This means that Python code is executed directly by the Python interpreter without first being compiled into machine code.\n",
    "\n",
    "When you run a Python program, the Python interpreter reads the source code and converts it to bytecode, which is a lower-level representation of the code that can be executed by the interpreter. The bytecode is not machine code, but it is a form of code that is optimized for execution by the interpreter."
   ]
  },
  {
   "cell_type": "markdown",
   "id": "10b041fe-ff58-46d6-8a0e-aedaff4e3ebe",
   "metadata": {},
   "source": [
    "### Q6. Name a few blocks of code used to define in Python language"
   ]
  },
  {
   "cell_type": "markdown",
   "id": "05d3eeb7-a14d-4f47-9a10-96b1cf0a021c",
   "metadata": {},
   "source": [
    "Code blocks are defined by their indentation level rather than with explicit block delimiters like curly braces or keywords."
   ]
  },
  {
   "cell_type": "markdown",
   "id": "4ceb2c9c-256f-49aa-9e57-4ffe53de95c6",
   "metadata": {},
   "source": [
    "Example"
   ]
  },
  {
   "cell_type": "markdown",
   "id": "f3fc2438-a608-413b-937a-3b9afb14c894",
   "metadata": {},
   "source": [
    "Functions: \n",
    "\n",
    "Functions in Python are defined with the def keyword, followed by the function name and a colon. The indented code block after the colon defines the function body."
   ]
  },
  {
   "cell_type": "code",
   "execution_count": 2,
   "id": "c5881e90-1cda-48bc-9078-43f499ca94e8",
   "metadata": {},
   "outputs": [],
   "source": [
    "def greet(name):\n",
    "    print(\"Hello, \" + name + \"!\")"
   ]
  },
  {
   "cell_type": "markdown",
   "id": "923f24f5-0fe3-4ae5-ba64-48063b27c15a",
   "metadata": {},
   "source": [
    "Conditional statements:\n",
    "\n",
    "Conditional statements in Python use the if, elif, and else keywords. The indented code block following each condition defines the code to be executed if the condition is true."
   ]
  },
  {
   "cell_type": "code",
   "execution_count": 3,
   "id": "20955907-3699-4d1a-9104-8fdd6735c640",
   "metadata": {},
   "outputs": [
    {
     "name": "stdout",
     "output_type": "stream",
     "text": [
      "x is less than or equal to 5\n"
     ]
    }
   ],
   "source": [
    "x = 5\n",
    "\n",
    "if x > 10:\n",
    "    print(\"x is greater than 10\")\n",
    "elif x > 5:\n",
    "    print(\"x is between 5 and 10\")\n",
    "else:\n",
    "    print(\"x is less than or equal to 5\")"
   ]
  },
  {
   "cell_type": "markdown",
   "id": "7455651e-593e-4df9-a5ad-d17c58c7e514",
   "metadata": {},
   "source": [
    "Loops:\n",
    "\n",
    "Python supports for loops and while loops. The indented code block after the loop header defines the code to be executed for each iteration of the loop."
   ]
  },
  {
   "cell_type": "code",
   "execution_count": 4,
   "id": "1d1598b4-aaef-4d22-9915-31b0538d9b85",
   "metadata": {},
   "outputs": [
    {
     "name": "stdout",
     "output_type": "stream",
     "text": [
      "apple\n",
      "banana\n",
      "cherry\n",
      "0\n",
      "1\n",
      "2\n",
      "3\n",
      "4\n"
     ]
    }
   ],
   "source": [
    "# for loop example\n",
    "fruits = [\"apple\", \"banana\", \"cherry\"]\n",
    "for fruit in fruits:\n",
    "    print(fruit)\n",
    "\n",
    "# while loop example\n",
    "i = 0\n",
    "while i < 5:\n",
    "    print(i)\n",
    "    i += 1"
   ]
  },
  {
   "cell_type": "markdown",
   "id": "74fe3c97-0535-44a0-bd6e-8e2b122b9ec6",
   "metadata": {},
   "source": [
    "### Q7. State a character used to give single-line comments in Python"
   ]
  },
  {
   "cell_type": "markdown",
   "id": "364f6cb3-d74c-41a7-b05d-eb9da0b91a56",
   "metadata": {},
   "source": [
    "A hash symbol (#) is used to indicate a single-line comment.\n",
    "\n",
    "Any text on the same line after the # symbol is ignored by the Python interpreter, so comments can be used to explain code or provide additional information without affecting the program's functionality."
   ]
  },
  {
   "cell_type": "code",
   "execution_count": 5,
   "id": "59f2f1a5-bfac-466b-ac94-b42e6c13a0f1",
   "metadata": {},
   "outputs": [],
   "source": [
    "# This is a sinle line comment in Python"
   ]
  },
  {
   "cell_type": "markdown",
   "id": "eb2e036a-d919-43dd-9b12-5636c21d366a",
   "metadata": {},
   "source": [
    "The text after the # symbol is ignored by Python, and it is used to provide additional information about the code."
   ]
  },
  {
   "cell_type": "markdown",
   "id": "946c4af8-3bfd-47b2-b4ef-db084cd2743c",
   "metadata": {},
   "source": [
    "### Q8. Mention functions which can help us to find the version of python that we are currently working on"
   ]
  },
  {
   "cell_type": "markdown",
   "id": "5866efce-8325-47d5-9386-d1588eb48564",
   "metadata": {},
   "source": [
    "In Python, there are a few functions that can help you to determine the version of Python that you are currently working with:\n",
    "\n",
    "sys.version: This function returns a string that represents the Python version number, including the version number and some additional information about the build."
   ]
  },
  {
   "cell_type": "code",
   "execution_count": 6,
   "id": "999ba23d-7cbe-48e2-968c-11932cc7fb20",
   "metadata": {},
   "outputs": [
    {
     "name": "stdout",
     "output_type": "stream",
     "text": [
      "3.10.8 | packaged by conda-forge | (main, Nov 22 2022, 08:26:04) [GCC 10.4.0]\n"
     ]
    }
   ],
   "source": [
    "import sys\n",
    "\n",
    "print(sys.version)"
   ]
  },
  {
   "cell_type": "markdown",
   "id": "c5883aed-5f56-4108-9eb3-44c3f8376c71",
   "metadata": {},
   "source": [
    "platform.python_version(): This function returns a string that represents the Python version number, without any additional information about the build."
   ]
  },
  {
   "cell_type": "code",
   "execution_count": 7,
   "id": "4459a71f-bf49-46f4-a47f-8a0539eb085f",
   "metadata": {},
   "outputs": [
    {
     "name": "stdout",
     "output_type": "stream",
     "text": [
      "3.10.8\n"
     ]
    }
   ],
   "source": [
    "import platform\n",
    "\n",
    "print(platform.python_version())"
   ]
  },
  {
   "cell_type": "markdown",
   "id": "9e29a122-a09b-4302-9a28-82adb5b73b4f",
   "metadata": {},
   "source": [
    "sys.version_info: This function returns a tuple that contains the individual components of the Python version number, such as the major version, minor version, and micro version."
   ]
  },
  {
   "cell_type": "code",
   "execution_count": 8,
   "id": "37c3bc20-e3b4-4314-a14f-cf96f23e8596",
   "metadata": {},
   "outputs": [
    {
     "name": "stdout",
     "output_type": "stream",
     "text": [
      "sys.version_info(major=3, minor=10, micro=8, releaselevel='final', serial=0)\n"
     ]
    }
   ],
   "source": [
    "import sys\n",
    "\n",
    "print(sys.version_info)"
   ]
  },
  {
   "cell_type": "markdown",
   "id": "50e32505-30c6-4fc1-8311-b9878d509b8a",
   "metadata": {},
   "source": [
    "### Q9. Python supports the creation of anonymous functions at runtime, using a construct called ______________"
   ]
  },
  {
   "cell_type": "markdown",
   "id": "02b59436-8529-498f-8e06-4e7782dd793a",
   "metadata": {},
   "source": [
    "The construct in Python used to create anonymous functions at runtime is called lambda."
   ]
  },
  {
   "cell_type": "markdown",
   "id": "844ea314-bca7-4b6c-9706-1870228af720",
   "metadata": {},
   "source": [
    "### Q10. What does pip stand for in Python?"
   ]
  },
  {
   "cell_type": "markdown",
   "id": "cd53bee4-fc3a-4610-8ad0-04c30bd46b9d",
   "metadata": {},
   "source": [
    "pip stands for \"Pip Installs Packages\".\n",
    "\n",
    "pip is a package manager for Python that allows you to install and manage additional packages and libraries that are not part of the standard Python library. It simplifies the process of installing, updating, and removing packages, and it also handles dependencies between packages automatically."
   ]
  },
  {
   "cell_type": "markdown",
   "id": "b2bc5de8-027a-4694-a537-6750be3f7bad",
   "metadata": {},
   "source": [
    "You can use pip to install packages from the Python Package Index (PyPI), which is a repository of thousands of packages contributed by the Python community. To install a package using pip, you can use the following command:"
   ]
  },
  {
   "cell_type": "markdown",
   "id": "902eba99-b2e3-4aa6-9bce-6c2ea6d41524",
   "metadata": {},
   "source": [
    "pip install package-name"
   ]
  },
  {
   "cell_type": "markdown",
   "id": "890066a2-5645-44b9-b6f7-a4689a361170",
   "metadata": {},
   "source": [
    "Once the package is installed, it can be used in your Python code by importing it like any other module or library."
   ]
  },
  {
   "cell_type": "markdown",
   "id": "c9e47083-c2f2-43c2-afe9-1db6ca9f9d3a",
   "metadata": {},
   "source": [
    "### Q11. Mention a few built-in functions in Python"
   ]
  },
  {
   "cell_type": "markdown",
   "id": "0d0c74a7-4f62-4f8b-9e61-8a496105a18e",
   "metadata": {},
   "source": [
    "Python comes with many built-in functions that are available for use without needing to import any additional modules. Here are some examples of commonly used built-in functions in Python:\n",
    "\n",
    "print(): This function is used to print text or values to the console.\n",
    "\n",
    "len(): This function returns the length of a string, list, tuple, or any other sequence.\n",
    "\n",
    "range(): This function returns a sequence of numbers from a specified start value to a specified end value, with a specified step size.\n",
    "\n",
    "type(): This function returns the data type of a specified object.\n",
    "\n",
    "int(), float(), and str(): These functions are used to convert values between different data types.\n",
    "\n",
    "sum(): This function returns the sum of all the values in a sequence.\n",
    "\n",
    "max() and min(): These functions return the maximum and minimum values in a sequence, respectively.\n",
    "\n",
    "input(): This function is used to accept user input from the console.\n",
    "\n",
    "sorted(): This function returns a new sorted list from the items in an iterable.\n",
    "\n",
    "abs(): This function returns the absolute value of a number."
   ]
  },
  {
   "cell_type": "markdown",
   "id": "dfe3aa50-7788-4980-ace0-99a8b2d5a2ff",
   "metadata": {},
   "source": [
    "### Q12. What is the maximum possible length of an identifier in Python"
   ]
  },
  {
   "cell_type": "markdown",
   "id": "f5225fd8-a42e-4d60-898a-4f5edb24e627",
   "metadata": {},
   "source": [
    "The maximum length of an identifier (i.e., the name given to a variable, function, class, or module) is not explicitly defined. However, Python does impose a practical limit on the length of an identifier based on the available memory of the system.\n",
    "\n",
    "According to the Python documentation, the practical limit for identifier length is usually around 79 characters. This is because most editors and tools that are commonly used with Python code have a default limit of 79 characters for displaying code on a single line.\n",
    "\n",
    "However, it is generally a good practice to keep identifier names as short and descriptive as possible, regardless of the maximum length. This helps to make your code more readable and easier to understand for other developers who may be working on the same project."
   ]
  },
  {
   "cell_type": "markdown",
   "id": "41c65cdb-84bb-4976-b568-bf06851c1e1d",
   "metadata": {},
   "source": [
    "### Q13. What are the benefits of using Python?"
   ]
  },
  {
   "cell_type": "markdown",
   "id": "53cac72e-c524-4a3c-9a80-5b1e9d76e1f5",
   "metadata": {},
   "source": [
    "Python has many benefits that make it a popular choice for programming. Here are some of the main benefits of using Python:\n",
    "\n",
    "Easy to learn: Python has a simple and easy-to-understand syntax, which makes it an ideal language for beginners to learn. Its syntax is similar to that of the English language, which makes it easy to read and write code.\n",
    "\n",
    "Large community: Python has a large and active community of developers who contribute to its development and provide support through forums, mailing lists, and social media. This means that there are many resources available for learning and troubleshooting Python.\n",
    "\n",
    "Versatile: Python can be used for a wide range of applications, including web development, data analysis, machine learning, scientific computing, and more. It has a large number of libraries and modules that make it easy to perform complex tasks with minimal code.\n",
    "\n",
    "Cross-platform: Python is a cross-platform language, which means that it can run on different operating systems like Windows, Mac, and Linux.\n",
    "\n",
    "Open-source: Python is an open-source language, which means that its source code is freely available and can be modified and redistributed by anyone. This makes it a popular choice for both commercial and non-commercial projects.\n",
    "\n",
    "High productivity: Python has a very high level of productivity, thanks to its concise and expressive syntax, easy-to-use libraries, and powerful features like dynamic typing and automatic memory management.\n",
    "\n",
    "Great for prototyping: Python is often used for rapid prototyping, thanks to its ability to quickly develop and test code. This makes it ideal for building and testing new ideas and concepts quickly and efficiently.\n",
    "\n",
    "Overall, Python's simplicity, versatility, and strong community make it an excellent choice for a wide range of applications, from simple scripts to complex web applications and machine learning models."
   ]
  },
  {
   "cell_type": "markdown",
   "id": "524a36c7-4850-4e46-ac88-2ba5efe1956d",
   "metadata": {},
   "source": [
    "### Q14. How is memory managed in Python?"
   ]
  },
  {
   "cell_type": "markdown",
   "id": "c6447c5d-1589-4728-819b-21ebbf941fe9",
   "metadata": {},
   "source": [
    "Memory management is handled automatically by the Python interpreter. Python uses a technique called reference counting to keep track of objects in memory.\n",
    "\n",
    "Each object in Python is assigned a reference count, which is the number of variables or data structures that point to that object. When the reference count of an object reaches zero, it is deleted from memory automatically by the Python interpreter.\n",
    "\n",
    "Python also uses a garbage collector to detect and delete objects that are no longer referenced. The garbage collector periodically scans the memory to identify objects with a reference count of zero and deletes them.\n",
    "\n",
    "In addition to reference counting and garbage collection, Python also uses a technique called memory pooling to optimize memory usage. Memory pooling involves reusing blocks of memory that have already been allocated for a particular type of object, rather than allocating new memory each time an object is created. This can help to reduce the amount of memory that is used by a Python program.\n",
    "\n",
    "Overall, Python's automatic memory management system helps to simplify memory management for developers and can help to prevent common memory-related errors, such as memory leaks and dangling pointers."
   ]
  },
  {
   "cell_type": "markdown",
   "id": "0d157c48-f9da-4a4f-9f15-e78f4d685121",
   "metadata": {},
   "source": [
    "### Q15. How to install Python on Windows and set path variables?"
   ]
  },
  {
   "cell_type": "markdown",
   "id": "f6a10e25-e5c6-4b8e-95f8-ad4f1d536f45",
   "metadata": {},
   "source": [
    "The steps to install Python on Windows and set path variables:\n",
    "\n",
    "Go to the official Python website (https://www.python.org/downloads/windows/) and download the latest version of Python for Windows.\n",
    "\n",
    "Double-click the downloaded file to start the installation process.\n",
    "\n",
    "In the installation wizard, select \"Install Now\" to install Python with the default settings. Alternatively, you can choose \"Customize Installation\" to customize the installation location, components, and other options.\n",
    "\n",
    "Once the installation is complete, open the Start menu and search for \"Environment Variables.\"\n",
    "\n",
    "Click \"Edit the system environment variables\" to open the System Properties window.\n",
    "\n",
    "Click the \"Environment Variables\" button to open the Environment Variables window.\n",
    "\n",
    "In the \"System Variables\" section, scroll down and find the \"Path\" variable. Click \"Edit\" to modify the Path variable.\n",
    "\n",
    "Add the path to the Python installation directory to the Path variable. The path is typically \"C:\\PythonXX;C:\\PythonXX\\Scripts\", where \"XX\" is the version number of Python you installed.\n",
    "\n",
    "Click \"OK\" to save the changes to the Path variable.\n",
    "\n",
    "Open a command prompt and type \"python\" to verify that Python is installed and the path variables are set correctly. You should see the Python version number and the Python prompt \">>>\"."
   ]
  },
  {
   "cell_type": "markdown",
   "id": "d7a08be4-2ac8-4937-8b1f-6e5cae3a7039",
   "metadata": {},
   "source": [
    "### Q16. Is indentation required in Python?"
   ]
  },
  {
   "cell_type": "markdown",
   "id": "0c81c8db-0011-4ebe-bc52-da3a28f0096a",
   "metadata": {},
   "source": [
    "Yes, indentation is required in Python. In fact, it is a fundamental part of the Python language syntax.\n",
    "\n",
    "In Python, indentation is used to group statements together into blocks of code. Code blocks are defined by the level of indentation, and statements that are indented to the same level are considered part of the same block."
   ]
  },
  {
   "cell_type": "markdown",
   "id": "2722ff13-6be0-4865-bfef-0046e08a408b",
   "metadata": {},
   "source": [
    "Example"
   ]
  },
  {
   "cell_type": "code",
   "execution_count": 9,
   "id": "61a607d7-9af9-4325-b432-7498a155edd9",
   "metadata": {},
   "outputs": [
    {
     "name": "stdout",
     "output_type": "stream",
     "text": [
      "x is positive\n"
     ]
    }
   ],
   "source": [
    "if x > 0:\n",
    "    print(\"x is positive\")\n",
    "else:\n",
    "    print(\"x is non-positive\")"
   ]
  },
  {
   "cell_type": "markdown",
   "id": "174014d9-3d9f-4c50-8619-8564c67a355b",
   "metadata": {},
   "source": [
    "if statement and the else statement are indented to the same level, so they are considered part of the same block. The print statements inside each block are also indented to the same level.\n",
    "\n",
    "If the indentation is incorrect or inconsistent, Python will raise an IndentationError at runtime.\n",
    "\n",
    "It is recommended to use 4 spaces for each level of indentation, although we can also use a single tab character or a combination of tabs and spaces. The important thing is to be consistent throughout the code."
   ]
  },
  {
   "cell_type": "code",
   "execution_count": null,
   "id": "4829affb-12c7-441b-a8b2-c58f3e1bdfc0",
   "metadata": {},
   "outputs": [],
   "source": []
  }
 ],
 "metadata": {
  "kernelspec": {
   "display_name": "Python 3 (ipykernel)",
   "language": "python",
   "name": "python3"
  },
  "language_info": {
   "codemirror_mode": {
    "name": "ipython",
    "version": 3
   },
   "file_extension": ".py",
   "mimetype": "text/x-python",
   "name": "python",
   "nbconvert_exporter": "python",
   "pygments_lexer": "ipython3",
   "version": "3.10.8"
  }
 },
 "nbformat": 4,
 "nbformat_minor": 5
}
