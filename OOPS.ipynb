{
 "cells": [
  {
   "cell_type": "markdown",
   "id": "0b90ad7a-c1c7-4db7-866b-164b025a1d8e",
   "metadata": {},
   "source": [
    "### Q1. Explain Class and Object with respect to Object-Oriented Programming. Give a suitable example."
   ]
  },
  {
   "cell_type": "markdown",
   "id": "a21314d4-852c-473a-9d2b-78dc861841f7",
   "metadata": {},
   "source": [
    "In Object-Oriented Programming (OOP), a class is a blueprint or a template that defines the properties and behaviors of objects of a particular type. An object, on the other hand, is an instance of a class that encapsulates data and functionality.\n",
    "\n",
    "For example, let's consider a class called Person. This class could have attributes such as name, age, gender, and height, as well as methods or functions like speak(), eat(), and sleep().\n",
    "\n",
    "In OOP, we create an object or instance of the Person class when we need to represent a particular person. This object would have specific values for its attributes such as name = \"John\", age = 30, gender = \"male\", and height = 180 cm. We can then call methods on this object, such as john.speak() or john.eat(), which would perform the actions defined in the Person class."
   ]
  },
  {
   "cell_type": "markdown",
   "id": "2b748ecf-f7af-4729-add0-66e5d5cd305c",
   "metadata": {},
   "source": [
    "Example"
   ]
  },
  {
   "cell_type": "code",
   "execution_count": 1,
   "id": "0d87c4f7-4dcb-495b-bced-d3260a93c272",
   "metadata": {},
   "outputs": [
    {
     "name": "stdout",
     "output_type": "stream",
     "text": [
      "Hello, my name is John\n",
      "John is eating.\n",
      "John is sleeping.\n"
     ]
    }
   ],
   "source": [
    "class Person:\n",
    "    def __init__(self, name, age, gender, height):\n",
    "        self.name = name\n",
    "        self.age = age\n",
    "        self.gender = gender\n",
    "        self.height = height\n",
    "        \n",
    "    def speak(self):\n",
    "        print(\"Hello, my name is\", self.name)\n",
    "        \n",
    "    def eat(self):\n",
    "        print(self.name, \"is eating.\")\n",
    "        \n",
    "    def sleep(self):\n",
    "        print(self.name, \"is sleeping.\")\n",
    "        \n",
    "john = Person(\"John\", 30, \"male\", 180)\n",
    "john.speak()  \n",
    "john.eat()    \n",
    "john.sleep()"
   ]
  },
  {
   "cell_type": "markdown",
   "id": "ff9639d3-5dda-4bf6-85f2-fda683f60b8b",
   "metadata": {},
   "source": [
    "In this example, Person is a class that defines the properties and behaviors of a person. john is an object or instance of the Person class, with specific values for its attributes. We can call methods on the john object to perform actions or behaviors defined in the Person class."
   ]
  },
  {
   "cell_type": "markdown",
   "id": "4c0899e6-a813-4e9c-9282-532fbc4ee984",
   "metadata": {},
   "source": [
    "### Q2. Name the four pillars of OOPs."
   ]
  },
  {
   "cell_type": "markdown",
   "id": "4da4eb42-3b8f-41f4-b35c-f96dd1b55f97",
   "metadata": {},
   "source": [
    "The four pillars of OOPS are:\n",
    "\n",
    "1. Abstraction : \n",
    "\n",
    "Abstraction in Object-Oriented Programming (OOP) refers to the concept of hiding the complexity of a system by exposing only the necessary details to the user. It involves creating a simplified model of a complex system that can be easily understood by the user.\n",
    "\n",
    "In OOP, abstraction is achieved through the use of abstract classes and interfaces. An abstract class is a class that cannot be instantiated and is designed to be extended by other classes. It defines common attributes and behaviors that its subclasses should implement. An interface, on the other hand, defines a set of methods that a class must implement.\n",
    "\n",
    "Abstraction allows for modular design and separates the implementation details from the interface. This makes it easier to maintain and update the system over time. It also allows for code reuse, as the same interface can be implemented by multiple classes.\n",
    "\n",
    "2. Encapsulation:\n",
    "\n",
    "Encapsulation is one of the fundamental concepts in Object-Oriented Programming (OOPs) that helps in achieving data abstraction and information hiding. Encapsulation refers to the technique of wrapping the data and code together in a single unit, called a class.\n",
    "\n",
    "In encapsulation, the class acts as a container or a capsule that encapsulates all the data members (variables) and member functions (methods) inside it. The data members of the class are hidden from the outside world and can only be accessed through the member functions of the class.\n",
    "\n",
    "This way, encapsulation helps in protecting the data from any accidental or intentional manipulation, misuse, or modification by external entities. It also ensures that the internal workings of the class are hidden from the outside world, thereby promoting security and modularity.\n",
    "\n",
    "Encapsulation also makes it easier to maintain and modify the code in the future as any changes made to the internal workings of the class do not affect the code outside the class. This improves the overall maintainability and scalability of the codebase.\n",
    "\n",
    "3. Inheritance:\n",
    "\n",
    "Inheritance is a fundamental concept in Object-Oriented Programming (OOP) that allows classes to inherit properties and behaviors from other classes. It is a mechanism by which a class can derive the properties and functionalities of another class.\n",
    "\n",
    "The class that is being inherited from is called the parent or base class, and the class that inherits from it is called the child or derived class. Inheritance establishes a relationship between these classes, where the child class is a specialized version of the parent class.\n",
    "\n",
    "Inheritance allows us to reuse the code that has already been written in the parent class, making the code more modular, maintainable and scalable. The derived class can override or extend the behavior of the parent class, allowing the developer to create new classes that share some common behavior with the parent class but also have their unique features.\n",
    "\n",
    "To implement inheritance in OOP, we use the keyword \"extends\" to define a class that inherits from another class. The child class then inherits all the non-private properties and methods of the parent class.\n",
    "\n",
    "4. Polymorphism:\n",
    "\n",
    "Polymorphism is a fundamental concept in object-oriented programming (OOP) that refers to the ability of objects to take on multiple forms or behaviors depending on the context in which they are used. Polymorphism enables objects to respond to messages or method calls in different ways depending on their type or class.\n",
    "\n",
    "There are two types of polymorphism:\n",
    "\n",
    "Compile-time Polymorphism: Also known as method overloading, this type of polymorphism is resolved at compile time. In method overloading, two or more methods can have the same name but different parameters or arguments.\n",
    "\n",
    "Runtime Polymorphism: Also known as method overriding, this type of polymorphism is resolved at runtime. In method overriding, a subclass provides its own implementation of a method that is already defined in its superclass.\n",
    "\n",
    "Polymorphism is a key aspect of OOP that promotes flexibility, reusability, and extensibility of code. It allows developers to write more generic and flexible code that can be reused across multiple projects and scenarios."
   ]
  },
  {
   "cell_type": "markdown",
   "id": "a367a298-bb49-47f3-aeef-1ce07d379a5e",
   "metadata": {},
   "source": [
    "### Q3. Explain why the __init__() function is used. Give a suitable example."
   ]
  },
  {
   "cell_type": "markdown",
   "id": "a6cc440f-6201-4731-9c8a-3b35727808e6",
   "metadata": {},
   "source": [
    "The __init__() function is a special method in Python that is used to initialize an object after it has been created. It is a constructor method that gets called automatically when an object of a class is created.\n",
    "\n",
    "The main purpose of the __init__() method is to set the initial state of the object by assigning values to its attributes. It takes the self parameter which refers to the instance of the class that is being created, and any additional parameters that need to be passed to initialize the object."
   ]
  },
  {
   "cell_type": "markdown",
   "id": "1da70ab5-48c1-471a-a424-f10a4c39b431",
   "metadata": {},
   "source": [
    "Example"
   ]
  },
  {
   "cell_type": "code",
   "execution_count": null,
   "id": "4b8eeb37-2625-42f9-a2a5-2024ccdde10f",
   "metadata": {
    "tags": []
   },
   "outputs": [
    {
     "data": {
      "text/plain": [
       "10"
      ]
     },
     "execution_count": 6,
     "metadata": {},
     "output_type": "execute_result"
    }
   ],
   "source": [
    "class Car:\n",
    "    def __init__(self, make, model, year):\n",
    "        self.make = make\n",
    "        self.model = model\n",
    "        self.year = year\n",
    "        self.speed = 0\n",
    "\n",
    "    def accelerate(self):\n",
    "        self.speed += 10\n",
    "\n",
    "    def brake(self):\n",
    "        if self.speed >= 10:\n",
    "            self.speed -= 10\n",
    "\n",
    "    def get_speed(self):\n",
    "        return self.speed\n",
    "    \n",
    "my_car = Car(\"Toyota\", \"Corolla\", 2022)\n",
    "my_car.accelerate()   \n",
    "my_car.accelerate()   \n",
    "my_car.get_speed()    \n",
    "my_car.brake()        \n",
    "my_car.get_speed()"
   ]
  },
  {
   "cell_type": "code",
   "execution_count": 7,
   "id": "b75ceb71-9d8c-4bfd-a8a8-4855f4f56a93",
   "metadata": {},
   "outputs": [
    {
     "data": {
      "text/plain": [
       "20"
      ]
     },
     "execution_count": 7,
     "metadata": {},
     "output_type": "execute_result"
    }
   ],
   "source": [
    "my_car.accelerate()   \n",
    "my_car.accelerate()   \n",
    "my_car.get_speed()    \n",
    "my_car.brake()        \n",
    "my_car.get_speed()"
   ]
  },
  {
   "cell_type": "markdown",
   "id": "d963a29d-d37c-4567-b332-86167125720e",
   "metadata": {},
   "source": [
    "We have a Car class with the __init__() method that takes three parameters - make, model, and year. These parameters are used to initialize the make, model, and year attributes of the car object. The __init__() method also initializes the speed attribute to 0.\n",
    "\n",
    "The Car class also has three other methods - accelerate(), brake(), and get_speed(). These methods are used to manipulate the speed attribute of the car object.\n",
    "\n",
    "the __init__() method is called automatically with the parameters we passed (\"Toyota\", \"Corolla\", and 2022). This creates a new car object with the make, model, year, and speed attributes initialized to their default values."
   ]
  },
  {
   "cell_type": "markdown",
   "id": "8cc5c15c-1012-472a-9487-628b40a0c4e8",
   "metadata": {},
   "source": [
    "### Q4. Why self is used in OOPS?"
   ]
  },
  {
   "cell_type": "markdown",
   "id": "98d6ea0f-a682-4dd7-9c5c-40266e992e89",
   "metadata": {},
   "source": [
    "\"self\" is a reference to the instance of the class that is being manipulated. It is used to refer to the attributes and methods of the current instance of the class.\n",
    "\n",
    "In Python, \"self\" is a convention that is used to reference the instance of the class that is being manipulated. It is typically the first parameter of instance methods in a class. When an instance method is called, the interpreter automatically passes the instance to the method as the first argument, which is referred to as \"self\".\n",
    "\n",
    "Using \"self\" in OOP is important because it allows you to access and modify the attributes and methods of a particular instance of the class. Without \"self\", you would not be able to differentiate between the attributes and methods of one instance of the class versus another instance of the same class."
   ]
  },
  {
   "cell_type": "markdown",
   "id": "deb01910-2636-4862-bfc8-9194a1111f7b",
   "metadata": {},
   "source": [
    "\"self\" is used in OOP to allow each instance of a class to have its own unique set of attributes and methods, and to enable those attributes and methods to be accessed and manipulated from within the instance methods of the class."
   ]
  },
  {
   "cell_type": "markdown",
   "id": "ce113177-6b19-4adb-974e-53551b7a8cf7",
   "metadata": {},
   "source": [
    "### Q5. What is inheritance? Give an example for each type of inheritance."
   ]
  },
  {
   "cell_type": "markdown",
   "id": "d1ff628d-daf7-4190-88a2-f82ef9ccb281",
   "metadata": {},
   "source": [
    "Inheritance is a mechanism in object-oriented programming that allows one class to inherit properties and methods from another class. The class that inherits properties and methods is called the \"subclass\" or \"derived class,\" while the class that is inherited from is called the \"superclass\" or \"base class.\"\n",
    "\n",
    "There are four types of inheritance:\n",
    "\n",
    "Single Inheritance: In single inheritance, a subclass inherits properties and methods from only one superclass. For example:"
   ]
  },
  {
   "cell_type": "code",
   "execution_count": 9,
   "id": "2c19cd6f-5ff8-4349-b353-648973242878",
   "metadata": {},
   "outputs": [
    {
     "name": "stdout",
     "output_type": "stream",
     "text": [
      "Rufus\n",
      "Woof!\n"
     ]
    }
   ],
   "source": [
    "class Animal:\n",
    "    def __init__(self, name):\n",
    "        self.name = name\n",
    "\n",
    "    def speak(self):\n",
    "        raise NotImplementedError(\"Subclass must implement abstract method\")\n",
    "\n",
    "class Dog(Animal):\n",
    "    def speak(self):\n",
    "        return \"Woof!\"\n",
    "\n",
    "my_dog = Dog(\"Rufus\")\n",
    "print(my_dog.name)  \n",
    "print(my_dog.speak())"
   ]
  },
  {
   "cell_type": "markdown",
   "id": "af4a9c3d-5e03-42e7-a105-1185a6c26920",
   "metadata": {},
   "source": [
    "Multiple Inheritance: In multiple inheritance, a subclass inherits properties and methods from two or more superclasses. For example:"
   ]
  },
  {
   "cell_type": "code",
   "execution_count": null,
   "id": "a85d55c1-0ec7-49b4-ae64-d9d3efc8a431",
   "metadata": {},
   "outputs": [],
   "source": [
    "class Bird:\n",
    "    def __init__(self, name):\n",
    "        self.name = name\n",
    "\n",
    "    def fly(self):\n",
    "        return \"I can fly!\"\n",
    "\n",
    "class Penguin(Bird, Animal):\n",
    "    def __init__(self, name):\n",
    "        Bird.__init__(self, name)\n",
    "        Animal.__init__(self, name)\n",
    "\n",
    "my_penguin = Penguin(\"Pingu\")\n",
    "print(my_penguin.name)  # Output: \"Pingu\"\n",
    "print(my_penguin.fly())  # Output: \"I can fly!\"\n",
    "print(my_penguin.speak())  # Output: \"NotImplementedError\""
   ]
  },
  {
   "cell_type": "markdown",
   "id": "ff26c992-fa0a-421b-8b5d-eb651870c221",
   "metadata": {},
   "source": [
    "Hierarchical Inheritance: In hierarchical inheritance, two or more subclasses inherit properties and methods from the same superclass. For example:"
   ]
  },
  {
   "cell_type": "code",
   "execution_count": 15,
   "id": "4017cebf-38e0-4f36-a32e-3e8b1b524d50",
   "metadata": {},
   "outputs": [],
   "source": [
    "class Vehicle:\n",
    "    def __init__(self, color):\n",
    "        self.color = color\n",
    "\n",
    "class Car(Vehicle):\n",
    "    def __init__(self, color, make):\n",
    "        super().__init__(color)\n",
    "        self.make = make\n",
    "\n",
    "class Motorcycle(Vehicle):\n",
    "    def __init__(self, color, model):\n",
    "        super().__init__(color)\n",
    "        self.model = model\n",
    "\n",
    "my_car = Car(\"red\", \"Honda\")\n",
    "my_motorcycle = Motorcycle(\"blue\", \"Harley-Davidson\")"
   ]
  },
  {
   "cell_type": "markdown",
   "id": "30cf46d9-1955-4f5e-a5f1-e514abda4fef",
   "metadata": {},
   "source": [
    "Multi-level Inheritance: In multi-level inheritance, a subclass inherits properties and methods from a superclass, which in turn inherits properties and methods from another superclass. For example:"
   ]
  },
  {
   "cell_type": "code",
   "execution_count": 17,
   "id": "c9f84a25-46e4-4d7b-95b5-6502ea5d2549",
   "metadata": {},
   "outputs": [
    {
     "name": "stdout",
     "output_type": "stream",
     "text": [
      "Rufus\n",
      "True\n",
      "Woof!\n"
     ]
    }
   ],
   "source": [
    "class Animal:\n",
    "    def __init__(self, name):\n",
    "        self.name = name\n",
    "\n",
    "    def speak(self):\n",
    "        raise NotImplementedError(\"Subclass must implement abstract method\")\n",
    "\n",
    "class Mammal(Animal):\n",
    "    def __init__(self, name):\n",
    "        super().__init__(name)\n",
    "        self.is_mammal = True\n",
    "\n",
    "class Dog(Mammal):\n",
    "    def __init__(self, name):\n",
    "        super().__init__(name)\n",
    "        self.sound = \"Woof!\"\n",
    "\n",
    "my_dog = Dog(\"Rufus\")\n",
    "print(my_dog.name)  \n",
    "print(my_dog.is_mammal)  \n",
    "print(my_dog.sound)"
   ]
  },
  {
   "cell_type": "code",
   "execution_count": null,
   "id": "3021c182-25ac-49e1-b394-8d27ed4b8646",
   "metadata": {},
   "outputs": [],
   "source": []
  }
 ],
 "metadata": {
  "kernelspec": {
   "display_name": "Python 3 (ipykernel)",
   "language": "python",
   "name": "python3"
  },
  "language_info": {
   "codemirror_mode": {
    "name": "ipython",
    "version": 3
   },
   "file_extension": ".py",
   "mimetype": "text/x-python",
   "name": "python",
   "nbconvert_exporter": "python",
   "pygments_lexer": "ipython3",
   "version": "3.10.8"
  }
 },
 "nbformat": 4,
 "nbformat_minor": 5
}
