{
 "cells": [
  {
   "cell_type": "markdown",
   "id": "69a26578-5960-40f6-90f0-95f9d199e6c8",
   "metadata": {},
   "source": [
    "### Q1. Create a function which will take a list as an argument and return the product of all the numbers after creating a flat list.\n",
    "\n",
    "#### Use the below-given list as an argument for your function.\n",
    "\n",
    "#### list1 = [1,2,3,4, [44,55,66, True], False, (34,56,78,89,34), {1,2,3,3,2,1}, {1:34, \"key2\": [55, 67, 78, 89], 4: (45,\n",
    "#### 22, 61, 34)}, [56, 'data science'], 'Machine Learning']"
   ]
  },
  {
   "cell_type": "code",
   "execution_count": 19,
   "id": "3732dd93-6449-4f43-8a7e-2e0188c91fb2",
   "metadata": {},
   "outputs": [],
   "source": [
    "def product_of_numbers(lst):\n",
    "    flat_lst = []\n",
    "    for item in lst:\n",
    "        if isinstance(item, list):\n",
    "            flat_lst.extend(product_of_numbers(item))\n",
    "        elif isinstance(item, tuple):\n",
    "            flat_lst.extend(product_of_numbers(list(item)))\n",
    "        elif isinstance(item, dict):\n",
    "            flat_lst.extend(product_of_numbers(list(item.values())))\n",
    "        elif isinstance(item, (int, float)):\n",
    "            flat_lst.append(item)\n",
    "    \n",
    "    product = 1\n",
    "    for num in flat_lst:\n",
    "        product *= num\n",
    "    \n",
    "    return product"
   ]
  },
  {
   "cell_type": "code",
   "execution_count": null,
   "id": "2ff9ef37-e726-4863-887c-7a2a35978a00",
   "metadata": {},
   "outputs": [],
   "source": [
    "list1 = [1,2,3,4, [44,55,66, True], False, (34,56,78,89,34), {1,2,3,3,2,1}, {1:34, \"key2\": [55, 67, 78, 89], 4: (45, 22, 61, 34)}, [56, 'data science'], 'Machine Learning']\n",
    "print(product_of_numbers(list1))"
   ]
  },
  {
   "cell_type": "markdown",
   "id": "048d0a80-f4bc-4e73-b2e2-1b1fee92e856",
   "metadata": {},
   "source": [
    "1579205183520640"
   ]
  },
  {
   "cell_type": "markdown",
   "id": "099f42b5-a222-4c7c-a10b-adc7586741dc",
   "metadata": {},
   "source": [
    "### Q2. Write a python program for encrypting a message sent to you by your friend. The logic of encryption should be such that, for a the output should be z. For b, the output should be y. For c, the output should be x respectively. Also, the whitespace should be replaced with a dollar sign. Keep the punctuation marks unchanged."
   ]
  },
  {
   "cell_type": "markdown",
   "id": "e860a852-5ee9-4a43-9677-0d8ca6250bce",
   "metadata": {},
   "source": [
    "Input Sentence: I want to become a Data Scientist.\n",
    "\n",
    "Encrypt the above input sentence using the program you just created.\n",
    "\n",
    "Note: Convert the given input sentence into lowercase before encrypting. The final output should be\n",
    "lowercase."
   ]
  },
  {
   "cell_type": "code",
   "execution_count": 13,
   "id": "9ef335a0-5423-431e-a922-78ae7603e518",
   "metadata": {},
   "outputs": [
    {
     "name": "stdout",
     "output_type": "stream",
     "text": [
      "r$dzmg$gl$yvxlnv$z$wzgz$hxrvmgrhg.\n"
     ]
    }
   ],
   "source": [
    "def encrypt_message(message):\n",
    "    message = message.lower()\n",
    "    encrypted = \"\"\n",
    "    for char in message:\n",
    "        if char == \" \":\n",
    "            encrypted += \"$\"\n",
    "        elif char.isalpha():\n",
    "            encrypted += chr(219 - ord(char))\n",
    "        else:\n",
    "            encrypted += char\n",
    "    return encrypted\n",
    "\n",
    "# Example usage\n",
    "message = \"I want to become a Data Scientist.\"\n",
    "encrypted_message = encrypt_message(message)\n",
    "print(encrypted_message)"
   ]
  },
  {
   "cell_type": "markdown",
   "id": "0d9fefa2-0cb0-4e7c-9755-82c9145ebe05",
   "metadata": {},
   "source": [
    "We first convert the input message to lowercase using the lower() method.\n",
    "\n",
    "Then, we iterate over each character of the message and check if it is a whitespace, alphabet or a punctuation mark.\n",
    "\n",
    "If the character is a whitespace, we replace it with a dollar sign $.\n",
    "\n",
    "If the character is an alphabet, we apply the given logic of encryption (i.e., subtract the ASCII value of the character from\n",
    "219 and convert the resulting value back to a character using the chr() function).\n",
    "\n",
    "If the character is a punctuation mark, we leave it unchanged and simply add it to the encrypted message.\n",
    "\n",
    "Finally, we return the encrypted message."
   ]
  },
  {
   "cell_type": "code",
   "execution_count": null,
   "id": "0d354220-571d-48c1-8eab-ebee545c9974",
   "metadata": {},
   "outputs": [],
   "source": []
  }
 ],
 "metadata": {
  "kernelspec": {
   "display_name": "Python 3 (ipykernel)",
   "language": "python",
   "name": "python3"
  },
  "language_info": {
   "codemirror_mode": {
    "name": "ipython",
    "version": 3
   },
   "file_extension": ".py",
   "mimetype": "text/x-python",
   "name": "python",
   "nbconvert_exporter": "python",
   "pygments_lexer": "ipython3",
   "version": "3.10.8"
  }
 },
 "nbformat": 4,
 "nbformat_minor": 5
}
