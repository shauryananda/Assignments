{
 "cells": [
  {
   "cell_type": "markdown",
   "id": "8499b7d8-4faf-4fc4-88ed-d94178fb23c2",
   "metadata": {},
   "source": [
    "### Q1. Which function is used to open a file? What are the different modes of opening a file? \n",
    "\n",
    "### Explain each mode of file opening."
   ]
  },
  {
   "cell_type": "markdown",
   "id": "6290e4a9-4b16-467f-941a-567cb3e83bd2",
   "metadata": {},
   "source": [
    "In Python, The 'open()' function is used to open a file.\n",
    "\n",
    "The open() function takes two arguments: the filename, and the mode in which the file should be opened.\n",
    "\n",
    "The different modes of opening a file are as follows:\n",
    "\n",
    "\"r\" - Read mode: This mode is used for reading the contents of a file. It is the default mode, so if no mode is specified, the file is opened in read mode.\n",
    "\n",
    "\"w\" - Write mode: This mode is used for writing to a file. If the file already exists, the previous contents of the file will be deleted. If the file does not exist, a new file will be created.\n",
    "\n",
    "\"a\" - Append mode: This mode is used for appending to a file. If the file already exists, new data will be added to the end of the file. If the file does not exist, a new file will be created.\n",
    "\n",
    "\"x\" - Exclusive creation mode: This mode is used for creating a new file, but only if it does not already exist. If the file already exists, a FileExistsError will be raised.\n",
    "\n",
    "\"b\" - Binary mode: This mode is used for opening a file in binary mode. This is necessary for working with non-text files, such as images or audio files.\n",
    "\n",
    "\"t\" - Text mode: This mode is used for opening a file in text mode. This is the default mode for opening a file in Python.\n",
    "\n",
    "\"+\" - Reading and writing mode: This mode is used for reading and writing to a file. If the file already exists, the previous contents of the file will be deleted. If the file does not exist, a new file will be created.\n",
    "\n"
   ]
  },
  {
   "cell_type": "markdown",
   "id": "81ff4973-d9b2-4119-a5b2-83b6d8c037df",
   "metadata": {},
   "source": [
    "If we have to open a file named \"example.txt\" in write mode, we would use the following code:"
   ]
  },
  {
   "cell_type": "code",
   "execution_count": 1,
   "id": "d3da9211-74ca-4107-b095-afbef33e05eb",
   "metadata": {},
   "outputs": [],
   "source": [
    "file = open(\"example.txt\", \"w\")"
   ]
  },
  {
   "cell_type": "markdown",
   "id": "a7dc9576-e06c-4192-ac5f-384c2592cfe2",
   "metadata": {},
   "source": [
    "It creates a new file named \"example.txt\" in write mode, and the file variable would contain a reference to the file object."
   ]
  },
  {
   "cell_type": "markdown",
   "id": "bc94ccbd-af61-4eaa-9bcb-95d19a2462d6",
   "metadata": {},
   "source": [
    "### Q2. Why close() function is used? Why is it important to close a file?"
   ]
  },
  {
   "cell_type": "markdown",
   "id": "68c8f9c6-27cd-4111-b0dc-744b8620ce85",
   "metadata": {},
   "source": [
    "The close() function is used to close a file that was opened using the open() function in Python. It is important to close a file because it frees up the resources that were used to keep the file open, such as memory and processing power.\n",
    "\n",
    "If you open a file and do not close it, it will remain open in the background until the program terminates, which can lead to performance issues or even crashes if you have opened too many files simultaneously. Additionally, any changes that you made to the file may not be saved until you close the file properly.\n",
    "\n",
    "When you call the close() function on a file object, any unwritten data will be written to the file and any system resources used by the file will be freed up. It is generally recommended to always close a file when you are done working with it, even if the program terminates soon afterwards."
   ]
  },
  {
   "cell_type": "markdown",
   "id": "7ea17dcd-9536-42bc-8fa3-62122cc97b34",
   "metadata": {},
   "source": [
    "Example"
   ]
  },
  {
   "cell_type": "code",
   "execution_count": 2,
   "id": "65d83b0d-9b41-46d8-b658-aea8a11e63ee",
   "metadata": {},
   "outputs": [],
   "source": [
    "file = open(\"example.txt\", \"w\")\n",
    "file.write(\"Hello, world!\")\n",
    "file.close()"
   ]
  },
  {
   "cell_type": "markdown",
   "id": "c64fbbba-535d-4ed7-9ebe-e5215a324af0",
   "metadata": {},
   "source": [
    "Here we opened the file \"example.txt\" in write mode, wrote the string \"Hello, world!\" to it using the write() function, and then closed the file using the close() function. This ensures that any changes we made to the file are saved and that the system resources used by the file are freed up."
   ]
  },
  {
   "cell_type": "markdown",
   "id": "45fe6e8e-86be-4087-ad6d-8466b72fb452",
   "metadata": {},
   "source": [
    "### Q3. Write a python program to create a text file. Write ‘I want to become a Data Scientist’ in that file. Then close the file. Open this file and read the content of the file."
   ]
  },
  {
   "cell_type": "code",
   "execution_count": 3,
   "id": "7f9f8151-99a1-4bd2-a0fc-991c766ebdaa",
   "metadata": {},
   "outputs": [
    {
     "name": "stdout",
     "output_type": "stream",
     "text": [
      "I want to become a Data Scientist\n"
     ]
    }
   ],
   "source": [
    "# Create a text file and write a string to it\n",
    "with open(\"data_scientist.txt\", \"w\") as file:\n",
    "    file.write(\"I want to become a Data Scientist\")\n",
    "\n",
    "# Open the file and read its contents\n",
    "with open(\"data_scientist.txt\", \"r\") as file:\n",
    "    content = file.read()\n",
    "\n",
    "# Print the contents of the file\n",
    "print(content)"
   ]
  },
  {
   "cell_type": "markdown",
   "id": "4c29e9f7-4a1d-453c-a505-ed6e22d47088",
   "metadata": {},
   "source": [
    "In this program, we first create a text file named \"data_scientist.txt\" using the open() function with the \"w\" mode, and then write the string \"I want to become a Data Scientist\" to it using the write() method of the file object.\n",
    "\n",
    "Next, we open the same file in read mode using the open() function with the \"r\" mode, and read the contents of the file using the read() method of the file object. We store the contents of the file in the content variable."
   ]
  },
  {
   "cell_type": "markdown",
   "id": "1fb4b8f7-e9fa-4ee4-87a0-99a8db99bc1b",
   "metadata": {},
   "source": [
    "Finally, we print the contents of the file using the print() function. The output of this program is:"
   ]
  },
  {
   "cell_type": "markdown",
   "id": "523ad217-b3b0-49af-a8f7-5aa0dd939125",
   "metadata": {},
   "source": [
    "I want to become a Data Scientist"
   ]
  },
  {
   "cell_type": "markdown",
   "id": "6e4eb0b5-684c-4627-b475-f641a34662c6",
   "metadata": {},
   "source": [
    "### Q4. Explain the following with python code: read(), readline() and readlines()."
   ]
  },
  {
   "cell_type": "markdown",
   "id": "eb619a0f-0346-4fa3-a81e-71221a553c42",
   "metadata": {},
   "source": [
    "There are several methods that can be used to read data from a file. Here is an explanation of three of them: read(), readline(), and readlines(), along with some examples:\n",
    "\n",
    "read() method:\n",
    "\n",
    "The read() method is used to read the entire contents of a file at once. It returns a string that contains the contents of the file."
   ]
  },
  {
   "cell_type": "code",
   "execution_count": 4,
   "id": "4d5e6242-1ed5-4d6f-a7dd-7cb3d15b600d",
   "metadata": {},
   "outputs": [
    {
     "name": "stdout",
     "output_type": "stream",
     "text": [
      "Hello, world!\n"
     ]
    }
   ],
   "source": [
    "# Open a file in read mode and read its contents using read() method\n",
    "with open(\"example.txt\", \"r\") as file:\n",
    "    contents = file.read()\n",
    "    print(contents)\n"
   ]
  },
  {
   "cell_type": "markdown",
   "id": "45a24b5e-af06-491c-b45b-605e6236f3bb",
   "metadata": {},
   "source": [
    "We opened a file named \"example.txt\" in read mode using the open() function with the \"r\" mode, and then read the entire contents of the file using the read() method of the file object. The contents of the file are stored in the contents variable, and then printed using the print() function.\n",
    "\n"
   ]
  },
  {
   "cell_type": "markdown",
   "id": "42b96efd-5d44-4fe6-a2d0-184c219ff128",
   "metadata": {},
   "source": [
    "readline() method:\n",
    "\n",
    "The readline() method is used to read one line of a file at a time. It returns a string that contains the next line of the file."
   ]
  },
  {
   "cell_type": "code",
   "execution_count": 5,
   "id": "878214d3-35ee-4185-87dd-47360933ff58",
   "metadata": {},
   "outputs": [
    {
     "name": "stdout",
     "output_type": "stream",
     "text": [
      "Hello, world!\n"
     ]
    }
   ],
   "source": [
    "# Open a file in read mode and read its contents using readline() method\n",
    "with open(\"example.txt\", \"r\") as file:\n",
    "    line = file.readline()\n",
    "    while line:\n",
    "        print(line)\n",
    "        line = file.readline()"
   ]
  },
  {
   "cell_type": "markdown",
   "id": "6ed05570-08f0-42c8-a7ff-6757c7e8be7a",
   "metadata": {},
   "source": [
    "We opened a file named \"example.txt\" in read mode using the open() function with the \"r\" mode, and then read one line of the file at a time using the readline() method of the file object. We used a while loop to read each line of the file until there are no more lines left to read. The current line is stored in the line variable, which is printed using the print() function."
   ]
  },
  {
   "cell_type": "markdown",
   "id": "67bdad96-bda5-40b1-9d72-cb99b8df58f0",
   "metadata": {},
   "source": [
    "readlines() method:\n",
    "\n",
    "The readlines() method is used to read all the lines of a file at once and returns a list where each element is a line from the file."
   ]
  },
  {
   "cell_type": "code",
   "execution_count": 6,
   "id": "1197f0bd-6619-47cf-8dd9-640054cb56fc",
   "metadata": {},
   "outputs": [
    {
     "name": "stdout",
     "output_type": "stream",
     "text": [
      "Hello, world!\n"
     ]
    }
   ],
   "source": [
    "# Open a file in read mode and read its contents using readlines() method\n",
    "with open(\"example.txt\", \"r\") as file:\n",
    "    lines = file.readlines()\n",
    "    for line in lines:\n",
    "        print(line)"
   ]
  },
  {
   "cell_type": "markdown",
   "id": "b8c9b32e-d10e-49bd-9062-abba97ed4f7a",
   "metadata": {},
   "source": [
    "We opened a file named \"example.txt\" in read mode using the open() function with the \"r\" mode, and then read all the lines of the file at once using the readlines() method of the file object. The lines of the file are stored in the lines list, which is then iterated over using a for loop to print each line using the print() function."
   ]
  },
  {
   "cell_type": "markdown",
   "id": "3fc02515-052a-4258-940f-27de3dccf5b6",
   "metadata": {},
   "source": [
    "### Q5. Explain why with statement is used with open(). What is the advantage of using with statement and open() together?"
   ]
  },
  {
   "cell_type": "markdown",
   "id": "d19bebc3-447a-4a30-a99d-aab97295076d",
   "metadata": {},
   "source": [
    "The with statement in Python is used to define a block of code to be executed within a context. A context is typically a resource that needs to be acquired before the block of code is executed and released after the block of code is executed. Examples of such resources include file handles, database connections, network sockets, and so on.\n",
    "\n",
    "The open() function in Python is used to open a file and return a file object. The file object is used to read or write data to the file.\n",
    "\n",
    "The with statement is often used together with the open() function when working with files. The advantage of using with statement and open() function together is that it automatically takes care of closing the file once the block of code within the with statement is executed. This is particularly useful because forgetting to close a file can lead to resource leaks, which can cause a program to run out of resources, or even crash."
   ]
  },
  {
   "cell_type": "markdown",
   "id": "5557a56f-9c33-468c-b55b-14fc36bc8c97",
   "metadata": {},
   "source": [
    "Example"
   ]
  },
  {
   "cell_type": "code",
   "execution_count": 7,
   "id": "bbf8ec51-7f1b-4006-8153-40fdacafdfb3",
   "metadata": {},
   "outputs": [
    {
     "name": "stdout",
     "output_type": "stream",
     "text": [
      "Hello, world!\n"
     ]
    }
   ],
   "source": [
    "# Open a file using with statement and open() function\n",
    "with open(\"example.txt\", \"r\") as file:\n",
    "    contents = file.read()\n",
    "    print(contents)"
   ]
  },
  {
   "cell_type": "markdown",
   "id": "8f5e666b-d13d-45f0-ab84-8f69d6b54829",
   "metadata": {},
   "source": [
    "We open a file named \"example.txt\" in read mode using the open() function with the \"r\" mode, and then read the entire contents of the file using the read() method of the file object. We use the with statement to ensure that the file is automatically closed once the block of code within the with statement is executed. This is more concise and easier to read than manually opening and closing the file."
   ]
  },
  {
   "cell_type": "markdown",
   "id": "977a788e-cf6a-49a4-8720-ccea4900f04d",
   "metadata": {},
   "source": [
    "### Q6. Explain the write() and writelines() functions. Give a suitable example."
   ]
  },
  {
   "cell_type": "markdown",
   "id": "bbb721ca-c977-414f-926f-10a886d305d2",
   "metadata": {},
   "source": [
    "The write() and writelines() functions are used to write data to a file. Here is an explanation of these functions, along with some examples:\n",
    "\n",
    "write() function:\n",
    "The write() function is used to write a string to a file. It returns the number of characters written to the file."
   ]
  },
  {
   "cell_type": "markdown",
   "id": "cfc75e58-1519-4d45-979d-5c70dbef48f8",
   "metadata": {},
   "source": [
    "Example"
   ]
  },
  {
   "cell_type": "code",
   "execution_count": 8,
   "id": "0c7dcc5d-b9af-4935-b331-143f602c2b79",
   "metadata": {},
   "outputs": [],
   "source": [
    "# Open a file in write mode and write a string to it using write() function\n",
    "with open(\"example.txt\", \"w\") as file:\n",
    "    file.write(\"Hello, world!\\n\")\n",
    "    file.write(\"This is a test.\\n\")"
   ]
  },
  {
   "cell_type": "markdown",
   "id": "0585e9a4-5efa-4ea1-b612-9546ab6423af",
   "metadata": {},
   "source": [
    "We opened a file named \"example.txt\" in write mode using the open() function with the \"w\" mode, and then wrote two strings to the file using the write() function of the file object. The write() function appends the strings to the file, and returns the number of characters written to the file."
   ]
  },
  {
   "cell_type": "markdown",
   "id": "8356db20-87c4-46a3-b2b2-bfb66f8a200f",
   "metadata": {},
   "source": [
    "writelines() function:\n",
    "The writelines() function is used to write a list of strings to a file. It returns nothing."
   ]
  },
  {
   "cell_type": "markdown",
   "id": "1d5dce50-e9c7-49d2-b7ac-1aa50f3db665",
   "metadata": {},
   "source": [
    "Example"
   ]
  },
  {
   "cell_type": "code",
   "execution_count": 9,
   "id": "77f94f4e-f87d-4fbb-a936-494158670c94",
   "metadata": {},
   "outputs": [],
   "source": [
    "# Open a file in write mode and write a list of strings to it using writelines() function\n",
    "with open(\"example.txt\", \"w\") as file:\n",
    "    lines = [\"Hello, world!\\n\", \"This is a test.\\n\"]\n",
    "    file.writelines(lines)"
   ]
  },
  {
   "cell_type": "markdown",
   "id": "547c149c-487b-40fc-b534-d613be52bcf2",
   "metadata": {},
   "source": [
    "We opened a file named \"example.txt\" in write mode using the open() function with the \"w\" mode, and then wrote a list of strings to the file using the writelines() function of the file object. The writelines() function appends the strings to the file, and returns nothing.\n",
    "\n",
    "Both write() and writelines() functions are used to write data to a file, but writelines() is more efficient when writing multiple lines of text. write() is better suited when writing a single string of text to a file."
   ]
  },
  {
   "cell_type": "markdown",
   "id": "32a70392-d1f2-4769-b57d-27ce09adf278",
   "metadata": {},
   "source": [
    "When writing to a file, if the file does not exist, it will be created automatically. If the file already exists, the existing content will be overwritten by default. If you want to append new content to an existing file, you should use \"a\" mode instead of \"w\" mode."
   ]
  },
  {
   "cell_type": "code",
   "execution_count": null,
   "id": "7699e298-5339-4e8a-8cce-1b2dc995d560",
   "metadata": {},
   "outputs": [],
   "source": []
  }
 ],
 "metadata": {
  "kernelspec": {
   "display_name": "Python 3 (ipykernel)",
   "language": "python",
   "name": "python3"
  },
  "language_info": {
   "codemirror_mode": {
    "name": "ipython",
    "version": 3
   },
   "file_extension": ".py",
   "mimetype": "text/x-python",
   "name": "python",
   "nbconvert_exporter": "python",
   "pygments_lexer": "ipython3",
   "version": "3.10.8"
  }
 },
 "nbformat": 4,
 "nbformat_minor": 5
}
