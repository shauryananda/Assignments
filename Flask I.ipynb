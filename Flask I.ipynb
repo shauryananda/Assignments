{
 "cells": [
  {
   "cell_type": "markdown",
   "id": "5c8e39be-f9f9-4625-affc-8023cded9e33",
   "metadata": {},
   "source": [
    "### Q1. What is Flask Framework? What are the advantages of Flask Framework?"
   ]
  },
  {
   "cell_type": "markdown",
   "id": "41bd147a-86a3-48b8-845a-50b55e430c32",
   "metadata": {},
   "source": [
    "Flask is a micro web framework for Python that allows developers to quickly build web applications. It was created by Armin Ronacher in 2010 and has since become one of the most popular Python web frameworks.\n",
    "\n",
    "The advantages of Flask include:\n",
    "\n",
    "Lightweight and modular: Flask is designed to be a lightweight and modular framework, which means you can use only the components you need to build your web application. This makes it easy to learn and use, and it also makes it fast and efficient.\n",
    "\n",
    "Flexibility: Flask is very flexible and can be used to build a wide range of web applications, from small personal projects to large enterprise applications.\n",
    "\n",
    "Easy to learn: Flask is easy to learn and use, even for beginners. The documentation is clear and concise, and there are many resources available online to help you get started.\n",
    "\n",
    "Large community: Flask has a large and active community of developers who contribute to the framework and create add-ons and extensions. This means you can find support and resources easily.\n",
    "\n",
    "Integration: Flask integrates well with other popular technologies and frameworks such as SQLAlchemy, Jinja2, and Flask-WTF, which makes it a popular choice for building web applications.\n",
    "\n",
    "Minimalistic design: Flask has a minimalistic design philosophy that makes it easy to customize and extend. This also makes it a good choice for building RESTful APIs.\n",
    "\n",
    "Debugging and testing: Flask comes with a built-in debugger and testing framework, which makes it easy to debug and test your web application.\n",
    "\n",
    "Overall, Flask is a great choice for building web applications that are lightweight, flexible, and easy to learn and use."
   ]
  },
  {
   "cell_type": "markdown",
   "id": "74b8be96-927e-495f-b967-a965a772df07",
   "metadata": {},
   "source": [
    "### Q2. Create a simple Flask application to display ‘Hello World!!’"
   ]
  },
  {
   "cell_type": "code",
   "execution_count": null,
   "id": "6b3c59a8-01a2-43f1-98aa-946eb4344289",
   "metadata": {},
   "outputs": [],
   "source": [
    "from flask import Flask\n",
    "\n",
    "app = Flask(__name__)\n",
    "\n",
    "@app.route('/')\n",
    "def hello_world():\n",
    "    return 'Hello World!!'\n",
    "\n",
    "if __name__ == '__main__':\n",
    "    app.run()"
   ]
  },
  {
   "cell_type": "markdown",
   "id": "761a3582-862c-4175-84a5-9820141a55e1",
   "metadata": {},
   "source": [
    "Saving this code in a file named app.py and running it in ourterminal by typing python app.py. It should start a local server on your computer that you can access by visiting http://localhost:5000 in our web browser. When we visit this URL, we should see the message \"Hello World!!\" displayed in our browser."
   ]
  },
  {
   "cell_type": "markdown",
   "id": "62677d71-aaf5-405c-b73b-ed28380679f6",
   "metadata": {},
   "source": [
    "### Q3. What is App routing in Flask? Why do we use app routes?"
   ]
  },
  {
   "cell_type": "markdown",
   "id": "d9fa6ed6-25fa-4723-8d98-ddc78ff1240b",
   "metadata": {},
   "source": [
    "In Flask, app routing refers to the process of mapping URLs to view functions in your web application. This is done using the @app.route() decorator in your Python code.\n",
    "\n",
    "For example, in the code snippet from the previous question, @app.route('/') is used to map the root URL (http://localhost:5000/) to the hello_world() function.\n",
    "\n",
    "App routing is important because it allows you to create a logical structure for your web application and define how users can interact with it. By mapping URLs to specific functions, you can create a hierarchy of pages and define the functionality of each page.\n",
    "\n",
    "For example, you might use app routing to create different pages for different sections of your website, such as /blog, /contact, and /about. Each of these pages could have its own view function that handles the logic and generates the HTML for that page.\n",
    "\n",
    "Overall, app routing is an essential feature of Flask that allows you to create a well-organized and functional web application."
   ]
  },
  {
   "cell_type": "markdown",
   "id": "4cb502ea-89b5-4123-b7eb-28244a40887f",
   "metadata": {},
   "source": [
    "### Q4. Create a “/welcome” route to display the welcome message “Welcome to ABC Corporation” and a “/”\n",
    "### route to show the following details:\n",
    "\n",
    "#### Company Name: ABC Corporation\n",
    "#### Location: India\n",
    "#### Contact Detail: 999-999-9999"
   ]
  },
  {
   "cell_type": "code",
   "execution_count": null,
   "id": "50051d87-0d2d-4f2f-8238-677aa9c11b83",
   "metadata": {},
   "outputs": [],
   "source": [
    "from flask import Flask\n",
    "\n",
    "app = Flask(__name__)\n",
    "\n",
    "@app.route('/welcome')\n",
    "def welcome():\n",
    "    return 'Welcome to ABC Corporation'\n",
    "\n",
    "@app.route('/')\n",
    "def company_details():\n",
    "    return 'Company Name: ABC Corporation<br>Location: India<br>Contact Detail: 999-999-9999'\n",
    "\n",
    "if __name__ == '__main__':\n",
    "    app.run()\n"
   ]
  },
  {
   "cell_type": "markdown",
   "id": "5c713452-1530-4730-aa3a-0606c5b2d2d5",
   "metadata": {},
   "source": [
    "When we run this code and visit http://localhost:5000/welcome, we see the message \"Welcome to ABC Corporation\" displayed in your browser. When you visit http://localhost:5000/, we see the company details displayed in your browser in the format specified in the code."
   ]
  },
  {
   "cell_type": "markdown",
   "id": "7d59f291-21d9-4df4-8c09-091c7cefd1b5",
   "metadata": {},
   "source": [
    "### Q5. What function is used in Flask for URL Building? Write a Python code to demonstrate the working of the url_for() function."
   ]
  },
  {
   "cell_type": "code",
   "execution_count": null,
   "id": "00049f7e-f10b-4fe2-9daf-80137bbf4490",
   "metadata": {},
   "outputs": [],
   "source": [
    "from flask import Flask, url_for\n",
    "\n",
    "app = Flask(__name__)\n",
    "\n",
    "@app.route('/hello')\n",
    "def hello():\n",
    "    return 'Hello, World!'\n",
    "\n",
    "@app.route('/user/<username>')\n",
    "def profile(username):\n",
    "    return f'{username}\\'s profile'\n",
    "\n",
    "@app.route('/show_url')\n",
    "def show_url():\n",
    "    # generate a URL for the 'hello' endpoint\n",
    "    url1 = url_for('hello')\n",
    "    \n",
    "    # generate a URL for the 'profile' endpoint with username argument 'John'\n",
    "    url2 = url_for('profile', username='John')\n",
    "    \n",
    "    return f'The URL for hello is: {url1} <br> The URL for John\\'s profile is: {url2}'\n",
    "\n",
    "if __name__ == '__main__':\n",
    "    app.run()"
   ]
  },
  {
   "cell_type": "markdown",
   "id": "70545b1d-7eaa-4c78-841e-630be1d6df91",
   "metadata": {},
   "source": [
    "We have defined two routes: /hello and /user/<username>. The show_url() function uses the url_for() function to generate URLs for these endpoints with different arguments. The generated URLs are then displayed in the response."
   ]
  },
  {
   "cell_type": "markdown",
   "id": "c2c1f601-da87-4891-8047-339abd0234fc",
   "metadata": {},
   "source": [
    "When we run this code and visit http://localhost:5000/show_url, we see the URLs for the hello and profile endpoints displayed in our browser in the format specified in the code."
   ]
  },
  {
   "cell_type": "code",
   "execution_count": null,
   "id": "86a1d092-5603-4b3b-9640-ef843e11e887",
   "metadata": {},
   "outputs": [],
   "source": []
  }
 ],
 "metadata": {
  "kernelspec": {
   "display_name": "Python 3 (ipykernel)",
   "language": "python",
   "name": "python3"
  },
  "language_info": {
   "codemirror_mode": {
    "name": "ipython",
    "version": 3
   },
   "file_extension": ".py",
   "mimetype": "text/x-python",
   "name": "python",
   "nbconvert_exporter": "python",
   "pygments_lexer": "ipython3",
   "version": "3.10.8"
  }
 },
 "nbformat": 4,
 "nbformat_minor": 5
}
