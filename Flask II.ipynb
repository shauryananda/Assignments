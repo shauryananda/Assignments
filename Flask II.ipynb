{
 "cells": [
  {
   "cell_type": "markdown",
   "id": "90916310-c202-4840-8f73-0658682d2a9e",
   "metadata": {},
   "source": [
    "### Q1. Explain GET and POST methods."
   ]
  },
  {
   "cell_type": "markdown",
   "id": "406c7c80-c66a-49e6-9fc2-91743f5c3016",
   "metadata": {},
   "source": [
    "The GET and POST methods are HTTP request methods used to communicate with web servers.\n",
    "\n",
    "The GET method is used to request data from a specified resource. When a user enters a URL in the address bar of a web browser, a GET request is sent to the server to retrieve the corresponding webpage. The data that is requested is included in the URL as query parameters. The query parameters are sent in the URL after a question mark ? and separated by ampersands '&'. \n",
    "\n",
    "For example:"
   ]
  },
  {
   "cell_type": "code",
   "execution_count": null,
   "id": "fcbf20ce-069f-40b5-894b-9b6d2ef816a0",
   "metadata": {},
   "outputs": [],
   "source": [
    "https://example.com/search?q=python&lang=en"
   ]
  },
  {
   "cell_type": "markdown",
   "id": "89922f61-f448-454c-b73b-f37eb08fafb0",
   "metadata": {},
   "source": [
    "The GET request is sent to the \"example.com\" server to retrieve the search results for the query \"python\" in the \"en\" language. The \"q\" and \"lang\" parameters are included in the URL as query parameters."
   ]
  },
  {
   "cell_type": "markdown",
   "id": "52f2b08a-ab26-4abf-b0fc-78aba26b98ea",
   "metadata": {},
   "source": [
    "The POST method is used to submit an entity to the specified resource, often causing a change in state or side effects on the server. This method is commonly used to submit form data to a server for processing. The data that is submitted is included in the body of the request, rather than in the URL. \n",
    "\n",
    "For example:"
   ]
  },
  {
   "cell_type": "code",
   "execution_count": null,
   "id": "22016ae9-d6a8-4f05-b6db-3592a4242ff5",
   "metadata": {},
   "outputs": [],
   "source": [
    "<form action=\"https://example.com/submit\" method=\"post\">\n",
    "    <label for=\"name\">Name:</label>\n",
    "    <input type=\"text\" id=\"name\" name=\"name\">\n",
    "    <br>\n",
    "    <label for=\"email\">Email:</label>\n",
    "    <input type=\"email\" id=\"email\" name=\"email\">\n",
    "    <br>\n",
    "    <input type=\"submit\" value=\"Submit\">\n",
    "</form>\n"
   ]
  },
  {
   "cell_type": "markdown",
   "id": "1167fe80-12f3-4f5b-87cb-9b5de40742b7",
   "metadata": {},
   "source": [
    "The form data is submitted to the \"example.com\" server using the POST method. The \"action\" attribute specifies the URL to submit the data to, and the \"method\" attribute specifies the HTTP method to use (in this case, POST). The \"name\" and \"email\" fields are included in the body of the request, rather than in the URL.\n",
    "\n",
    "In summary, the GET method is used to retrieve data from a server, and the POST method is used to submit data to a server for processing or to create a new resource on the server."
   ]
  },
  {
   "cell_type": "markdown",
   "id": "de1cd0ca-f05b-440e-ad5f-f72605c49df4",
   "metadata": {},
   "source": [
    "### Q2. Why is request used in Flask?"
   ]
  },
  {
   "cell_type": "markdown",
   "id": "a723e17a-ff9d-4d2f-8981-ef15b23d6207",
   "metadata": {},
   "source": [
    "In Flask, the request module is used to handle incoming HTTP requests from clients. It is a part of the Flask web framework that allows the application to receive data from the client, such as form data or query parameters, and to send data back to the client, such as HTML or JSON responses.\n",
    "\n",
    "The request module provides access to the data that is sent in the request from the client. It allows the application to access the request headers, form data, query parameters, cookies, and other information that is sent in the request. This information can be used to make decisions about how to process the request and to generate a response to send back to the client."
   ]
  },
  {
   "cell_type": "markdown",
   "id": "9c12151e-701c-46ce-9de4-486e73239faf",
   "metadata": {},
   "source": [
    "Example"
   ]
  },
  {
   "cell_type": "code",
   "execution_count": null,
   "id": "7c9bc25b-9c6a-4ed6-a590-ae09936fee09",
   "metadata": {},
   "outputs": [],
   "source": [
    "from flask import Flask, request\n",
    "\n",
    "app = Flask(__name__)\n",
    "\n",
    "@app.route('/hello')\n",
    "def hello():\n",
    "    name = request.args.get('name')\n",
    "    return f'Hello, {name}!'\n",
    "\n",
    "if __name__ == '__main__':\n",
    "    app.run()"
   ]
  },
  {
   "cell_type": "markdown",
   "id": "f29da9ef-aea8-48b7-9b68-525024c32f01",
   "metadata": {},
   "source": [
    "In this example, the request.args object is used to access the query parameters that are sent in the request to the /hello endpoint. The get() method is used to retrieve the value of the name parameter, which is then used to generate a personalized greeting that is sent back to the client.\n",
    "\n",
    "Overall, the request module is an essential part of the Flask framework that allows developers to handle incoming requests from clients and to generate responses based on the data that is sent in the request."
   ]
  },
  {
   "cell_type": "markdown",
   "id": "0e76947e-c7ef-4009-ad4d-caee4baf78f7",
   "metadata": {},
   "source": [
    "### Q3. Why is redirect() used in Flask?"
   ]
  },
  {
   "cell_type": "markdown",
   "id": "8ce453db-421f-49a4-8200-858d57c16f65",
   "metadata": {},
   "source": [
    "In Flask, the redirect() function is used to redirect the user to a different URL or endpoint. It is commonly used in web applications to redirect the user after a form submission or to handle authentication and authorization.\n",
    "\n",
    "The redirect() function takes a URL or endpoint as an argument and returns an HTTP response that instructs the browser to redirect the user to the specified location. Here's an example of how the redirect() function can be used in Flask:"
   ]
  },
  {
   "cell_type": "code",
   "execution_count": null,
   "id": "0805f22c-4ff7-44ff-baf6-805c13607bba",
   "metadata": {},
   "outputs": [],
   "source": [
    "from flask import Flask, redirect, request\n",
    "\n",
    "app = Flask(__name__)\n",
    "\n",
    "@app.route('/login')\n",
    "def login():\n",
    "    # Check if user is authenticated\n",
    "    if not authenticated():\n",
    "        return redirect('/auth')\n",
    "\n",
    "    # Display the login page\n",
    "    return render_template('login.html')\n",
    "\n",
    "if __name__ == '__main__':\n",
    "    app.run()"
   ]
  },
  {
   "cell_type": "markdown",
   "id": "0d808267-b271-4222-a648-0c30ffb7f06b",
   "metadata": {},
   "source": [
    "In this example, the login() function is used to display a login page to the user. However, before the user can access the page, the application checks whether the user is authenticated. If the user is not authenticated, the redirect() function is used to redirect the user to the /auth endpoint, where the user can authenticate themselves.\n",
    "\n",
    "Overall, the redirect() function is an essential part of the Flask framework that allows developers to control the flow of the application by redirecting users to different endpoints or URLs based on the user's actions or authentication status."
   ]
  },
  {
   "cell_type": "markdown",
   "id": "1d61665c-21aa-4e0d-b420-98274eec3352",
   "metadata": {},
   "source": [
    "### Q4. What are templates in Flask? Why is the render_template() function used?"
   ]
  },
  {
   "cell_type": "markdown",
   "id": "79b122a0-53f4-48e8-83e1-4777cd870e7e",
   "metadata": {},
   "source": [
    "In Flask, templates are used to generate dynamic HTML pages that can be returned as a response to HTTP requests. A template is a text file that contains a mixture of static content and placeholders for dynamic data. The Flask framework provides a built-in templating engine called Jinja2, which allows developers to create templates that can be rendered with data from the application.\n",
    "\n",
    "The render_template() function is used to render a Jinja2 template with data from the application. It takes the name of the template file as its first argument and any additional data as keyword arguments. The function returns a string that contains the rendered HTML content."
   ]
  },
  {
   "cell_type": "markdown",
   "id": "74f7c701-d7c7-4981-87cf-c261cf9080d8",
   "metadata": {},
   "source": [
    "For example:"
   ]
  },
  {
   "cell_type": "code",
   "execution_count": null,
   "id": "8726e715-4a50-42ef-a10c-dc8dd5d24344",
   "metadata": {},
   "outputs": [],
   "source": [
    "from flask import Flask, render_template\n",
    "\n",
    "app = Flask(__name__)\n",
    "\n",
    "@app.route('/')\n",
    "def index():\n",
    "    # Define some data\n",
    "    title = 'Flask Templates'\n",
    "    author = 'John Doe'\n",
    "    content = 'This is an example of a Flask template.'\n",
    "\n",
    "    # Render the template with the data\n",
    "    return render_template('index.html', title=title, author=author, content=content)\n",
    "\n",
    "if __name__ == '__main__':\n",
    "    app.run()"
   ]
  },
  {
   "cell_type": "markdown",
   "id": "33cea603-fe52-4616-adb7-f926558525ce",
   "metadata": {},
   "source": [
    "In this example, the index() function is used to generate an HTML page with some dynamic content. The data is defined as local variables within the function and is passed to the render_template() function as keyword arguments. The render_template() function then renders the index.html template with the provided data and returns the rendered HTML content as the response to the HTTP request.\n",
    "\n",
    "Overall, the render_template() function is a critical part of the Flask framework that allows developers to generate dynamic HTML pages with data from the application. By using templates and the render_template() function, Flask makes it easy to create complex web applications with minimal effort."
   ]
  },
  {
   "cell_type": "markdown",
   "id": "ee9d0e53-7b5a-41ac-959c-0289bbf8151b",
   "metadata": {},
   "source": [
    "### Q5. Create a simple API. Use Postman to test it. Attach the screenshot of the output in the Jupyter Notebook."
   ]
  },
  {
   "cell_type": "code",
   "execution_count": null,
   "id": "5fad4827-e29b-4c57-a739-6a1076d3853d",
   "metadata": {},
   "outputs": [],
   "source": [
    "from flask import Flask, jsonify, request\n",
    "\n",
    "app = Flask(__name__)\n",
    "\n",
    "# Sample data\n",
    "tasks = [\n",
    "    {'id': 1, 'title': 'Task 1', 'description': 'This is task 1', 'done': False},\n",
    "    {'id': 2, 'title': 'Task 2', 'description': 'This is task 2', 'done': False},\n",
    "    {'id': 3, 'title': 'Task 3', 'description': 'This is task 3', 'done': False}\n",
    "]\n",
    "\n",
    "# GET method to retrieve all tasks\n",
    "@app.route('/tasks', methods=['GET'])\n",
    "def get_tasks():\n",
    "    return jsonify({'tasks': tasks})\n",
    "\n",
    "# POST method to create a new task\n",
    "@app.route('/tasks', methods=['POST'])\n",
    "def create_task():\n",
    "    task = {\n",
    "        'id': tasks[-1]['id'] + 1,\n",
    "        'title': request.json['title'],\n",
    "        'description': request.json.get('description', ''),\n",
    "        'done': False\n",
    "    }\n",
    "    tasks.append(task)\n",
    "    return jsonify({'task': task}), 201\n",
    "\n",
    "if __name__ == '__main__':\n",
    "    app.run(debug=True)"
   ]
  },
  {
   "cell_type": "markdown",
   "id": "f9893e9d-c23d-41f2-bb5d-2c30025f1fb7",
   "metadata": {},
   "source": [
    "In this example, we define a simple API with two endpoints: /tasks for retrieving all tasks and creating a new task. The get_tasks() function returns all tasks in the tasks list as a JSON response using the jsonify() function. The create_task() function creates a new task with the data provided in the POST request and adds it to the tasks list. It then returns the newly created task as a JSON response."
   ]
  }
 ],
 "metadata": {
  "kernelspec": {
   "display_name": "Python 3 (ipykernel)",
   "language": "python",
   "name": "python3"
  },
  "language_info": {
   "codemirror_mode": {
    "name": "ipython",
    "version": 3
   },
   "file_extension": ".py",
   "mimetype": "text/x-python",
   "name": "python",
   "nbconvert_exporter": "python",
   "pygments_lexer": "ipython3",
   "version": "3.10.8"
  }
 },
 "nbformat": 4,
 "nbformat_minor": 5
}
