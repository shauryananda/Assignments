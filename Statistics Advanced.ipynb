{
 "cells": [
  {
   "cell_type": "markdown",
   "id": "75961bef-1b5d-4672-9414-b3d40a0edde9",
   "metadata": {},
   "source": [
    "### Q1. What is the Probability density function?"
   ]
  },
  {
   "cell_type": "markdown",
   "id": "13d894c4-c8c4-4614-bc59-a9bed9499ae0",
   "metadata": {},
   "source": [
    "A probability density function (PDF) is a mathematical function that describes the likelihood of a random variable taking on a particular value. In other words, the PDF gives the probability of a random variable falling within a particular range of values, rather than giving the probability of a specific value being obtained.\n",
    "\n",
    "The PDF is often used in statistical analysis and probability theory to describe the behavior of random variables. It is particularly useful for continuous random variables, where the set of possible values is infinite and uncountable.\n",
    "\n",
    "The PDF is defined as a non-negative function that integrates to 1 over the entire range of possible values of the random variable. In mathematical notation, the PDF of a random variable X is denoted by f(x), and is defined as:\n",
    "\n",
    "f(x) = lim(delta x -> 0) P(x < X < x + delta x) / delta x\n",
    "\n",
    "where P(x < X < x + delta x) is the probability that X lies between x and x + delta x. The limit as delta x approaches 0 ensures that the PDF is defined at every point in the range of X."
   ]
  },
  {
   "cell_type": "markdown",
   "id": "2bcf93c9-db17-44ba-b2c6-d935e89b746e",
   "metadata": {},
   "source": [
    "### Q2. What are the types of Probability distribution?"
   ]
  },
  {
   "cell_type": "markdown",
   "id": "71316295-a245-42d8-8af8-2a57f4601555",
   "metadata": {},
   "source": [
    "There are several types of probability distributions, each with its own unique characteristics and applications. Some of the most commonly used probability distributions include:\n",
    "\n",
    "Bernoulli distribution: A probability distribution with two possible outcomes, typically denoted as success or failure. It is used to model situations where an event can either happen or not happen.\n",
    "\n",
    "Binomial distribution: A probability distribution that describes the number of successes in a fixed number of independent trials, where each trial has two possible outcomes. It is commonly used to model events such as coin flips, where the outcome is either heads or tails.\n",
    "\n",
    "Normal distribution: A continuous probability distribution that is commonly used to model real-world phenomena such as measurements, heights, and IQ scores. It is often referred to as the bell curve, and is characterized by its mean and standard deviation.\n",
    "\n",
    "Poisson distribution: A probability distribution that describes the number of events that occur in a fixed interval of time or space. It is commonly used to model phenomena such as traffic flow, earthquake occurrences, and defects in a manufacturing process.\n",
    "\n",
    "Uniform distribution: A probability distribution where all outcomes within a given range are equally likely to occur. It is commonly used to model situations such as random number generation or the distribution of values from a fair dice roll."
   ]
  },
  {
   "cell_type": "markdown",
   "id": "0d01fdf8-e1fe-4c8c-8e76-e7225b5a2429",
   "metadata": {},
   "source": [
    "### Q3. Write a Python function to calculate the probability density function of a normal distribution with given mean and standard deviation at a given point."
   ]
  },
  {
   "cell_type": "code",
   "execution_count": 1,
   "id": "eee44965-ad1d-4586-9b82-9f7b789bff8c",
   "metadata": {},
   "outputs": [],
   "source": [
    "import math\n",
    "\n",
    "def normal_pdf(x, mu, sigma):\n",
    "    \"\"\"\n",
    "    Calculates the probability density function of a normal distribution at a given point x,\n",
    "    with a given mean mu and standard deviation sigma.\n",
    "    \"\"\"\n",
    "    coefficient = 1 / (sigma * math.sqrt(2 * math.pi))\n",
    "    exponent = -((x - mu)**2 / (2 * sigma**2))\n",
    "    pdf = coefficient * math.exp(exponent)\n",
    "    return pdf\n"
   ]
  },
  {
   "cell_type": "code",
   "execution_count": 2,
   "id": "e3533f38-85a3-434d-a4cb-d720f65753f8",
   "metadata": {},
   "outputs": [
    {
     "name": "stdout",
     "output_type": "stream",
     "text": [
      "0.24197072451914337\n"
     ]
    }
   ],
   "source": [
    "pdf = normal_pdf(1, 0, 1)\n",
    "print(pdf)"
   ]
  },
  {
   "cell_type": "markdown",
   "id": "9c97282c-d59c-4c86-be78-8d61a6b21ccd",
   "metadata": {},
   "source": [
    "This outputs the PDF of the normal distribution at x = 1"
   ]
  },
  {
   "cell_type": "markdown",
   "id": "d21af00f-e683-4fdd-9761-e2ab37b1da34",
   "metadata": {},
   "source": [
    "### Q4. What are the properties of Binomial distribution? Give two examples of events where binomial distribution can be applied."
   ]
  },
  {
   "cell_type": "markdown",
   "id": "36a268ab-a89b-498e-89d4-e67bec22a309",
   "metadata": {},
   "source": [
    "The properties of a binomial distribution are as follows:\n",
    "\n",
    "The binomial distribution models the number of successes in a fixed number of independent trials.\n",
    "Each trial has only two possible outcomes: success or failure.\n",
    "The probability of success is constant across all trials.\n",
    "The trials are independent, meaning the outcome of one trial does not affect the outcome of any other trial.\n",
    "The distribution is discrete, meaning it only takes on integer values.\n",
    "Here are two examples of events where a binomial distribution can be applied:\n",
    "\n",
    "Flipping a coin: Suppose you flip a fair coin 10 times and you want to know the probability of getting exactly 5 heads. This is a binomial distribution because each coin flip is independent, there are only two possible outcomes (heads or tails), and the probability of getting heads is constant across all trials.\n",
    "\n",
    "Quality control in manufacturing: Suppose a manufacturer produces 1000 light bulbs and the probability of a bulb being defective is 0.01. We can model the number of defective bulbs in this production run as a binomial distribution, where each bulb is an independent trial, success is producing a non-defective bulb, and failure is producing a defective bulb. We could then use this distribution to calculate the probability of producing a certain number of defective bulbs in the production run.What are the properties of Binomial distribution? Give two examples of events where binomial\n",
    "distribution can be applied."
   ]
  },
  {
   "cell_type": "markdown",
   "id": "f9b8b6e0-aa48-4e9a-a1d8-793e5382a212",
   "metadata": {},
   "source": [
    "### Q5. Generate a random sample of size 1000 from a binomial distribution with probability of success 0.4 and plot a histogram of the results using matplotlib."
   ]
  },
  {
   "cell_type": "code",
   "execution_count": 3,
   "id": "666d2507-c41c-44c0-8377-f6c5c660c7ad",
   "metadata": {},
   "outputs": [
    {
     "data": {
      "image/png": "[encoded data removed]",
      "text/plain": [
       "<Figure size 640x480 with 1 Axes>"
      ]
     },
     "metadata": {},
     "output_type": "display_data"
    }
   ],
   "source": [
    "import numpy as np\n",
    "import matplotlib.pyplot as plt\n",
    "\n",
    "# Generate random sample of size 1000 from a binomial distribution\n",
    "n = 1000\n",
    "p = 0.4\n",
    "sample = np.random.binomial(n, p, size=1000)\n",
    "\n",
    "# Plot histogram of the sample\n",
    "plt.hist(sample, bins=20)\n",
    "plt.xlabel('Number of Successes')\n",
    "plt.ylabel('Frequency')\n",
    "plt.title('Binomial Distribution with n=1000 and p=0.4')\n",
    "plt.show()"
   ]
  },
  {
   "cell_type": "markdown",
   "id": "ebe04162-2c48-4038-b949-c68f4f6d3b6e",
   "metadata": {},
   "source": [
    "### Q6. Write a Python function to calculate the cumulative distribution function of a Poisson distribution with given mean at a given point."
   ]
  },
  {
   "cell_type": "code",
   "execution_count": 4,
   "id": "03b229f4-546f-4c2e-837c-e7cc4bae6d78",
   "metadata": {},
   "outputs": [
    {
     "name": "stdout",
     "output_type": "stream",
     "text": [
      "0.8152632445237721\n"
     ]
    }
   ],
   "source": [
    "import math\n",
    "\n",
    "def poisson_cdf(x, lambd):\n",
    "    \"\"\"\n",
    "    Calculates the cumulative distribution function of a Poisson distribution at a given point x,\n",
    "    with a given mean lambda.\n",
    "    \"\"\"\n",
    "    cdf = 0\n",
    "    for i in range(x+1):\n",
    "        cdf += (math.exp(-lambd) * lambd**i) / math.factorial(i)\n",
    "    return cdf\n",
    "\n",
    "cdf = poisson_cdf(4, 3)\n",
    "print(cdf)"
   ]
  },
  {
   "cell_type": "markdown",
   "id": "0412ab86-07f4-404d-a8b4-4358d34c2884",
   "metadata": {},
   "source": [
    "This outputs the CDF of the Poisson distribution at x = 4"
   ]
  },
  {
   "cell_type": "markdown",
   "id": "5c31b28c-791c-4cf0-9d02-57841a73ea76",
   "metadata": {},
   "source": [
    "### Q7. How Binomial distribution different from Poisson distribution?"
   ]
  },
  {
   "cell_type": "markdown",
   "id": "e7a9f0cc-7167-4665-8a4c-cfbc32a57c7c",
   "metadata": {},
   "source": [
    "Binomial and Poisson distributions are both discrete probability distributions that are commonly used in statistics to model count data. However, there are some important differences between them:\n",
    "\n",
    "Number of trials: A binomial distribution models the number of successes in a fixed number of independent trials, while a Poisson distribution models the number of events that occur in a fixed interval of time or space.\n",
    "\n",
    "Probability of success: In a binomial distribution, the probability of success is constant across all trials. In a Poisson distribution, the probability of an event occurring is assumed to be proportional to the size of the interval over which events can occur.\n",
    "\n",
    "Type of events: In a binomial distribution, the events are usually binary, i.e., they have only two possible outcomes (e.g., success or failure). In a Poisson distribution, the events can be more diverse, but they are usually rare and occur independently of each other.\n",
    "\n",
    "Assumptions: Binomial distribution requires that the trials are independent, and the probability of success is constant across all trials. Poisson distribution requires that the events occur independently of each other, and the expected number of events in the interval is constant.\n",
    "\n",
    "Parameters: The parameters of a binomial distribution are the number of trials and the probability of success. The parameter of a Poisson distribution is the average number of events that occur in a fixed interval of time or space."
   ]
  },
  {
   "cell_type": "markdown",
   "id": "5d89223e-ddbc-4b50-9730-209ad0426642",
   "metadata": {},
   "source": [
    "### Q8. Generate a random sample of size 1000 from a Poisson distribution with mean 5 and calculate the sample mean and variance."
   ]
  },
  {
   "cell_type": "code",
   "execution_count": 6,
   "id": "b1f0f8d0-67c7-4db3-8a60-b8da6d57b11b",
   "metadata": {},
   "outputs": [
    {
     "name": "stdout",
     "output_type": "stream",
     "text": [
      "Sample mean: 5.013\n",
      "Sample variance: 4.9868310000000005\n"
     ]
    }
   ],
   "source": [
    "import numpy as np\n",
    "\n",
    "# Set the parameters\n",
    "lam = 5  # Mean of the Poisson distribution\n",
    "n = 1000  # Sample size\n",
    "\n",
    "# Generate the random sample\n",
    "sample = np.random.poisson(lam, n)\n",
    "\n",
    "# Calculate the sample mean and variance\n",
    "sample_mean = np.mean(sample)\n",
    "sample_var = np.var(sample)\n",
    "\n",
    "# Print the results\n",
    "print(\"Sample mean:\", sample_mean)\n",
    "print(\"Sample variance:\", sample_var)"
   ]
  },
  {
   "cell_type": "markdown",
   "id": "f7e7754d-cc1f-4ae3-8a9a-88e5a342e088",
   "metadata": {},
   "source": [
    "We use the numpy.random.poisson() function to generate a random sample of size 1000 from a Poisson distribution with mean 5. We then use the numpy.mean() and numpy.var() functions to calculate the sample mean and variance, respectively."
   ]
  },
  {
   "cell_type": "markdown",
   "id": "2c924a2b-7e73-4cb2-9d9f-339449c97cea",
   "metadata": {},
   "source": [
    "The output may vary slightly due to the randomness of the sample, but it should be close to the true mean of 5 and variance of 5, respectively, as expected from a Poisson distribution with mean 5."
   ]
  },
  {
   "cell_type": "markdown",
   "id": "fedb2aa1-3167-4508-8598-ba8955a011d8",
   "metadata": {},
   "source": [
    "### Q9. How mean and variance are related in Binomial distribution and Poisson distribution?"
   ]
  },
  {
   "cell_type": "markdown",
   "id": "4ca2d098-127a-486c-9e2c-47d816929bee",
   "metadata": {},
   "source": [
    "In a binomial distribution, the mean and variance are related as follows:\n",
    "\n",
    "Mean: μ = np, where n is the number of trials and p is the probability of success in each trial.\n",
    "Variance: σ^2 = np(1-p)\n",
    "In other words, the mean and variance of a binomial distribution both depend on the number of trials and the probability of success. As the probability of success increases or the number of trials increases, both the mean and variance of the distribution increase. Conversely, if the probability of success decreases or the number of trials decreases, both the mean and variance of the distribution decrease.\n",
    "\n",
    "In a Poisson distribution, the mean and variance are also related:\n",
    "\n",
    "Mean: μ = λ, where λ is the expected number of events per interval.\n",
    "Variance: σ^2 = λ\n",
    "In a Poisson distribution, the mean and variance are equal. This means that the variability of the distribution is completely determined by the mean. As the mean increases, the variance also increases, indicating that the distribution becomes more spread out. Conversely, as the mean decreases, the variance also decreases, indicating that the distribution becomes more tightly clustered around the mean."
   ]
  },
  {
   "cell_type": "markdown",
   "id": "65ad6433-69dd-4bc0-92f0-22aff928dbe9",
   "metadata": {},
   "source": [
    "### Q10. In normal distribution with respect to mean position, where does the least frequent data appear?"
   ]
  },
  {
   "cell_type": "markdown",
   "id": "60322125-79d2-4d55-9d4e-9554cfd0b84b",
   "metadata": {},
   "source": [
    "In a normal distribution, the least frequent data appear at the tails of the distribution, farthest away from the mean. This is because the normal distribution is a bell-shaped curve, and the majority of the data falls close to the mean. As we move away from the mean towards the tails of the distribution, the probability density of the data decreases, indicating that the data points in the tails are less likely to occur than those near the mean.\n",
    "\n",
    "Specifically, the least frequent data in a normal distribution can be found at the extreme ends of the distribution, which are referred to as the tails. The tails of a normal distribution extend infinitely in both directions, but in practice, we typically focus on the tails that are more than two or three standard deviations away from the mean, as these are the values that are considered to be outliers or extreme values.\n",
    "\n"
   ]
  },
  {
   "cell_type": "code",
   "execution_count": null,
   "id": "3805f0d4-ae44-4bdc-9c11-664ab71158b8",
   "metadata": {},
   "outputs": [],
   "source": []
  }
 ],
 "metadata": {
  "kernelspec": {
   "display_name": "Python 3 (ipykernel)",
   "language": "python",
   "name": "python3"
  },
  "language_info": {
   "codemirror_mode": {
    "name": "ipython",
    "version": 3
   },
   "file_extension": ".py",
   "mimetype": "text/x-python",
   "name": "python",
   "nbconvert_exporter": "python",
   "pygments_lexer": "ipython3",
   "version": "3.10.8"
  }
 },
 "nbformat": 4,
 "nbformat_minor": 5
}
