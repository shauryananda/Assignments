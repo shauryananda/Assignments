{
 "cells": [
  {
   "cell_type": "markdown",
   "id": "ff8abb80-b68c-454e-8f09-1eafd33e3618",
   "metadata": {},
   "source": [
    "### Q1. What is MongoDB? Explain non-relational databases in short. In which scenarios it is preferred to use MongoDB over SQL databases?"
   ]
  },
  {
   "cell_type": "markdown",
   "id": "15f29e87-1651-4be9-a0e8-fcc07b543d86",
   "metadata": {},
   "source": [
    "MongoDB is a popular, open-source document-oriented NoSQL database that provides high performance, scalability, and flexibility. MongoDB stores data in flexible JSON-like documents, which allows for dynamic schema design and makes it easy to represent complex hierarchical relationships. MongoDB also offers features like automatic sharding and replication, making it well-suited for large, distributed systems.\n",
    "\n",
    "Non-relational databases, also known as NoSQL databases, are databases that do not use the traditional tabular structure of relational databases. Instead, they use various other data models such as key-value stores, document stores, graph databases, and column-family stores. Non-relational databases are often preferred for their ability to handle unstructured or semi-structured data, their ability to scale horizontally across multiple servers, and their ability to provide faster access to data.\n",
    "\n",
    "MongoDB is often preferred over SQL databases in scenarios where:\n",
    "\n",
    "There is a need for handling large volumes of unstructured or semi-structured data.\n",
    "\n",
    "The data is not easily modelled using traditional relational database structures.\n",
    "\n",
    "There is a need for high write throughput and low latency.\n",
    "\n",
    "The application requires horizontal scalability and automatic sharding.\n",
    "\n",
    "The application requires flexible schema design and the ability to handle changes in data requirements.\n",
    "\n",
    "Overall, MongoDB is a powerful database that offers great flexibility and scalability, making it a popular choice for many modern applications that require high performance and scalability."
   ]
  },
  {
   "cell_type": "markdown",
   "id": "bc6f3d1b-9be4-4e2c-ab33-26f53f6f0656",
   "metadata": {},
   "source": [
    "### Q2. State and Explain the features of MongoDB."
   ]
  },
  {
   "cell_type": "markdown",
   "id": "a65a53cf-4ed2-40e3-a632-0f7617cd5e9b",
   "metadata": {},
   "source": [
    "MongoDB is a popular NoSQL database that offers a number of features that make it attractive to developers and organizations looking for a highly scalable and flexible database solution. Here are some of the key features of MongoDB:\n",
    "\n",
    "Flexible data model: MongoDB uses a flexible document data model, which allows developers to store data in a variety of formats, including JSON-like documents, binary data, and geospatial data. This makes it easier to represent complex relationships and data structures.\n",
    "\n",
    "Scalability: MongoDB is designed to scale horizontally across multiple servers, using sharding to partition data across different nodes in a cluster. This allows for high levels of scalability and performance, even as data volumes grow.\n",
    "\n",
    "High availability: MongoDB includes built-in replication and failover mechanisms, which ensure that data is always available, even in the event of hardware or software failures.\n",
    "\n",
    "Rich query language: MongoDB provides a powerful and flexible query language that supports a wide range of queries, including ad-hoc queries, joins, and aggregations. This makes it easy to retrieve and analyze data.\n",
    "\n",
    "Indexing: MongoDB includes a flexible indexing system that supports a variety of index types, including text, geospatial, and hashed indexes. This allows for efficient and fast data retrieval.\n",
    "\n",
    "Security: MongoDB provides a number of security features, including authentication, authorization, and encryption of data in transit and at rest. This makes it a secure database solution for enterprise applications.\n",
    "\n",
    "Integration: MongoDB integrates well with a variety of other technologies and tools, including popular programming languages, analytics and reporting tools, and data visualization tools.\n",
    "\n",
    "Overall, MongoDB offers a powerful and flexible database solution that is ideal for modern, data-intensive applications. Its flexibility, scalability, and rich feature set make it a popular choice for many developers and organizations.\n"
   ]
  },
  {
   "cell_type": "markdown",
   "id": "dfa4abcc-7289-4b3e-83a1-696f98f5be02",
   "metadata": {},
   "source": [
    "### Q3. Write a code to connect MongoDB to Python. Also, create a database and a collection in MongoDB."
   ]
  },
  {
   "cell_type": "code",
   "execution_count": null,
   "id": "e4d5fc3e-49c4-4a71-8f81-44a92ce864f2",
   "metadata": {},
   "outputs": [],
   "source": [
    "# Importing pymongo package\n",
    "import pymongo\n",
    "\n",
    "# Creating a MongoClient object to connect to the database server\n",
    "client = pymongo.MongoClient(\"mongodb://localhost:27017/\")\n",
    "\n",
    "# Creating a database\n",
    "db = client[\"mydatabase\"]\n",
    "\n",
    "# Creating a collection\n",
    "collection = db[\"mycollection\"]\n"
   ]
  },
  {
   "cell_type": "markdown",
   "id": "d3e814f8-5893-4a35-8c65-aa890ca82843",
   "metadata": {},
   "source": [
    "We first import the pymongo package. Then, we create a MongoClient object by passing the connection string as a parameter. The connection string specifies the hostname and port number of the MongoDB server. Here, we are connecting to a MongoDB server running on the local machine on port 27017.\n",
    "\n",
    "Next, we create a new database named \"mydatabase\" using the client object. If the database does not already exist, it will be created automatically.\n",
    "\n",
    "Finally, we create a new collection named \"mycollection\" within the \"mydatabase\" database using the db object. If the collection does not already exist, it will be created automatically."
   ]
  },
  {
   "cell_type": "markdown",
   "id": "349adda8-7705-4a70-84c4-0c9b1363831e",
   "metadata": {},
   "source": [
    "### Q4. Using the database and the collection created in question number 3, write a code to insert one record,\n",
    "### and insert many records. Use the find() and find_one() methods to print the inserted record."
   ]
  },
  {
   "cell_type": "code",
   "execution_count": null,
   "id": "ae0470b1-6248-4b5a-8164-9011e304a9ba",
   "metadata": {},
   "outputs": [],
   "source": [
    "# Importing pymongo package\n",
    "import pymongo\n",
    "\n",
    "# Creating a MongoClient object to connect to the database server\n",
    "client = pymongo.MongoClient(\"mongodb://localhost:27017/\")\n",
    "\n",
    "# Creating a database\n",
    "db = client[\"mydatabase\"]\n",
    "\n",
    "# Creating a collection\n",
    "collection = db[\"mycollection\"]\n",
    "\n",
    "# Inserting a single document into the collection\n",
    "single_doc = {\"name\": \"John\", \"age\": 30, \"city\": \"New York\"}\n",
    "result = collection.insert_one(single_doc)\n",
    "print(\"Inserted single document with ID:\", result.inserted_id)\n",
    "\n",
    "# Inserting multiple documents into the collection\n",
    "multi_docs = [\n",
    "    {\"name\": \"Jane\", \"age\": 25, \"city\": \"San Francisco\"},\n",
    "    {\"name\": \"Bob\", \"age\": 40, \"city\": \"Los Angeles\"},\n",
    "    {\"name\": \"Alice\", \"age\": 35, \"city\": \"Chicago\"}\n",
    "]\n",
    "result = collection.insert_many(multi_docs)\n",
    "print(\"Inserted multiple documents with IDs:\", result.inserted_ids)\n",
    "\n",
    "# Retrieving a single document from the collection\n",
    "result = collection.find_one({\"name\": \"John\"})\n",
    "print(\"Single document retrieved using find_one():\", result)\n",
    "\n",
    "# Retrieving all documents from the collection\n",
    "results = collection.find()\n",
    "print(\"All documents retrieved using find():\")\n",
    "for result in results:\n",
    "    print(result)"
   ]
  },
  {
   "cell_type": "markdown",
   "id": "bb6335e1-6e65-4193-ab27-7924f65cc2be",
   "metadata": {},
   "source": [
    "We first connect to the MongoDB server and create a database and a collection, as shown in the previous example.\n",
    "\n",
    "We then insert a single document into the collection using the insert_one() method and print the ID of the inserted document.\n",
    "\n",
    "Next, we insert multiple documents into the collection using the insert_many() method and print the IDs of the inserted documents.\n",
    "\n",
    "We then retrieve a single document from the collection using the find_one() method and print it.\n",
    "\n",
    "Finally, we retrieve all documents from the collection using the find() method and print them one by one using a for loop."
   ]
  },
  {
   "cell_type": "markdown",
   "id": "77226188-61d8-43d3-9db0-72693e776109",
   "metadata": {},
   "source": [
    "### Q5. Explain how you can use the find() method to query the MongoDB database. Write a simple code to demonstrate this."
   ]
  },
  {
   "cell_type": "markdown",
   "id": "7bfd301f-d36e-403c-8960-a5912a148092",
   "metadata": {},
   "source": [
    "The find() method is used to query the MongoDB database and retrieve documents that match a given set of criteria. It returns a cursor object that can be used to iterate over the matching documents.\n",
    "\n",
    "The find() method takes an optional query parameter that specifies the criteria for the search. This parameter should be a dictionary that contains key-value pairs representing the fields and their corresponding values to match."
   ]
  },
  {
   "cell_type": "code",
   "execution_count": null,
   "id": "4712415b-f446-4fef-9356-aaebfa4794be",
   "metadata": {},
   "outputs": [],
   "source": [
    "# Importing pymongo package\n",
    "import pymongo\n",
    "\n",
    "# Creating a MongoClient object to connect to the database server\n",
    "client = pymongo.MongoClient(\"mongodb://localhost:27017/\")\n",
    "\n",
    "# Getting a database and a collection\n",
    "db = client[\"mydatabase\"]\n",
    "collection = db[\"mycollection\"]\n",
    "\n",
    "# Inserting some data into the collection\n",
    "collection.insert_many([\n",
    "    {\"name\": \"John\", \"age\": 30, \"city\": \"New York\"},\n",
    "    {\"name\": \"Jane\", \"age\": 25, \"city\": \"San Francisco\"},\n",
    "    {\"name\": \"Bob\", \"age\": 40, \"city\": \"Los Angeles\"},\n",
    "    {\"name\": \"Alice\", \"age\": 35, \"city\": \"Chicago\"}\n",
    "])\n",
    "\n",
    "# Retrieving all documents from the collection\n",
    "results = collection.find()\n",
    "\n",
    "# Printing the retrieved documents\n",
    "print(\"All documents retrieved using find():\")\n",
    "for result in results:\n",
    "    print(result)\n",
    "\n",
    "# Retrieving specific documents from the collection\n",
    "results = collection.find({\"age\": {\"$gt\": 30}, \"city\": \"New York\"})\n",
    "\n",
    "# Printing the retrieved documents\n",
    "print(\"Documents retrieved using a query:\")\n",
    "for result in results:\n",
    "    print(result)"
   ]
  },
  {
   "cell_type": "markdown",
   "id": "167a2e24-6e3b-4a8b-b6a2-2dc9d9a60a4d",
   "metadata": {},
   "source": [
    "We first connect to the MongoDB server and create a database and a collection, as shown in the previous examples.\n",
    "\n",
    "We then insert some data into the collection using the insert_many() method.\n",
    "\n",
    "We then retrieve all documents from the collection using the find() method without any query parameter and print them one by one using a for loop.\n",
    "\n",
    "Finally, we retrieve specific documents from the collection using the find() method with a query parameter that matches documents where the \"age\" field is greater than 30 and the \"city\" field is \"New York\". We print these documents using a for loop as well. Note that the query uses the $gt operator to specify a greater than conditio"
   ]
  },
  {
   "cell_type": "markdown",
   "id": "f5fe08e1-137b-4b39-9e39-c0116ad1f238",
   "metadata": {},
   "source": [
    "### Q6. Explain the sort() method. Give an example to demonstrate sorting in MongoDB."
   ]
  },
  {
   "cell_type": "markdown",
   "id": "21f37748-fe4a-4210-b2ee-a85abb891492",
   "metadata": {},
   "source": [
    "The sort() method in MongoDB is used to sort the results of a query in either ascending or descending order. It takes an optional parameter that specifies the fields to sort by and the order in which to sort them.\n",
    "\n",
    "The sort parameter should be a dictionary that contains one or more key-value pairs, where the key is the field to sort by and the value is either 1 for ascending order or -1 for descending order."
   ]
  },
  {
   "cell_type": "code",
   "execution_count": null,
   "id": "96af7e74-d540-4b77-b131-e3ed0b7179a9",
   "metadata": {},
   "outputs": [],
   "source": [
    "# Importing pymongo package\n",
    "import pymongo\n",
    "\n",
    "# Creating a MongoClient object to connect to the database server\n",
    "client = pymongo.MongoClient(\"mongodb://localhost:27017/\")\n",
    "\n",
    "# Getting a database and a collection\n",
    "db = client[\"mydatabase\"]\n",
    "collection = db[\"mycollection\"]\n",
    "\n",
    "# Inserting some data into the collection\n",
    "collection.insert_many([\n",
    "    {\"name\": \"John\", \"age\": 30, \"city\": \"New York\"},\n",
    "    {\"name\": \"Jane\", \"age\": 25, \"city\": \"San Francisco\"},\n",
    "    {\"name\": \"Bob\", \"age\": 40, \"city\": \"Los Angeles\"},\n",
    "    {\"name\": \"Alice\", \"age\": 35, \"city\": \"Chicago\"}\n",
    "])\n",
    "\n",
    "# Retrieving documents sorted by age in ascending order\n",
    "results = collection.find().sort(\"age\", 1)\n",
    "\n",
    "# Printing the retrieved documents\n",
    "print(\"Documents sorted by age in ascending order:\")\n",
    "for result in results:\n",
    "    print(result)\n",
    "\n",
    "# Retrieving documents sorted by name in descending order\n",
    "results = collection.find().sort(\"name\", -1)\n",
    "\n",
    "# Printing the retrieved documents\n",
    "print(\"Documents sorted by name in descending order:\")\n",
    "for result in results:\n",
    "    print(result)"
   ]
  },
  {
   "cell_type": "markdown",
   "id": "3dd105c4-3c40-4b56-9f8a-4f1e15334c4d",
   "metadata": {},
   "source": [
    "We first connect to the MongoDB server and create a database and a collection, as shown in the previous examples.\n",
    "\n",
    "We then insert some data into the collection using the insert_many() method.\n",
    "\n",
    "We then retrieve documents from the collection sorted by age in ascending order using the sort() method with a sort parameter of {\"age\": 1}. We print these documents using a for loop as well.\n",
    "\n",
    "Finally, we retrieve documents from the collection sorted by name in descending order using the sort() method with a sort parameter of {\"name\": -1}. We print these documents using a for loop as well. Note that the minus sign before the 1 in the sort parameter indicates descending order."
   ]
  },
  {
   "cell_type": "markdown",
   "id": "519d7065-6a6a-4756-989f-7d3be61f26de",
   "metadata": {},
   "source": [
    "### Q7. Explain why delete_one(), delete_many(), and drop() is used."
   ]
  },
  {
   "cell_type": "markdown",
   "id": "af8ecf9e-316a-4366-9d05-3d5f5560cc7a",
   "metadata": {},
   "source": [
    "The delete_one() and delete_many() methods in MongoDB are used to delete documents from a collection that match a given set of criteria. The drop() method is used to drop an entire collection from a database.\n",
    "\n",
    "delete_one() method is used to delete a single document that matches a given set of criteria. If there are multiple documents that match the criteria, only the first one will be deleted. Here's an example:"
   ]
  },
  {
   "cell_type": "code",
   "execution_count": null,
   "id": "adb4b75c-0781-45f2-bcef-3ddfdabcebd3",
   "metadata": {},
   "outputs": [],
   "source": [
    "# Deleting a single document from the collection\n",
    "result = collection.delete_one({\"name\": \"John\"})\n",
    "print(\"Number of documents deleted: \", result.deleted_count)"
   ]
  },
  {
   "cell_type": "markdown",
   "id": "232ce696-010d-497e-a68b-330a56fe0846",
   "metadata": {},
   "source": [
    "We use the delete_one() method to delete a single document from the collection where the \"name\" field is \"John\". The deleted_count attribute of the result object tells us how many documents were deleted.\n",
    "\n",
    "delete_many() method is used to delete multiple documents from the collection that match a given set of criteria. Here's an example:"
   ]
  },
  {
   "cell_type": "code",
   "execution_count": null,
   "id": "3f1d960c-5a74-4987-9b50-6de3b569baf6",
   "metadata": {},
   "outputs": [],
   "source": [
    "# Deleting multiple documents from the collection\n",
    "result = collection.delete_many({\"age\": {\"$gt\": 30}})\n",
    "print(\"Number of documents deleted: \", result.deleted_count)"
   ]
  },
  {
   "cell_type": "markdown",
   "id": "1045a23b-57f0-4585-8129-3be361071cd0",
   "metadata": {},
   "source": [
    "We use the delete_many() method to delete all documents from the collection where the \"age\" field is greater than 30. The deleted_count attribute of the result object tells us how many documents were deleted.\n",
    "\n",
    "drop() method is used to drop an entire collection from a database. Here's an example:"
   ]
  },
  {
   "cell_type": "code",
   "execution_count": null,
   "id": "81abf6a5-bd9c-43ba-bf3a-43626687d865",
   "metadata": {},
   "outputs": [],
   "source": [
    "collection.drop()"
   ]
  },
  {
   "cell_type": "markdown",
   "id": "22434c53-0205-4fdc-9fc2-cf022b2ef94c",
   "metadata": {},
   "source": [
    "We use the drop() method to drop the \"mycollection\" collection from the \"mydatabase\" database.\n",
    "\n",
    "These methods are important for managing the data in a MongoDB database. They allow you to remove unwanted or outdated data from a collection or drop a collection entirely when it is no longer needed. It is important to use these methods carefully to avoid accidentally deleting important data."
   ]
  },
  {
   "cell_type": "code",
   "execution_count": null,
   "id": "edb58c61-1f3c-47a0-b26d-feb562c53f90",
   "metadata": {},
   "outputs": [],
   "source": []
  }
 ],
 "metadata": {
  "kernelspec": {
   "display_name": "Python 3 (ipykernel)",
   "language": "python",
   "name": "python3"
  },
  "language_info": {
   "codemirror_mode": {
    "name": "ipython",
    "version": 3
   },
   "file_extension": ".py",
   "mimetype": "text/x-python",
   "name": "python",
   "nbconvert_exporter": "python",
   "pygments_lexer": "ipython3",
   "version": "3.10.8"
  }
 },
 "nbformat": 4,
 "nbformat_minor": 5
}
