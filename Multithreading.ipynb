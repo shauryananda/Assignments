{
 "cells": [
  {
   "cell_type": "markdown",
   "id": "09925b6f-f456-4d3b-b14a-69a5f6d3ecb1",
   "metadata": {},
   "source": [
    "### Q1. What is multithreading in python? hy is it used? Name the module used to handle threads in python"
   ]
  },
  {
   "cell_type": "markdown",
   "id": "f2c631cd-6cc0-4cbf-b4d9-d0ca3372e955",
   "metadata": {},
   "source": [
    "Multithreading in Python refers to the ability of a program to execute multiple threads (smaller units of a process) simultaneously, which can improve the performance of the program by allowing it to perform multiple tasks at the same time. Each thread runs independently and shares the same memory space and resources as other threads.\n",
    "\n",
    "Multithreading is used in Python to handle computationally intensive tasks, such as data processing, web scraping, or image processing, where it can help to speed up the execution time of the program.\n",
    "\n",
    "In Python, the threading module is used to handle threads. This module provides a way to create, start, and manage threads in a Python program. The threading module provides a higher-level interface to working with threads than the lower-level thread module, and is the recommended module to use for most multithreading tasks in Python.\n",
    "\n",
    "With the threading module, you can create new threads by defining a new subclass of the Thread class and overriding the run() method to define the behavior of the thread. You can then create an instance of the subclass and call the start() method to start the thread. The join() method can be used to wait for the thread to complete before continuing with the main program."
   ]
  },
  {
   "cell_type": "markdown",
   "id": "63702e2d-71ce-4639-a612-bdf4f62c0a21",
   "metadata": {},
   "source": [
    "### Q2. Why threading module used? Write the use of the following functions:\n",
    "\n",
    "#### activeCount()\n",
    "#### currentThread()\n",
    "#### enumerate()"
   ]
  },
  {
   "cell_type": "markdown",
   "id": "b37a95f1-049f-44a9-b33b-8b1cf209c0b5",
   "metadata": {},
   "source": [
    "The threading module in Python is used to handle threads, which are lightweight units of execution that run simultaneously within a program. The module provides a higher-level interface for working with threads than the lower-level thread module, and is the recommended module to use for most multithreading tasks in Python.\n",
    "\n",
    "Here are the uses of some commonly used functions in the threading module:\n",
    "\n",
    "activeCount(): This function is used to return the number of thread objects that are currently active and running in the program. It can be useful for monitoring the progress of a program and identifying potential performance issues caused by too many active threads.\n",
    "\n",
    "currentThread(): This function is used to return a reference to the currently executing thread object. It can be used to obtain information about the current thread, such as its name, identification number, and state.\n",
    "\n",
    "enumerate(): This function is used to return a list of all thread objects that are currently active in the program. It can be used to obtain information about all active threads, such as their names, identification numbers, and states. This function can be useful for monitoring the progress of a program and identifying potential performance issues caused by too many active threads."
   ]
  },
  {
   "cell_type": "markdown",
   "id": "dd65d4c9-e8c4-4519-9c72-69d5e3e733a2",
   "metadata": {},
   "source": [
    "### Q3. Explain the following functions\n",
    "\n",
    "#### 1. run()\n",
    "#### 2. start()\n",
    "#### 3. join()\n",
    "#### 4. isAlive()"
   ]
  },
  {
   "cell_type": "markdown",
   "id": "3744a456-5a28-4094-952a-60ee2f37ad6f",
   "metadata": {},
   "source": [
    "In the threading module, the following functions are commonly used to manage threads:\n",
    "\n",
    "run(): This method is called when a thread is started using the start() method. The run() method contains the code that will be executed in the thread. You should override this method in a subclass of the Thread class to define the behavior of the thread.\n",
    "\n",
    "start(): This method is used to start a new thread of execution. When this method is called, it creates a new thread and invokes the run() method of the thread in a separate thread of execution.\n",
    "\n",
    "join(): This method is used to wait for a thread to complete its execution. When this method is called on a thread object, it causes the calling thread to block until the thread being joined completes its execution. This can be useful when you want to ensure that a thread has finished executing before continuing with the rest of the program.\n",
    "\n",
    "isAlive(): This method is used to check whether a thread is currently active and running. When this method is called on a thread object, it returns True if the thread is currently executing, and False otherwise. This can be useful for monitoring the progress of a program and identifying potential issues caused by threads that have not completed their execution.\n",
    "\n",
    "\n",
    "\n",
    "\n",
    "\n"
   ]
  },
  {
   "cell_type": "markdown",
   "id": "9ae05366-8c18-498a-aed7-a954016f0d43",
   "metadata": {},
   "source": [
    "### Q4. Write a python program to create two threads. Thread one must print the list of squares and thread two must print the list of cubes"
   ]
  },
  {
   "cell_type": "code",
   "execution_count": 1,
   "id": "d3768082-e698-4cc8-8b5e-af45f7af6197",
   "metadata": {},
   "outputs": [
    {
     "name": "stdout",
     "output_type": "stream",
     "text": [
      "1 squared is 1\n",
      "2 squared is 4\n",
      "3 squared is 9\n",
      "4 squared is 16\n",
      "5 squared is 25\n",
      "6 squared is 36\n",
      "7 squared is 49\n",
      "8 squared is 64\n",
      "9 squared is 81\n",
      "10 squared is 100\n",
      "1 cubed is 1\n",
      "2 cubed is 8\n",
      "3 cubed is 27\n",
      "4 cubed is 64\n",
      "5 cubed is 125\n",
      "6 cubed is 216\n",
      "7 cubed is 343\n",
      "8 cubed is 512\n",
      "9 cubed is 729\n",
      "10 cubed is 1000\n",
      "Done!\n"
     ]
    }
   ],
   "source": [
    "import threading\n",
    "\n",
    "def print_squares():\n",
    "    for i in range(1, 11):\n",
    "        print(f\"{i} squared is {i*i}\")\n",
    "\n",
    "def print_cubes():\n",
    "    for i in range(1, 11):\n",
    "        print(f\"{i} cubed is {i*i*i}\")\n",
    "\n",
    "# Create two threads\n",
    "t1 = threading.Thread(target=print_squares)\n",
    "t2 = threading.Thread(target=print_cubes)\n",
    "\n",
    "# Start the threads\n",
    "t1.start()\n",
    "t2.start()\n",
    "\n",
    "# Wait for the threads to finish\n",
    "t1.join()\n",
    "t2.join()\n",
    "\n",
    "print(\"Done!\")"
   ]
  },
  {
   "cell_type": "markdown",
   "id": "564c1d52-b0d1-4d0f-a2f3-822de5d7bc15",
   "metadata": {},
   "source": [
    "The print_squares() function prints the list of squares of the numbers from 1 to 10, while the print_cubes() function prints the list of cubes of the same numbers.\n",
    "\n",
    "Two thread objects t1 and t2 are created with the Thread() constructor and assigned their corresponding functions as the target. Then, start() method is called on the thread objects to start their execution, and join() method is called to wait for the threads to finish their execution before the final message \"Done!\" is printed.\n",
    "\n",
    "When the program is run, both threads run concurrently and print their respective lists to the console. The join() method ensures that the program waits for both threads to finish before printing the final message."
   ]
  },
  {
   "cell_type": "markdown",
   "id": "8eb38f31-10a8-45a7-9d4e-997de5a732a0",
   "metadata": {},
   "source": [
    "### Q5. State advantages and disadvantages of multithreading"
   ]
  },
  {
   "cell_type": "markdown",
   "id": "bea5f0bf-ea57-4dfa-916b-7d5a643b8d6b",
   "metadata": {},
   "source": [
    "Multithreading can offer several advantages and disadvantages depending on the use case. Here are some of them:\n",
    "\n",
    "Advantages of multithreading:\n",
    "\n",
    "Improved performance: Multithreading can improve the performance of a program by allowing it to take advantage of multiple processors or processor cores. This can lead to faster execution times and better overall system utilization.\n",
    "\n",
    "Responsiveness: Multithreading can make a program more responsive by allowing it to handle multiple tasks simultaneously. This can be particularly useful for programs that interact with user interfaces or need to respond to external events.\n",
    "\n",
    "Resource sharing: Multithreading can allow multiple threads to share resources, such as memory or network connections, which can lead to more efficient use of resources and better system utilization.\n",
    "\n",
    "Modularity: Multithreading can be used to implement a modular design, where different threads are responsible for different tasks. This can make a program easier to understand, maintain, and modify.\n",
    "\n",
    "Disadvantages of multithreading:\n",
    "\n",
    "Complexity: Multithreading can make a program more complex and difficult to understand, as it requires careful synchronization and management of shared resources to avoid issues such as race conditions, deadlocks, and priority inversion.\n",
    "\n",
    "Overhead: Multithreading can introduce overhead, such as the cost of context switching between threads and the need for synchronization mechanisms. This overhead can offset some of the performance gains achieved by multithreading.\n",
    "\n",
    "Debugging: Multithreaded programs can be more difficult to debug than single-threaded programs, as issues can be difficult to reproduce and diagnose due to the unpredictable nature of thread interactions.\n",
    "\n",
    "Portability: Multithreading can be less portable than single-threading, as the implementation of threading can vary across different operating systems and hardware architectures."
   ]
  },
  {
   "cell_type": "markdown",
   "id": "9ce3b2c5-e751-469b-97e9-a3306b889b2b",
   "metadata": {},
   "source": [
    "### Q6. Explain deadlocks and race conditions"
   ]
  },
  {
   "cell_type": "markdown",
   "id": "27ffdd23-0e11-41a0-b00d-664be3328214",
   "metadata": {},
   "source": [
    "Deadlocks and race conditions are two common concurrency issues that can occur in multithreaded programs.\n",
    "\n",
    "Deadlocks: A deadlock is a situation where two or more threads are blocked, waiting for each other to release a resource that they need to proceed. For example, Thread A might hold Resource X and be waiting for Resource Y, while Thread B might hold Resource Y and be waiting for Resource X. In this situation, neither thread can proceed, and the program becomes stuck.\n",
    "Deadlocks can occur when multiple threads compete for the same set of resources and there is a circular wait for those resources. To avoid deadlocks, it is important to ensure that threads always request resources in a consistent order and release them when they are no longer needed.\n",
    "\n",
    "Race conditions: A race condition is a situation where the behavior of a program depends on the relative timing or ordering of events between threads. For example, if two threads try to modify the same variable simultaneously, the final value of the variable will depend on which thread executes first. This can lead to unpredictable behavior and errors.\n",
    "Race conditions can occur when multiple threads access shared resources without proper synchronization. To avoid race conditions, it is important to ensure that shared resources are accessed in a mutually exclusive way using synchronization mechanisms such as locks or semaphores.\n",
    "\n",
    "In summary, deadlocks and race conditions are common concurrency issues that can occur in multithreaded programs. Deadlocks occur when two or more threads are blocked, waiting for each other to release a resource that they need to proceed. Race conditions occur when the behavior of a program depends on the relative timing or ordering of events between threads. To avoid these issues, it is important to use proper synchronization mechanisms and avoid circular wait for resources."
   ]
  },
  {
   "cell_type": "code",
   "execution_count": null,
   "id": "6c2acebe-c034-4ac2-b25f-a0433b489aee",
   "metadata": {},
   "outputs": [],
   "source": []
  }
 ],
 "metadata": {
  "kernelspec": {
   "display_name": "Python 3 (ipykernel)",
   "language": "python",
   "name": "python3"
  },
  "language_info": {
   "codemirror_mode": {
    "name": "ipython",
    "version": 3
   },
   "file_extension": ".py",
   "mimetype": "text/x-python",
   "name": "python",
   "nbconvert_exporter": "python",
   "pygments_lexer": "ipython3",
   "version": "3.10.8"
  }
 },
 "nbformat": 4,
 "nbformat_minor": 5
}
