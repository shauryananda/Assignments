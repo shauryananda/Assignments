{
 "cells": [
  {
   "cell_type": "markdown",
   "id": "62f4700b-686d-449e-acc0-6b7ddebbb803",
   "metadata": {},
   "source": [
    "### Q1. What is multiprocessing in python? Why is it useful?"
   ]
  },
  {
   "cell_type": "markdown",
   "id": "b843c110-1b7b-4501-9f19-39c2a67512cb",
   "metadata": {},
   "source": [
    "Multiprocessing in Python is a technique of utilizing multiple CPUs or cores of a computer to perform multiple tasks in parallel. It allows multiple processes to run concurrently, each with its own memory space, and each executing on its own processor. Multiprocessing can significantly improve the performance of CPU-bound tasks in Python, such as intensive calculations, data processing, or scientific simulations.\n",
    "\n",
    "Multiprocessing is useful because it enables parallelism, which can lead to significant speedup in CPU-bound tasks. With multiprocessing, a program can divide a large task into multiple smaller sub-tasks, each running in its own process on a separate CPU or core. This can lead to faster execution times and better overall system utilization.\n",
    "\n",
    "Multiprocessing can also improve the responsiveness of a program, as it allows multiple processes to run simultaneously, each with its own priority and scheduling. This can be particularly useful for programs that interact with user interfaces or need to respond to external events.\n",
    "\n",
    "Python provides a built-in multiprocessing module that makes it easy to write parallel programs. The multiprocessing module provides a Process class that can be used to spawn new processes, and a variety of synchronization primitives such as Locks, Semaphores, and Queues that can be used to coordinate communication and resource sharing between processes.\n",
    "\n",
    "In summary, multiprocessing in Python is a technique of utilizing multiple CPUs or cores to perform multiple tasks in parallel. It is useful for improving the performance and responsiveness of CPU-bound tasks, and Python provides a built-in multiprocessing module that makes it easy to write parallel programs."
   ]
  },
  {
   "cell_type": "markdown",
   "id": "49d685b2-e850-4386-8b52-d462b3859388",
   "metadata": {},
   "source": [
    "### Q2. What are the differences between multiprocessing and multithreading?"
   ]
  },
  {
   "cell_type": "markdown",
   "id": "694c6498-4213-4b3e-af73-ca64a0141566",
   "metadata": {},
   "source": [
    "The main differences between multiprocessing and multithreading are as follows:\n",
    "\n",
    "Execution model: In multiprocessing, each process runs in its own memory space and has its own instance of Python interpreter, while in multithreading, all threads share the same memory space and the same instance of Python interpreter.\n",
    "\n",
    "Concurrency: Multiprocessing provides true concurrency as multiple processes can run in parallel on multiple CPUs or cores, while multithreading provides only pseudo-concurrency as only one thread can execute at a time on a single CPU or core, and the operating system switches between threads rapidly to give the appearance of concurrent execution.\n",
    "\n",
    "Overhead: Multiprocessing has higher overhead than multithreading due to the need to create new processes and copy memory between them, while multithreading has lower overhead as threads share the same memory space and can communicate more efficiently.\n",
    "\n",
    "Isolation: Multiprocessing provides better isolation between processes as each process has its own memory space, while multithreading has less isolation as threads share the same memory space and can access the same variables and data structures.\n",
    "\n",
    "Complexity: Multiprocessing is more complex to program than multithreading due to the need to manage multiple processes and communicate between them, while multithreading is simpler to program as all threads share the same memory space and can communicate using synchronization primitives."
   ]
  },
  {
   "cell_type": "markdown",
   "id": "994c8c76-5447-4898-9ac2-558a9e04b863",
   "metadata": {},
   "source": [
    "Multiprocessing and multithreading are both techniques for achieving parallelism in Python, but they differ in their execution model, concurrency, overhead, isolation, and complexity. Multiprocessing provides true concurrency, better isolation, and higher complexity, while multithreading provides pseudo-concurrency, lower overhead, and lower complexity. The choice between multiprocessing and multithreading depends on the specific requirements of the application and the available hardware resources."
   ]
  },
  {
   "cell_type": "markdown",
   "id": "bf56ab7d-9b54-4982-97ae-20cf4490fa86",
   "metadata": {},
   "source": [
    "### Q3. Write a python code to create a process using the multiprocessing module."
   ]
  },
  {
   "cell_type": "code",
   "execution_count": 1,
   "id": "eb786a45-c19f-491a-998d-ce3fd541f6a6",
   "metadata": {},
   "outputs": [
    {
     "name": "stdout",
     "output_type": "stream",
     "text": [
      "Worker process is running.\n",
      "Main process is exiting.\n"
     ]
    }
   ],
   "source": [
    "import multiprocessing\n",
    "\n",
    "def worker():\n",
    "    \"\"\"This function will be run in a separate process.\"\"\"\n",
    "    print(\"Worker process is running.\")\n",
    "\n",
    "if __name__ == '__main__':\n",
    "    # Create a new process\n",
    "    p = multiprocessing.Process(target=worker)\n",
    "    \n",
    "    # Start the process\n",
    "    p.start()\n",
    "    \n",
    "    # Wait for the process to finish\n",
    "    p.join()\n",
    "\n",
    "    print(\"Main process is exiting.\")"
   ]
  },
  {
   "cell_type": "markdown",
   "id": "71f5a9ee-fe35-4bb8-87c8-466a863076d0",
   "metadata": {},
   "source": [
    "We define a worker function that will be run in a separate process. We then create a new process using the Process class of the multiprocessing module, passing the target argument as the worker function. We start the process using the start() method, and then wait for the process to finish using the join() method. Finally, we print a message to indicate that the main process is exiting.\n",
    "\n",
    "Note that we use the if __name__ == '__main__': guard to ensure that the code is only run if this module is being executed as the main program, and not imported as a module into another program. This is important to avoid infinite recursion when using multiprocessing."
   ]
  },
  {
   "cell_type": "markdown",
   "id": "a5691e39-04e8-4c54-a5a7-d38ee8966577",
   "metadata": {},
   "source": [
    "### Q4. What is a multiprocessing pool in python? Why is it used?"
   ]
  },
  {
   "cell_type": "markdown",
   "id": "f6bef6c5-119b-4923-bf5f-bbb5149f1495",
   "metadata": {},
   "source": [
    "A multiprocessing pool in Python is a collection of worker processes that are created to perform parallel computations. The multiprocessing module provides the Pool class for creating and managing a pool of worker processes.\n",
    "\n",
    "The Pool class provides a convenient way to distribute work among multiple processes, allowing for parallel execution of tasks. When a task is submitted to the pool, it is automatically assigned to an available worker process. The result of the task is returned to the parent process when it is complete. The Pool class takes care of managing the worker processes and communication between the parent and child processes.\n",
    "\n",
    "The main advantages of using a Pool in multiprocessing are:\n",
    "\n",
    "Increased performance: By distributing tasks among multiple processes, the overall execution time can be reduced, leading to improved performance.\n",
    "\n",
    "Simplified code: The Pool class abstracts away many of the details of managing multiple processes, making it easier to write parallel code.\n",
    "\n",
    "Improved reliability: The Pool class provides built-in error handling and recovery mechanisms, making it easier to write robust parallel code.\n",
    "\n",
    "In summary, a multiprocessing pool in Python is a collection of worker processes that are used to perform parallel computations. The Pool class provides a convenient way to manage the worker processes and distribute tasks among them, leading to improved performance, simplified code, and improved reliability."
   ]
  },
  {
   "cell_type": "markdown",
   "id": "7d321fa5-f171-491a-966d-7d4f30251a1c",
   "metadata": {},
   "source": [
    "### Q5. How can we create a pool of worker processes in python using the multiprocessing module?"
   ]
  },
  {
   "cell_type": "markdown",
   "id": "c87d90c0-6829-40a3-af88-29912bc3c481",
   "metadata": {},
   "source": [
    "We can create a pool of worker processes in Python using the Pool class from the multiprocessing module. Here's an example code that creates a pool of 4 worker processes and uses them to execute a function process_task on a list of data:"
   ]
  },
  {
   "cell_type": "code",
   "execution_count": 2,
   "id": "54446ef7-392b-4739-abde-a26b5b56dded",
   "metadata": {},
   "outputs": [
    {
     "name": "stdout",
     "output_type": "stream",
     "text": [
      "[1, 4, 9, 16, 25, 36, 49, 64, 81, 100]\n"
     ]
    }
   ],
   "source": [
    "import multiprocessing\n",
    "\n",
    "def process_task(data):\n",
    "    # Function to be executed by the worker processes\n",
    "    result = []\n",
    "    for item in data:\n",
    "        result.append(item ** 2)\n",
    "    return result\n",
    "\n",
    "if __name__ == '__main__':\n",
    "    # Create a pool of 4 worker processes\n",
    "    pool = multiprocessing.Pool(processes=4)\n",
    "    \n",
    "    # Data to be processed by the worker processes\n",
    "    data = [1, 2, 3, 4, 5, 6, 7, 8, 9, 10]\n",
    "    \n",
    "    # Submit the data to the pool of worker processes\n",
    "    results = pool.apply(process_task, args=(data,))\n",
    "    \n",
    "    # Print the results returned by the worker processes\n",
    "    print(results)\n",
    "    \n",
    "    # Close the pool of worker processes\n",
    "    pool.close()\n",
    "    pool.join()"
   ]
  },
  {
   "cell_type": "markdown",
   "id": "74846ae2-0218-4839-bd1b-1d366caa4de3",
   "metadata": {},
   "source": [
    "We first define the function process_task that will be executed by the worker processes. We then create a Pool object with processes=4, indicating that we want to create a pool of 4 worker processes.\n",
    "\n",
    "Next, we define the data that we want to process using the worker processes. We submit the data to the pool of worker processes using the apply() method of the Pool object. The apply() method takes the name of the function to be executed and a tuple of arguments to pass to the function.\n",
    "\n",
    "The apply() method blocks until the result of the function execution is returned. In this case, the process_task function returns a list of squared numbers, which is assigned to the results variable.\n",
    "\n",
    "Finally, we print the results and close the pool of worker processes using the close() method. We use the join() method to wait for all the worker processes to complete their work before exiting the program."
   ]
  },
  {
   "cell_type": "markdown",
   "id": "12edcc6a-0dcc-45ef-889b-cbf752d8d2fa",
   "metadata": {},
   "source": [
    "### Q6. Write a python program to create 4 processes, each process should print a different number using the multiprocessing module in python."
   ]
  },
  {
   "cell_type": "code",
   "execution_count": 3,
   "id": "66728124-655d-4b2d-a821-7cc132c088e6",
   "metadata": {},
   "outputs": [
    {
     "name": "stdout",
     "output_type": "stream",
     "text": [
      "Process Process-6 prints 1\n",
      "Process Process-7 prints 2\n",
      "Process Process-8 prints 3\n",
      "Process Process-9 prints 4\n"
     ]
    }
   ],
   "source": [
    "import multiprocessing\n",
    "\n",
    "def print_number(num):\n",
    "    print(f\"Process {multiprocessing.current_process().name} prints {num}\")\n",
    "\n",
    "if __name__ == '__main__':\n",
    "    # Create 4 processes\n",
    "    processes = [multiprocessing.Process(target=print_number, args=(i,)) for i in range(1, 5)]\n",
    "\n",
    "    # Start the processes\n",
    "    for process in processes:\n",
    "        process.start()\n",
    "\n",
    "    # Wait for the processes to complete\n",
    "    for process in processes:\n",
    "        process.join()"
   ]
  },
  {
   "cell_type": "markdown",
   "id": "8ef7b84a-2efb-4d83-a2fb-b7a7a39f564e",
   "metadata": {},
   "source": [
    "We first define the print_number() function that takes a number as input and prints it along with the name of the process that is executing the function.\n",
    "\n",
    "Next, we create a list of 4 processes using a list comprehension. Each process is created using the Process() constructor and is assigned the print_number function as the target. We pass in the number to be printed as the argument to the function using the args parameter.\n",
    "\n",
    "We then start each of the 4 processes using the start() method of the Process object.\n",
    "\n",
    "Finally, we wait for each process to complete using the join() method of the Process object. This ensures that all the processes complete their execution before the program exits."
   ]
  },
  {
   "cell_type": "code",
   "execution_count": null,
   "id": "27c1c7e8-1efb-4b40-88b5-ec98c579ce88",
   "metadata": {},
   "outputs": [],
   "source": []
  }
 ],
 "metadata": {
  "kernelspec": {
   "display_name": "Python 3 (ipykernel)",
   "language": "python",
   "name": "python3"
  },
  "language_info": {
   "codemirror_mode": {
    "name": "ipython",
    "version": 3
   },
   "file_extension": ".py",
   "mimetype": "text/x-python",
   "name": "python",
   "nbconvert_exporter": "python",
   "pygments_lexer": "ipython3",
   "version": "3.10.8"
  }
 },
 "nbformat": 4,
 "nbformat_minor": 5
}
