{
 "cells": [
  {
   "cell_type": "markdown",
   "id": "9fb377b5-e974-4644-b332-3b89cb93e7fb",
   "metadata": {},
   "source": [
    "### Q1. What is the difference between a t-test and a z-test? Provide an example scenario where you would use each type of test."
   ]
  },
  {
   "cell_type": "markdown",
   "id": "52b8d757-40bb-4918-a7c7-6abaee9997ce",
   "metadata": {},
   "source": [
    "Both t-test and z-test are statistical tests used to test hypotheses about population parameters. However, they differ in the following ways:\n",
    "\n",
    "Population standard deviation: The z-test assumes that the population standard deviation is known, while the t-test assumes that it is unknown and estimates it from the sample.\n",
    "\n",
    "Sample size: The z-test is appropriate when the sample size is large (n>30), while the t-test is appropriate for smaller sample sizes.\n",
    "\n",
    "Distribution: The z-test assumes a normal distribution of the population, while the t-test assumes a normal distribution of the sample.\n",
    "\n",
    "Here are examples of when you would use each type of test:\n",
    "\n",
    "Scenario for z-test: Suppose you want to test if the mean height of a population is equal to a specified value of 175 cm. You have a large sample of 1000 people, and you know the population standard deviation is 10 cm. In this case, you would use a z-test to test the hypothesis.\n",
    "\n",
    "Scenario for t-test: Suppose you want to test if a new drug reduces blood pressure in patients. You have a sample of 25 patients, and you do not know the population standard deviation. In this case, you would use a t-test to test the hypothesis.\n",
    "\n",
    "\n",
    "\n"
   ]
  },
  {
   "cell_type": "markdown",
   "id": "7036a6b6-a86b-4d49-bafb-763010f0150a",
   "metadata": {},
   "source": [
    "### Q2. Differentiate between one-tailed and two-tailed tests."
   ]
  },
  {
   "cell_type": "markdown",
   "id": "d877a139-a621-4219-ad39-49048ca890bd",
   "metadata": {},
   "source": [
    "In hypothesis testing, a statistical test can be either one-tailed or two-tailed. The main difference between these two types of tests is the way the null hypothesis is formulated and the directionality of the alternative hypothesis.\n",
    "\n",
    "A one-tailed test, also known as a directional test, is a statistical test where the alternative hypothesis is either greater than or less than the null hypothesis, in a specific direction. In other words, it tests for the possibility of an effect in one particular direction. For example, a one-tailed test might be used to test the hypothesis that a new medication reduces the symptoms of a particular disease, as opposed to merely having an effect on the symptoms. A one-tailed test is often used when there is a priori reason to believe that the effect will be in a specific direction.\n",
    "\n",
    "A two-tailed test, also known as a non-directional test, is a statistical test where the alternative hypothesis is simply not equal to the null hypothesis, without any specific directionality. In other words, it tests for the possibility of an effect in either direction. For example, a two-tailed test might be used to test the hypothesis that a coin is fair (i.e., has a 50-50 chance of landing heads or tails), as opposed to being biased towards one side or the other. A two-tailed test is often used when there is no a priori reason to believe that the effect will be in a specific direction.\n",
    "\n",
    "To summarize, a one-tailed test is used when there is a specific direction of effect that is of interest, while a two-tailed test is used when the direction of effect is not specified or when there is no reason to expect the effect to be in a particular direction."
   ]
  },
  {
   "cell_type": "markdown",
   "id": "8bfa4550-a528-44bb-bdad-aca3fae4dc62",
   "metadata": {},
   "source": [
    "### Q3. Explain the concept of Type 1 and Type 2 errors in hypothesis testing. Provide an example scenario for each type of error."
   ]
  },
  {
   "cell_type": "markdown",
   "id": "f9146659-15db-4f62-907f-9614eb92bffc",
   "metadata": {},
   "source": [
    "In hypothesis testing, there are two types of errors that can occur: Type 1 error and Type 2 error.\n",
    "\n",
    "Type 1 error occurs when we reject a true null hypothesis. In other words, we conclude that there is a significant difference between two groups, when in reality, there is no significant difference. This error is also known as a false positive. The probability of committing a Type 1 error is denoted by the Greek letter alpha (α), which is usually set at 0.05.\n",
    "\n",
    "An example scenario of a Type 1 error is when a clinical trial rejects the null hypothesis that a new drug has no effect, when in reality, the drug has no effect. This can lead to the drug being approved and marketed even though it is not effective, potentially causing harm to patients and wasting resources.\n",
    "\n",
    "Type 2 error occurs when we fail to reject a false null hypothesis. In other words, we conclude that there is no significant difference between two groups, when in reality, there is a significant difference. This error is also known as a false negative. The probability of committing a Type 2 error is denoted by the Greek letter beta (β).\n",
    "\n",
    "An example scenario of a Type 2 error is when a clinical trial fails to reject the null hypothesis that a new drug has no effect, when in reality, the drug does have a significant effect. This can lead to the drug not being approved or marketed, potentially denying patients an effective treatment.\n",
    "\n",
    "To minimize the risk of committing either type of error, researchers can increase the sample size, use a more appropriate statistical test, or adjust the significance level. It is important to strike a balance between minimizing both types of errors, as reducing one type of error often increases the risk of the other type of error."
   ]
  },
  {
   "cell_type": "markdown",
   "id": "939c6281-7c6a-4715-8e2e-bbd82453df11",
   "metadata": {},
   "source": [
    "### Q4. Explain Bayes's theorem with an example."
   ]
  },
  {
   "cell_type": "markdown",
   "id": "42dd02e4-a48f-4bd7-a745-4428f3f68f1d",
   "metadata": {},
   "source": [
    "Bayes's theorem is a mathematical formula that describes how to update the probability of a hypothesis based on new evidence. It is named after Thomas Bayes, an 18th-century English statistician.\n",
    "\n",
    "The formula for Bayes's theorem is as follows:\n",
    "\n",
    "P(A|B) = P(B|A) * P(A) / P(B)\n",
    "\n",
    "Where:\n",
    "P(A|B) is the probability of hypothesis A given the observed evidence B.\n",
    "P(B|A) is the probability of observing evidence B given that hypothesis A is true.\n",
    "P(A) is the prior probability of hypothesis A.\n",
    "P(B) is the probability of observing evidence B.\n",
    "\n",
    "An example scenario where Bayes's theorem can be used is in medical diagnosis. Suppose a doctor is trying to diagnose a patient with a certain disease. The prevalence of the disease in the population is 1%, which means that the prior probability of the patient having the disease is 0.01.\n",
    "\n",
    "The doctor orders a test, which has a sensitivity of 90% and a specificity of 95%. Sensitivity is the probability that the test will correctly identify a patient who has the disease, and specificity is the probability that the test will correctly identify a patient who does not have the disease.\n",
    "\n",
    "The patient takes the test, and the result is positive. The probability of a positive test result given that the patient has the disease is 0.9 (sensitivity), and the probability of a positive test result given that the patient does not have the disease is 0.05 (1 - specificity).\n",
    "\n",
    "Using Bayes's theorem, we can calculate the probability of the patient having the disease given the positive test result:\n",
    "\n",
    "P(Disease|Positive test) = P(Positive test|Disease) * P(Disease) / P(Positive test)\n",
    "\n",
    "P(Disease|Positive test) = 0.9 * 0.01 / ((0.9 * 0.01) + (0.05 * 0.99))\n",
    "\n",
    "P(Disease|Positive test) = 0.15\n",
    "\n",
    "The result of 0.15 means that there is a 15% chance that the patient actually has the disease, given the positive test result. This probability is higher than the prior probability of 1%, but it is not high enough to make a definitive diagnosis. Further tests or observations may be necessary to confirm the diagnosis.\n",
    "\n",
    "\n",
    "\n"
   ]
  },
  {
   "cell_type": "markdown",
   "id": "c9a7d0be-fe2a-4550-83fa-bd758c904762",
   "metadata": {},
   "source": [
    "### Q5. What is a confidence interval? How to calculate the confidence interval, explain with an example."
   ]
  },
  {
   "cell_type": "markdown",
   "id": "f5992769-8470-42ea-b78d-1245440602d4",
   "metadata": {},
   "source": [
    "A confidence interval is a range of values that is likely to contain the true value of a population parameter with a certain level of confidence. It is commonly used in statistics to estimate the true value of a population parameter based on a sample.\n",
    "\n",
    "To calculate a confidence interval, you need to know the sample size, the sample mean, and the standard deviation or standard error of the sample. You also need to choose a confidence level, which is typically set to 95% or 99%.\n",
    "\n",
    "Here's an example of how to calculate a confidence interval:\n",
    "\n",
    "Suppose you want to estimate the average height of all adults in a city. You take a random sample of 50 adults and measure their heights. The sample mean height is 170 cm and the standard deviation of the sample is 5 cm.\n",
    "\n",
    "To calculate a 95% confidence interval for the population mean height, you can use the following formula:\n",
    "\n",
    "Confidence interval = sample mean ± (critical value x standard error)\n",
    "\n",
    "The critical value depends on the sample size and the chosen confidence level. For a sample size of 50 and a 95% confidence level, the critical value is 1.96.\n",
    "\n",
    "The standard error is the standard deviation of the sample divided by the square root of the sample size. In this case, the standard error is:\n",
    "\n",
    "Standard error = 5 / sqrt(50) = 0.71\n",
    "\n",
    "Substituting these values into the formula, we get:\n",
    "\n",
    "Confidence interval = 170 ± (1.96 x 0.71) = (168.6, 171.4)\n",
    "\n",
    "Therefore, we can say with 95% confidence that the true average height of all adults in the city is between 168.6 cm and 171.4 cm.\n",
    "\n",
    "\n",
    "\n"
   ]
  },
  {
   "cell_type": "markdown",
   "id": "4d210e38-0ea1-4362-b1dc-bc1f4505fddb",
   "metadata": {},
   "source": [
    "### Q6. Use Bayes' Theorem to calculate the probability of an event occurring given prior knowledge of the event's probability and new evidence. Provide a sample problem and solution."
   ]
  },
  {
   "cell_type": "markdown",
   "id": "7867e7e2-c2ea-4b19-bce7-945da75e7dac",
   "metadata": {},
   "source": [
    "Bayes' Theorem is a mathematical formula used to calculate the probability of an event occurring based on prior knowledge of the event's probability and new evidence.\n",
    "\n",
    "The formula for Bayes' Theorem is:\n",
    "\n",
    "P(A|B) = P(B|A) * P(A) / P(B)\n",
    "\n",
    "where:\n",
    "P(A|B) is the probability of event A occurring given new evidence B\n",
    "P(B|A) is the probability of the evidence B given that event A has occurred\n",
    "P(A) is the prior probability of event A occurring\n",
    "P(B) is the probability of the evidence B occurring\n",
    "\n",
    "Here's an example of how to use Bayes' Theorem:\n",
    "\n",
    "Suppose a doctor knows that the probability of a patient having a certain disease is 0.05. The doctor performs a diagnostic test that has a 90% accuracy rate. If the test comes back positive, what is the probability that the patient actually has the disease?\n",
    "\n",
    "Let event A be the patient having the disease, and event B be the test coming back positive.\n",
    "\n",
    "P(A) = 0.05 (prior probability of the patient having the disease)\n",
    "P(B|A) = 0.90 (probability of the test coming back positive given that the patient has the disease)\n",
    "P(B|not A) = 0.10 (probability of the test coming back positive given that the patient does not have the disease)\n",
    "P(not A) = 0.95 (prior probability of the patient not having the disease)\n",
    "\n",
    "We want to find P(A|B), the probability of the patient actually having the disease given a positive test result.\n",
    "\n",
    "Using Bayes' Theorem, we have:\n",
    "\n",
    "P(A|B) = P(B|A) * P(A) / P(B)\n",
    "= 0.90 * 0.05 / ((0.90 * 0.05) + (0.10 * 0.95))\n",
    "= 0.3077\n",
    "\n",
    "Therefore, the probability that the patient actually has the disease given a positive test result is approximately 30.77%.\n",
    "\n",
    "\n",
    "\n"
   ]
  },
  {
   "cell_type": "markdown",
   "id": "89accb2d-8ba3-4f89-bffb-f9a7dd054912",
   "metadata": {},
   "source": [
    "### Q7. Calculate the 95% confidence interval for a sample of data with a mean of 50 and a standard deviation of 5. Interpret the results."
   ]
  },
  {
   "cell_type": "markdown",
   "id": "d08ef894-abe5-4964-b25e-97f6d46f47dd",
   "metadata": {},
   "source": [
    "To calculate the 95% confidence interval for a sample of data with a mean of 50 and a standard deviation of 5, we can use the following formula:\n",
    "\n",
    "95% confidence interval = sample mean ± (1.96 x standard error)\n",
    "\n",
    "where the standard error is calculated as the standard deviation of the sample divided by the square root of the sample size.\n",
    "\n",
    "Assuming we have a large enough sample size, say n = 100, we can calculate the standard error as:\n",
    "\n",
    "Standard error = standard deviation / sqrt(sample size)\n",
    "= 5 / sqrt(100)\n",
    "= 0.5\n",
    "\n",
    "Substituting these values into the formula, we get:\n",
    "\n",
    "95% confidence interval = 50 ± (1.96 x 0.5)\n",
    "= (49.01, 50.99)\n",
    "\n",
    "Interpretation: The 95% confidence interval for the sample mean of 50 and standard deviation of 5 is (49.01, 50.99). This means that if we were to take many random samples of the same size from the population, we would expect the mean of each sample to fall within this range 95% of the time. In other words, we are 95% confident that the true population mean falls within this interval.\n",
    "\n",
    "\n",
    "\n"
   ]
  },
  {
   "cell_type": "markdown",
   "id": "751cb646-1309-4bfd-9955-a34ea2c14775",
   "metadata": {},
   "source": [
    "### Q8. What is the margin of error in a confidence interval? How does sample size affect the margin of error? Provide an example of a scenario where a larger sample size would result in a smaller margin of error."
   ]
  },
  {
   "cell_type": "markdown",
   "id": "24fdcbd0-67d6-4d8f-ac86-86fd3cc46645",
   "metadata": {},
   "source": [
    "The margin of error in a confidence interval is the range of values above and below the sample statistic (such as the sample mean) that defines the likely range for the true population parameter. It is an important measure of the precision of an estimate, and is affected by several factors, including the sample size.\n",
    "\n",
    "A larger sample size generally results in a smaller margin of error, because as the sample size increases, the standard error of the estimate decreases. The standard error is the standard deviation of the sampling distribution of the sample statistic, and it reflects the variability of sample means that would be obtained from repeated sampling from the same population.\n",
    "\n",
    "Here's an example of a scenario where a larger sample size would result in a smaller margin of error:\n",
    "\n",
    "Suppose we want to estimate the average weight of all adult women in a certain city. We take a random sample of 50 women and find that the sample mean weight is 150 pounds, with a standard deviation of 10 pounds. If we use a 95% confidence level, the margin of error can be calculated as:\n",
    "\n",
    "Margin of error = critical value x standard error\n",
    "\n",
    "where the critical value depends on the sample size and the chosen confidence level. For a sample size of 50 and a 95% confidence level, the critical value is 1.96.\n",
    "\n",
    "The standard error is calculated as:\n",
    "\n",
    "Standard error = standard deviation / sqrt(sample size)\n",
    "= 10 / sqrt(50)\n",
    "= 1.41\n",
    "\n",
    "Substituting these values into the formula, we get:\n",
    "\n",
    "Margin of error = 1.96 x 1.41\n",
    "= 2.77\n",
    "\n",
    "Therefore, we can say with 95% confidence that the true average weight of all adult women in the city falls within the range of (150 - 2.77, 150 + 2.77) pounds, or (147.23, 152.77) pounds.\n",
    "\n",
    "Now suppose we increase the sample size to 200. The standard error would be calculated as:\n",
    "\n",
    "Standard error = 10 / sqrt(200)\n",
    "= 0.71\n",
    "\n",
    "Substituting these values into the formula, we get:\n",
    "\n",
    "Margin of error = 1.96 x 0.71\n",
    "= 1.39\n",
    "\n",
    "Therefore, with the larger sample size, we can say with 95% confidence that the true average weight of all adult women in the city falls within the range of (150 - 1.39, 150 + 1.39) pounds, or (148.61, 151.39) pounds. As expected, the margin of error has decreased with the larger sample size, indicating greater precision in the estimate.\n",
    "\n",
    "\n",
    "\n"
   ]
  },
  {
   "cell_type": "markdown",
   "id": "6150b1b6-abac-4da9-85f9-ef5f02e0a24e",
   "metadata": {},
   "source": [
    "### Q9. Calculate the z-score for a data point with a value of 75, a population mean of 70, and a population standard deviation of 5. Interpret the results."
   ]
  },
  {
   "cell_type": "markdown",
   "id": "ad4badb6-b57f-49df-955c-0fd16a717c98",
   "metadata": {},
   "source": [
    "To calculate the z-score for a data point with a value of 75, a population mean of 70, and a population standard deviation of 5, we can use the following formula:\n",
    "\n",
    "z = (x - μ) / σ\n",
    "\n",
    "where x is the value of the data point, μ is the population mean, and σ is the population standard deviation.\n",
    "\n",
    "Substituting the values, we get:\n",
    "\n",
    "z = (75 - 70) / 5\n",
    "= 1\n",
    "\n",
    "Interpretation: The z-score of 1 indicates that the data point of 75 is one standard deviation above the population mean of 70. In other words, the value of 75 is higher than the average value in the population by one standard deviation. This is a useful way to standardize data and compare different values across different populations, as it allows us to compare data points on a common scale."
   ]
  },
  {
   "cell_type": "markdown",
   "id": "f2531241-57fa-4fae-992b-3a4b404194ea",
   "metadata": {},
   "source": [
    "### Q10. In a study of the effectiveness of a new weight loss drug, a sample of 50 participants lost an average of 6 pounds with a standard deviation of 2.5 pounds. Conduct a hypothesis test to determine if the drug is significantly effective at a 95% confidence level using a t-test."
   ]
  },
  {
   "cell_type": "markdown",
   "id": "b1c42f84-7c75-4e60-b222-e291533e681f",
   "metadata": {},
   "source": [
    "To conduct a hypothesis test to determine if the weight loss drug is significantly effective at a 95% confidence level using a t-test, we need to follow the following steps:\n",
    "\n",
    "Step 1: State the null hypothesis and alternative hypothesis\n",
    "The null hypothesis (H0) is that the weight loss drug is not significantly effective and the alternative hypothesis (Ha) is that the weight loss drug is significantly effective.\n",
    "\n",
    "H0: μ <= 0\n",
    "Ha: μ > 0 (where μ is the population mean weight loss)\n",
    "\n",
    "Step 2: Determine the level of significance (α)\n",
    "The level of significance is given as 0.05 for a 95% confidence level.\n",
    "\n",
    "Step 3: Identify the test statistic and calculate its value\n",
    "Since the sample size is less than 30, we will use a t-test. The test statistic can be calculated as:\n",
    "\n",
    "t = (x̄ - μ) / (s / sqrt(n))\n",
    "\n",
    "where x̄ is the sample mean weight loss, μ is the population mean weight loss under the null hypothesis, s is the sample standard deviation, and n is the sample size.\n",
    "\n",
    "Substituting the values, we get:\n",
    "\n",
    "t = (6 - 0) / (2.5 / sqrt(50))\n",
    "= 12.65\n",
    "\n",
    "Step 4: Determine the critical value(s)\n",
    "The critical value for a one-tailed test with 49 degrees of freedom and a level of significance of 0.05 is 1.677.\n",
    "\n",
    "Step 5: Make a decision and interpret the results\n",
    "Since the calculated t-value of 12.65 is greater than the critical value of 1.677, we reject the null hypothesis and conclude that the weight loss drug is significantly effective at a 95% confidence level.\n",
    "\n",
    "Interpretation: The results indicate that there is strong evidence to suggest that the weight loss drug is effective in promoting weight loss, as the sample mean weight loss of 6 pounds is significantly greater than the hypothesized population mean of 0 pounds. However, it is important to note that the study was conducted on a sample of 50 participants, and the results may not necessarily generalize to the larger population.\n",
    "\n",
    "\n",
    "\n"
   ]
  },
  {
   "cell_type": "markdown",
   "id": "60571659-2d96-416c-9c48-f8b56949269e",
   "metadata": {},
   "source": [
    "### Q11. In a survey of 500 people, 65% reported being satisfied with their current job. Calculate the 95% confidence interval for the true proportion of people who are satisfied with their job."
   ]
  },
  {
   "cell_type": "markdown",
   "id": "edb0f568-c0af-4468-a908-5d9640abb32f",
   "metadata": {},
   "source": [
    "To calculate the 95% confidence interval for the true proportion of people who are satisfied with their job, we can use the following formula:\n",
    "\n",
    "CI = p ± z* (sqrt(p*(1-p)/n))\n",
    "\n",
    "where CI is the confidence interval, p is the sample proportion, z* is the critical value from the standard normal distribution for the desired confidence level, and n is the sample size.\n",
    "\n",
    "Substituting the values, we get:\n",
    "\n",
    "p = 0.65 (sample proportion)\n",
    "n = 500 (sample size)\n",
    "z* = 1.96 (for a 95% confidence level)\n",
    "\n",
    "CI = 0.65 ± 1.96 * (sqrt(0.65 * 0.35 / 500))\n",
    "= 0.65 ± 0.046\n",
    "= (0.604, 0.696)\n",
    "\n",
    "Interpretation: The 95% confidence interval for the true proportion of people who are satisfied with their job is (0.604, 0.696). This means that we can be 95% confident that the true proportion of people who are satisfied with their job falls within this interval. In other words, if we were to repeat this survey many times and calculate the confidence intervals each time, we would expect 95% of the intervals to contain the true proportion of satisfied employees.\n",
    "\n",
    "\n",
    "\n"
   ]
  },
  {
   "cell_type": "markdown",
   "id": "4278b02e-a0d8-43cc-9357-c3ab11d0c732",
   "metadata": {},
   "source": [
    "### Q12. A researcher is testing the effectiveness of two different teaching methods on student performance. Sample A has a mean score of 85 with a standard deviation of 6, while sample B has a mean score of 82 with a standard deviation of 5. Conduct a hypothesis test to determine if the two teaching methods have a significant difference in student performance using a t-test with a significance level of 0.01."
   ]
  },
  {
   "cell_type": "markdown",
   "id": "d56f81bb-751b-476e-8448-5736017080e1",
   "metadata": {},
   "source": [
    "To conduct a hypothesis test to determine if the two teaching methods have a significant difference in student performance using a t-test with a significance level of 0.01, we need to follow the following steps:\n",
    "\n",
    "Step 1: State the null hypothesis and alternative hypothesis\n",
    "The null hypothesis (H0) is that there is no significant difference in student performance between the two teaching methods, and the alternative hypothesis (Ha) is that there is a significant difference in student performance between the two teaching methods.\n",
    "\n",
    "H0: μA - μB = 0\n",
    "Ha: μA - μB ≠ 0 (where μA and μB are the population means for teaching methods A and B, respectively)\n",
    "\n",
    "Step 2: Determine the level of significance (α)\n",
    "The level of significance is given as 0.01.\n",
    "\n",
    "Step 3: Identify the test statistic and calculate its value\n",
    "Since the sample sizes are less than 30 and the population standard deviations are unknown, we will use a pooled t-test. The test statistic can be calculated as:\n",
    "\n",
    "t = (x̄A - x̄B) / (Sp * sqrt(1/nA + 1/nB))\n",
    "\n",
    "where x̄A and x̄B are the sample means, nA and nB are the sample sizes, and Sp is the pooled standard deviation calculated as:\n",
    "\n",
    "Sp = sqrt(((nA - 1) * sA^2 + (nB - 1) * sB^2) / (nA + nB - 2))\n",
    "\n",
    "where sA and sB are the sample standard deviations.\n",
    "\n",
    "Substituting the values, we get:\n",
    "\n",
    "x̄A = 85, sA = 6, nA = 1\n",
    "x̄B = 82, sB = 5, nB = 1\n",
    "\n",
    "Sp = sqrt(((1 - 1) * 6^2 + (1 - 1) * 5^2) / (1 + 1 - 2))\n",
    "= 5.5\n",
    "\n",
    "t = (85 - 82) / (5.5 * sqrt(1/1 + 1/1))\n",
    "= 1.09\n",
    "\n",
    "Step 4: Determine the critical value(s)\n",
    "The critical value for a two-tailed test with 2(nA + nB - 2) degrees of freedom and a significance level of 0.01 is approximately ±2.58.\n",
    "\n",
    "Step 5: Make a decision and interpret the results\n",
    "Since the calculated t-value of 1.09 is less than the critical value of ±2.58, we fail to reject the null hypothesis and conclude that there is no significant difference in student performance between the two teaching methods at a 99% confidence level.\n",
    "\n",
    "Interpretation: The results indicate that we do not have sufficient evidence to suggest that there is a significant difference in student performance between the two teaching methods.\n",
    "\n",
    "\n",
    "\n"
   ]
  },
  {
   "cell_type": "markdown",
   "id": "2f7a5562-6994-4198-84cb-45c9339a555d",
   "metadata": {},
   "source": [
    "### Q13. A population has a mean of 60 and a standard deviation of 8. A sample of 50 observations has a mean of 65. Calculate the 90% confidence interval for the true population mean."
   ]
  },
  {
   "cell_type": "markdown",
   "id": "db5bd786-ebcc-4aa0-ac8a-03e2371eaaea",
   "metadata": {},
   "source": [
    "To calculate the 90% confidence interval for the true population mean, we can use the following formula:\n",
    "\n",
    "Confidence interval = sample mean ± (z-score) * (standard deviation / sqrt(sample size))\n",
    "\n",
    "where the z-score is the critical value of the standard normal distribution corresponding to the confidence level of 90%. We can find this value using a table or calculator, and for a 90% confidence level, the z-score is approximately 1.645.\n",
    "\n",
    "Substituting the given values, we get:\n",
    "\n",
    "Confidence interval = 65 ± (1.645) * (8 / sqrt(50))\n",
    "= 65 ± 2.32\n",
    "\n",
    "Therefore, the 90% confidence interval for the true population mean is (62.68, 67.32).\n",
    "\n",
    "Interpretation: We can be 90% confident that the true population mean lies between 62.68 and 67.32. This means that if we were to repeat the sampling process and construct a 90% confidence interval each time, we would expect 90% of these intervals to contain the true population mean.\n",
    "\n",
    "\n",
    "\n"
   ]
  },
  {
   "cell_type": "markdown",
   "id": "acdeea52-e6f7-482a-ae35-d218a16f1b38",
   "metadata": {},
   "source": [
    "### Q14. In a study of the effects of caffeine on reaction time, a sample of 30 participants had an average reaction time of 0.25 seconds with a standard deviation of 0.05 seconds. Conduct a hypothesis test to determine if the caffeine has a significant effect on reaction time at a 90% confidence level using a t-test."
   ]
  },
  {
   "cell_type": "markdown",
   "id": "da23b039-a314-411c-afc3-810de3c75651",
   "metadata": {},
   "source": [
    "To test whether caffeine has a significant effect on reaction time, we can use a two-tailed t-test with the following null and alternative hypotheses:\n",
    "\n",
    "H0: µ = µ0 (Caffeine has no effect on reaction time, i.e., the population mean reaction time is equal to a specified value µ0)\n",
    "Ha: µ ≠ µ0 (Caffeine has a significant effect on reaction time, i.e., the population mean reaction time is not equal to µ0)\n",
    "\n",
    "We will use a significance level of 0.10, which corresponds to a 90% confidence level.\n",
    "\n",
    "To calculate the t-statistic, we first need to calculate the standard error of the mean, which is given by:\n",
    "\n",
    "standard error = standard deviation / sqrt(sample size) = 0.05 / sqrt(30) = 0.0091\n",
    "\n",
    "The t-statistic is then given by:\n",
    "\n",
    "t = (sample mean - hypothesized mean) / standard error = (0.25 - µ0) / 0.0091\n",
    "\n",
    "To determine whether to reject or fail to reject the null hypothesis, we need to compare the t-statistic to the critical t-value from the t-distribution with n-1 degrees of freedom (where n is the sample size). For a two-tailed test with a significance level of 0.10 and 29 degrees of freedom, the critical t-value is approximately ±1.699.\n",
    "\n",
    "If the absolute value of the calculated t-statistic is greater than the critical t-value, we reject the null hypothesis and conclude that caffeine has a significant effect on reaction time. Otherwise, we fail to reject the null hypothesis.\n",
    "\n",
    "Since the alternative hypothesis is two-tailed, we need to check both tails of the t-distribution. For a hypothesized mean of 0 (i.e., no effect of caffeine), the t-statistic is:\n",
    "\n",
    "t = (0.25 - 0) / 0.0091 = 27.47\n",
    "\n",
    "This is much larger than the critical t-value of ±1.699, so we reject the null hypothesis and conclude that caffeine has a significant effect on reaction time.\n",
    "\n",
    "Interpretation: At a 90% confidence level, we can conclude that caffeine has a significant effect on reaction time. The sample data provides strong evidence that the population mean reaction time is different from the hypothesized value of 0. This suggests that caffeine may improve or impair reaction time, depending on the individual and the dosage of caffeine.\n",
    "\n",
    "\n",
    "\n"
   ]
  },
  {
   "cell_type": "code",
   "execution_count": null,
   "id": "bf100f71-ea29-4b1b-8bbc-23f044ace827",
   "metadata": {},
   "outputs": [],
   "source": []
  }
 ],
 "metadata": {
  "kernelspec": {
   "display_name": "Python 3 (ipykernel)",
   "language": "python",
   "name": "python3"
  },
  "language_info": {
   "codemirror_mode": {
    "name": "ipython",
    "version": 3
   },
   "file_extension": ".py",
   "mimetype": "text/x-python",
   "name": "python",
   "nbconvert_exporter": "python",
   "pygments_lexer": "ipython3",
   "version": "3.10.8"
  }
 },
 "nbformat": 4,
 "nbformat_minor": 5
}
