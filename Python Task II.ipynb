{
 "cells": [
  {
   "cell_type": "markdown",
   "id": "e38eb567-4d89-4836-b393-fe06cb41e280",
   "metadata": {},
   "source": [
    "### You are writing code for a company. The requirement of the company is that you create a python function that will check whether the password entered by the user is correct or not. The function should take the password as input and return the string “Valid Password” if the entered password follows the below-given password guidelines else it should return “Invalid Password”.\n",
    "\n",
    "#### Note: 1. The Password should contain at least two uppercase letters and at least two lowercase letters.\n",
    "####       2. The Password should contain at least a number and three special characters.\n",
    "####       3. The length of the password should be 10 characters long."
   ]
  },
  {
   "cell_type": "code",
   "execution_count": 1,
   "id": "b571d1da-6d4b-4f90-b439-3fcda7a6c74c",
   "metadata": {},
   "outputs": [],
   "source": [
    "import re\n",
    "\n",
    "def check_password(password):\n",
    "    # Check length of password\n",
    "    if len(password) != 10:\n",
    "        return \"Invalid Password\"\n",
    "    \n",
    "    # Check for uppercase letters\n",
    "    if len(re.findall(r'[A-Z]', password)) < 2:\n",
    "        return \"Invalid Password\"\n",
    "    \n",
    "    # Check for lowercase letters\n",
    "    if len(re.findall(r'[a-z]', password)) < 2:\n",
    "        return \"Invalid Password\"\n",
    "    \n",
    "    # Check for numbers\n",
    "    if len(re.findall(r'[0-9]', password)) < 1:\n",
    "        return \"Invalid Password\"\n",
    "    \n",
    "    # Check for special characters\n",
    "    if len(re.findall(r'[!@#$%^&*(),.?\":{}|<>]', password)) < 3:\n",
    "        return \"Invalid Password\"\n",
    "    \n",
    "    # If all checks pass, return \"Valid Password\"\n",
    "    return \"Valid Password\""
   ]
  },
  {
   "cell_type": "code",
   "execution_count": 8,
   "id": "f7a7030e-933a-4790-b0a2-921478c7defc",
   "metadata": {},
   "outputs": [
    {
     "name": "stdin",
     "output_type": "stream",
     "text": [
      "Enter password:  CarpeDiem002@#$%\n"
     ]
    },
    {
     "name": "stdout",
     "output_type": "stream",
     "text": [
      "Invalid Password\n"
     ]
    }
   ],
   "source": [
    "password = input(\"Enter password: \")\n",
    "result = check_password(password)\n",
    "print(result)"
   ]
  },
  {
   "cell_type": "markdown",
   "id": "a02dd187-d1e3-47f7-a96e-e5b092283208",
   "metadata": {},
   "source": [
    "This function uses regular expressions (regex) to check if the password meets the given guidelines. The re.findall() function is used to count the number of occurrences of uppercase letters, lowercase letters, numbers, and special characters in the password. The if statements check if the password meets each of the requirements and return \"Invalid Password\" if any of the requirements are not met. If all requirements are met, the function returns \"Valid Password\"."
   ]
  },
  {
   "cell_type": "markdown",
   "id": "7a4f1daf-38af-498d-bbf3-bae18492bbfc",
   "metadata": {},
   "source": [
    "### Q2. Solve the below-given questions using at least one of the following:\n",
    "\n",
    "#### 1. Lambda function\n",
    "#### 2. Filter function\n",
    "#### 3. Map function\n",
    "#### 4. List Comprehension"
   ]
  },
  {
   "cell_type": "markdown",
   "id": "03ac66b2-3362-4950-8561-0e0e0b038824",
   "metadata": {},
   "source": [
    "Check if the string starts with a particular letter"
   ]
  },
  {
   "cell_type": "code",
   "execution_count": 9,
   "id": "a0e6835a-38d3-4848-867c-840b6267518c",
   "metadata": {},
   "outputs": [
    {
     "name": "stdout",
     "output_type": "stream",
     "text": [
      "String starts with 'h'\n"
     ]
    }
   ],
   "source": [
    "starts_with = lambda x, letter: True if x.startswith(letter) else False\n",
    "\n",
    "string = \"hello world\"\n",
    "if starts_with(string, \"h\"):\n",
    "    print(\"String starts with 'h'\")\n",
    "else:\n",
    "    print(\"String does not start with 'h'\")"
   ]
  },
  {
   "cell_type": "markdown",
   "id": "df5d5f1f-6b70-45a0-be70-ce4d1d65bb7c",
   "metadata": {},
   "source": [
    "'starts_with' is a lambda function that takes two arguments: x, which is the string to check, and letter, which is the letter to check for. The function returns True if the string starts with the given letter, and False otherwise.\n",
    "\n",
    "The code then uses the lambda function to check if the string \"hello world\" starts with the letter \"h\". If the string starts with \"h\", the code prints \"String starts with 'h'\". If the string does not start with \"h\", the code prints \"String does not start with 'h'\"."
   ]
  },
  {
   "cell_type": "markdown",
   "id": "2605cff2-e1ef-4a08-8590-f5451ecafc17",
   "metadata": {},
   "source": [
    "Check if the string is numeric"
   ]
  },
  {
   "cell_type": "code",
   "execution_count": 10,
   "id": "44f9432e-d468-4d62-900b-d23895d88150",
   "metadata": {},
   "outputs": [
    {
     "name": "stdout",
     "output_type": "stream",
     "text": [
      "String is numeric\n"
     ]
    }
   ],
   "source": [
    "string = \"12345\"\n",
    "numeric_chars = list(filter(lambda x: x.isdigit(), string))\n",
    "if len(numeric_chars) == len(string):\n",
    "    print(\"String is numeric\")\n",
    "else:\n",
    "    print(\"String is not numeric\")"
   ]
  },
  {
   "cell_type": "markdown",
   "id": "a10b8274-9f26-4f6b-88e6-271628037acd",
   "metadata": {},
   "source": [
    "The filter() function filters the string string and returns a list of characters that are numeric (i.e., the isdigit() method returns True). The list() function is used to convert the filter object to a list.\n",
    "\n",
    "The code then checks if the length of the filtered list (numeric_chars) is equal to the length of the original string (string). If the lengths are equal, it means that all the characters in the string are numeric, and the code prints \"String is numeric\". If the lengths are not equal, it means that the string contains non-numeric characters, and the code prints \"String is not numeric\"."
   ]
  },
  {
   "cell_type": "markdown",
   "id": "bb3c7a68-8328-479b-b132-45a31397ccf0",
   "metadata": {},
   "source": [
    "Sort a list of tuples having fruit names and their quantity. [(\"mango\",99),(\"orange\",80), (\"grapes\", 1000)]"
   ]
  },
  {
   "cell_type": "code",
   "execution_count": 11,
   "id": "a7d7b9a8-61dc-49a6-aa9c-737441f3974d",
   "metadata": {},
   "outputs": [
    {
     "name": "stdout",
     "output_type": "stream",
     "text": [
      "[('orange', 80), ('mango', 99), ('grapes', 1000)]\n"
     ]
    }
   ],
   "source": [
    "fruits = [(\"mango\", 99), (\"orange\", 80), (\"grapes\", 1000)]\n",
    "\n",
    "sorted_fruits = sorted(fruits, key=lambda x: x[1])\n",
    "\n",
    "print(sorted_fruits)"
   ]
  },
  {
   "cell_type": "markdown",
   "id": "d7e9bf18-ff8a-4c3f-9654-655be77baae2",
   "metadata": {},
   "source": [
    "The sorted() function takes the fruits list as input and sorts it based on the second element of each tuple (i.e., the quantity). The key argument specifies the sorting criteria using a lambda function that returns the second element of each tuple. The sorted list is then assigned to the sorted_fruits variable and printed using the print() function"
   ]
  },
  {
   "cell_type": "markdown",
   "id": "eed2cbb7-84ea-4e82-834b-5db52de35e0b",
   "metadata": {},
   "source": [
    "Find the squares of numbers from 1 to 10"
   ]
  },
  {
   "cell_type": "code",
   "execution_count": 12,
   "id": "838cb339-233a-4f28-a6e1-8c0c92826d93",
   "metadata": {},
   "outputs": [
    {
     "name": "stdout",
     "output_type": "stream",
     "text": [
      "[1, 4, 9, 16, 25, 36, 49, 64, 81, 100]\n"
     ]
    }
   ],
   "source": [
    "squares = [x**2 for x in range(1, 11)]\n",
    "print(squares)"
   ]
  },
  {
   "cell_type": "markdown",
   "id": "48fd19ae-ac9a-4d6e-b332-1c4173afce17",
   "metadata": {},
   "source": [
    "We are using a list comprehension to generate the list of squares. The range() function is used to generate the numbers from 1 to 10. The list comprehension syntax [x**2 for x in range(1, 11)] means that for each element x in the range 1 to 10, we compute its square x**2 and add it to the list of squares. The resulting list of squares is then printed using the print() function."
   ]
  },
  {
   "cell_type": "markdown",
   "id": "1333bbb1-24f3-4139-b55f-8473762bbc78",
   "metadata": {},
   "source": [
    "Find the cube root of numbers from 1 to 10"
   ]
  },
  {
   "cell_type": "code",
   "execution_count": 13,
   "id": "df3573d8-14b7-43e8-86ee-c55e23e38482",
   "metadata": {},
   "outputs": [
    {
     "name": "stdout",
     "output_type": "stream",
     "text": [
      "[1.0, 1.2599210498948732, 1.4422495703074083, 1.5874010519681994, 1.7099759466766968, 1.8171205928321397, 1.912931182772389, 2.0, 2.080083823051904, 2.154434690031884]\n"
     ]
    }
   ],
   "source": [
    "cube_root = lambda x: x**(1/3)\n",
    "result = [cube_root(x) for x in range(1, 11)]\n",
    "print(result)"
   ]
  },
  {
   "cell_type": "markdown",
   "id": "510593b1-4e91-449b-93bb-7437e3dd2415",
   "metadata": {},
   "source": [
    "We are defining a lambda function cube_root which takes one argument x and returns its cube root x**(1/3). We then use a list comprehension to apply this lambda function to the numbers from 1 to 10 and generate a list of cube roots. The resulting list of cube roots is then printed using the print() function."
   ]
  },
  {
   "cell_type": "markdown",
   "id": "9a347127-a8da-48b3-b79d-c3adf26dceb7",
   "metadata": {},
   "source": [
    "Check if a given number is even"
   ]
  },
  {
   "cell_type": "code",
   "execution_count": 17,
   "id": "8e123521-4b8e-4987-9e75-c6ff35bfbdbc",
   "metadata": {},
   "outputs": [
    {
     "name": "stdout",
     "output_type": "stream",
     "text": [
      "True\n",
      "False\n"
     ]
    }
   ],
   "source": [
    "is_even = lambda num: num % 2 == 0\n",
    "\n",
    "print(is_even(10))\n",
    "print(is_even(7))"
   ]
  },
  {
   "cell_type": "markdown",
   "id": "f1b850a3-42b7-4c33-bb45-0676028344a5",
   "metadata": {},
   "source": [
    "Here, the lambda function takes one argument num and returns True if num % 2 == 0 and False otherwise. We can then call this lambda function with a number to check if it is even or odd."
   ]
  },
  {
   "cell_type": "markdown",
   "id": "8b21996f-8f29-4faf-b481-3e99a98b0cbf",
   "metadata": {},
   "source": [
    "Filter odd numbers from the given list: \n",
    "[1,2,3,4,5,6,7,8,9,10]"
   ]
  },
  {
   "cell_type": "code",
   "execution_count": 19,
   "id": "5d564a1c-2aa5-4186-a4bd-8c835183c4ff",
   "metadata": {},
   "outputs": [
    {
     "name": "stdout",
     "output_type": "stream",
     "text": [
      "[1, 3, 5, 7, 9]\n"
     ]
    }
   ],
   "source": [
    "my_list = [1, 2, 3, 4, 5, 6, 7, 8, 9, 10]\n",
    "\n",
    "odd_numbers = list(filter(lambda x: x % 2 != 0, my_list))\n",
    "\n",
    "print(odd_numbers)  # Output: [1, 3, 5, 7, 9]"
   ]
  },
  {
   "cell_type": "markdown",
   "id": "b0b2c02c-70e1-4f38-b29f-44715a5295e2",
   "metadata": {},
   "source": [
    "Sort a list of integers into positive and negative integers lists: \n",
    "[1,2,3,4,5,6,-1,-2,-3,-4,-5,0]"
   ]
  },
  {
   "cell_type": "code",
   "execution_count": 21,
   "id": "8d29019d-595c-4650-b7af-d841ecf0a5ba",
   "metadata": {},
   "outputs": [],
   "source": [
    "my_list = [1,2,3,4,5,6,-1,-2,-3,-4,-5,0]\n",
    "\n",
    "positive_int = list(filter(lambda x: x>0, my_list))\n",
    "negative_int = list(filter(lambda x: x<0, my_list))"
   ]
  },
  {
   "cell_type": "code",
   "execution_count": 22,
   "id": "07cc430e-77c3-4f5d-9bfa-06bd5c9caaae",
   "metadata": {},
   "outputs": [
    {
     "name": "stdout",
     "output_type": "stream",
     "text": [
      "[1, 2, 3, 4, 5, 6]\n",
      "[-1, -2, -3, -4, -5]\n"
     ]
    }
   ],
   "source": [
    "print(positive_int)\n",
    "print(negative_int)"
   ]
  },
  {
   "cell_type": "code",
   "execution_count": null,
   "id": "1dbbbee3-894a-4c33-879b-fe25c3fc5429",
   "metadata": {},
   "outputs": [],
   "source": []
  }
 ],
 "metadata": {
  "kernelspec": {
   "display_name": "Python 3 (ipykernel)",
   "language": "python",
   "name": "python3"
  },
  "language_info": {
   "codemirror_mode": {
    "name": "ipython",
    "version": 3
   },
   "file_extension": ".py",
   "mimetype": "text/x-python",
   "name": "python",
   "nbconvert_exporter": "python",
   "pygments_lexer": "ipython3",
   "version": "3.10.8"
  }
 },
 "nbformat": 4,
 "nbformat_minor": 5
}
