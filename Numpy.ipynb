{
 "cells": [
  {
   "cell_type": "markdown",
   "id": "41dae259-d12e-4fed-8e26-eb485d21d8f5",
   "metadata": {},
   "source": [
    "### Consider the below code to answer further questions:\n",
    "\n",
    "#### import numpy as np\n",
    "#### list_ = [ ‘1’ , ’2’ , ‘3’ , ‘4’ , ‘5’ ]\n",
    "#### array_list = np.array(object = list_)"
   ]
  },
  {
   "cell_type": "markdown",
   "id": "41da96c3-8930-43fa-8345-6bd5103b6372",
   "metadata": {},
   "source": [
    "### Q1. Is there any difference in the data type of variables list_ and array_list? If there is then write a code to print the data types of both the variables."
   ]
  },
  {
   "cell_type": "code",
   "execution_count": null,
   "id": "b7265a19-2181-481e-a135-4910f9fce12f",
   "metadata": {},
   "outputs": [],
   "source": [
    "import numpy as np"
   ]
  },
  {
   "cell_type": "code",
   "execution_count": null,
   "id": "785a8eac-83a8-431e-bbcc-ec8ffe65de9a",
   "metadata": {},
   "outputs": [],
   "source": [
    "list_ = [ '1', '2', '3', '4', '5']\n",
    "array_list = np.array(object = list_)"
   ]
  },
  {
   "cell_type": "code",
   "execution_count": null,
   "id": "92adb429-dde8-4ff4-934c-5d348b1e7e03",
   "metadata": {},
   "outputs": [],
   "source": [
    "type(list_)"
   ]
  },
  {
   "cell_type": "code",
   "execution_count": 10,
   "id": "6e51763c-8cc0-4978-97b9-abe37f35b833",
   "metadata": {},
   "outputs": [
    {
     "data": {
      "text/plain": [
       "numpy.ndarray"
      ]
     },
     "execution_count": 10,
     "metadata": {},
     "output_type": "execute_result"
    }
   ],
   "source": [
    "type(array_list)"
   ]
  },
  {
   "cell_type": "markdown",
   "id": "50815e4e-469d-4fb3-8386-f118b382005d",
   "metadata": {},
   "source": [
    "Yes, the datatypes of variables list_ and array_list are different.\n",
    "\n",
    "list_ is a variable of datatype 'list' and array_list is a variable of datatype numpy array (2D)"
   ]
  },
  {
   "cell_type": "markdown",
   "id": "3ec79999-ab9e-4b08-8d33-a541f01248bb",
   "metadata": {},
   "source": [
    "### Q2. Write a code to print the data type of each and every element of both the variables list_ and array_list."
   ]
  },
  {
   "cell_type": "code",
   "execution_count": 14,
   "id": "6ff80e01-9e5d-43e6-b5ef-8637252f25bc",
   "metadata": {},
   "outputs": [
    {
     "name": "stdout",
     "output_type": "stream",
     "text": [
      "<class 'str'>\n",
      "<class 'str'>\n",
      "<class 'str'>\n",
      "<class 'str'>\n",
      "<class 'str'>\n"
     ]
    }
   ],
   "source": [
    "# Datatype of each element of the variable list_\n",
    "for i in list_:\n",
    "    print (type(i))"
   ]
  },
  {
   "cell_type": "code",
   "execution_count": 15,
   "id": "786146a5-1e83-4b89-b6dc-f4ca22f69bf2",
   "metadata": {},
   "outputs": [
    {
     "name": "stdout",
     "output_type": "stream",
     "text": [
      "<class 'numpy.str_'>\n",
      "<class 'numpy.str_'>\n",
      "<class 'numpy.str_'>\n",
      "<class 'numpy.str_'>\n",
      "<class 'numpy.str_'>\n"
     ]
    }
   ],
   "source": [
    "# Datatype of each element of the variable array_list\n",
    "for arr in array_list:\n",
    "    print (type(arr))"
   ]
  },
  {
   "cell_type": "markdown",
   "id": "81bb82e4-1540-43e5-b5f4-83f858880de6",
   "metadata": {},
   "source": [
    "### Q3.Considering the following changes in the variable, array_list:\n",
    "#### array_list = np.array(object = list_, dtype = int)\n",
    "\n",
    "#### Will there be any difference in the data type of the elements present in both the variables, list_ and\n",
    "#### array_list? If so then print the data types of each and every element present in both the variables, list_\n",
    "#### and array_list."
   ]
  },
  {
   "cell_type": "code",
   "execution_count": 16,
   "id": "e1eea2f0-976f-4d13-8a4f-c1c470ea1a2e",
   "metadata": {},
   "outputs": [],
   "source": [
    "array_list = np.array(object = list_, dtype = int)"
   ]
  },
  {
   "cell_type": "code",
   "execution_count": 17,
   "id": "a46d9b11-61ab-4612-b311-20b0c8a2d25d",
   "metadata": {},
   "outputs": [
    {
     "data": {
      "text/plain": [
       "numpy.ndarray"
      ]
     },
     "execution_count": 17,
     "metadata": {},
     "output_type": "execute_result"
    }
   ],
   "source": [
    "type(array_list)"
   ]
  },
  {
   "cell_type": "code",
   "execution_count": 18,
   "id": "3c5e534c-46bf-4e73-913b-dd08e3239a20",
   "metadata": {},
   "outputs": [
    {
     "data": {
      "text/plain": [
       "list"
      ]
     },
     "execution_count": 18,
     "metadata": {},
     "output_type": "execute_result"
    }
   ],
   "source": [
    "type(list_)"
   ]
  },
  {
   "cell_type": "code",
   "execution_count": 19,
   "id": "74a02b2a-fe65-4f77-97e0-00fcfee49c1c",
   "metadata": {},
   "outputs": [
    {
     "name": "stdout",
     "output_type": "stream",
     "text": [
      "<class 'str'>\n",
      "<class 'str'>\n",
      "<class 'str'>\n",
      "<class 'str'>\n",
      "<class 'str'>\n"
     ]
    }
   ],
   "source": [
    "# Datatype of each element of the variable list_\n",
    "for i in list_:\n",
    "    print (type(i))"
   ]
  },
  {
   "cell_type": "code",
   "execution_count": 20,
   "id": "44a72d39-910a-46bf-a299-f411299774dc",
   "metadata": {},
   "outputs": [
    {
     "name": "stdout",
     "output_type": "stream",
     "text": [
      "<class 'numpy.int64'>\n",
      "<class 'numpy.int64'>\n",
      "<class 'numpy.int64'>\n",
      "<class 'numpy.int64'>\n",
      "<class 'numpy.int64'>\n"
     ]
    }
   ],
   "source": [
    "# Datatype of each element of the variable array_list\n",
    "for arr in array_list:\n",
    "    print (type(arr))"
   ]
  },
  {
   "cell_type": "markdown",
   "id": "dcdf62f2-61e2-4862-a392-73747af4d1ef",
   "metadata": {},
   "source": [
    "Yes, there is a difference in each and every elements of the variable array_list.\n",
    "Previously, the datatype of every element of array_list was 'numpy.str_'\n",
    "\n",
    "But post changes in the variable, array_list, the datatype of every element in the variable now becomes 'numpy.int64'"
   ]
  },
  {
   "cell_type": "markdown",
   "id": "95654c9b-1af5-49f8-a08c-78ecc4d7e031",
   "metadata": {},
   "source": [
    "### Consider the below code to answer further questions:\n",
    "\n",
    "#### import numpy as np\n",
    "#### num_list = [ [ 1 , 2 , 3 ] , [ 4 , 5 , 6 ] ]\n",
    "#### num_array = np.array(object = num_list)"
   ]
  },
  {
   "cell_type": "markdown",
   "id": "0350c95a-6e2b-4985-b507-327d27a9cb66",
   "metadata": {},
   "source": [
    "### Q4. Write a code to find the following characteristics of variable, num_array:\n",
    "(i) shape\n",
    "(ii) size"
   ]
  },
  {
   "cell_type": "code",
   "execution_count": 22,
   "id": "abb7f428-2ad7-47ab-b429-99e04226b758",
   "metadata": {},
   "outputs": [],
   "source": [
    "import numpy as np"
   ]
  },
  {
   "cell_type": "code",
   "execution_count": 23,
   "id": "00196881-be34-436a-b57f-9ae12227f2ab",
   "metadata": {},
   "outputs": [],
   "source": [
    "num_list = [[1,2,3],[4,5,6]]\n",
    "num_array = np.array(object = num_list)"
   ]
  },
  {
   "cell_type": "code",
   "execution_count": 26,
   "id": "5839a906-5d15-4399-94c5-7fbdebd0e951",
   "metadata": {},
   "outputs": [
    {
     "name": "stdout",
     "output_type": "stream",
     "text": [
      "[[1 2 3]\n",
      " [4 5 6]]\n"
     ]
    }
   ],
   "source": [
    "print(num_array)"
   ]
  },
  {
   "cell_type": "code",
   "execution_count": 24,
   "id": "04cb8162-7bcd-49cf-8b84-366e10612bab",
   "metadata": {},
   "outputs": [
    {
     "data": {
      "text/plain": [
       "(2, 3)"
      ]
     },
     "execution_count": 24,
     "metadata": {},
     "output_type": "execute_result"
    }
   ],
   "source": [
    "num_array.shape"
   ]
  },
  {
   "cell_type": "code",
   "execution_count": 25,
   "id": "6cb23897-247a-4727-aaef-03de9b076d6a",
   "metadata": {},
   "outputs": [
    {
     "data": {
      "text/plain": [
       "6"
      ]
     },
     "execution_count": 25,
     "metadata": {},
     "output_type": "execute_result"
    }
   ],
   "source": [
    "num_array.size"
   ]
  },
  {
   "cell_type": "markdown",
   "id": "e2fde2df-3ded-46d6-a3f8-499dae86455a",
   "metadata": {},
   "source": [
    "### Q5. Write a code to create numpy array of 3*3 matrix containing zeros only, using a numpy array creation function."
   ]
  },
  {
   "cell_type": "code",
   "execution_count": 27,
   "id": "93a376ee-6d53-4d26-9983-2a984f390f43",
   "metadata": {},
   "outputs": [],
   "source": [
    "import numpy as np\n",
    "\n",
    "# create a 3x3 matrix filled with zeros\n",
    "matrix = np.zeros((3,3))"
   ]
  },
  {
   "cell_type": "code",
   "execution_count": 28,
   "id": "42639f1f-14bd-4740-b10f-adbbf5c1ce6d",
   "metadata": {},
   "outputs": [
    {
     "data": {
      "text/plain": [
       "array([[0., 0., 0.],\n",
       "       [0., 0., 0.],\n",
       "       [0., 0., 0.]])"
      ]
     },
     "execution_count": 28,
     "metadata": {},
     "output_type": "execute_result"
    }
   ],
   "source": [
    "matrix"
   ]
  },
  {
   "cell_type": "markdown",
   "id": "10e6c94a-29b4-44a8-a7ed-e5ab9ee150f2",
   "metadata": {},
   "source": [
    "### Q6. Create an identity matrix of shape (5,5) using numpy functions?"
   ]
  },
  {
   "cell_type": "code",
   "execution_count": 29,
   "id": "592ae299-563b-4a4c-b275-753a1aa0f609",
   "metadata": {},
   "outputs": [],
   "source": [
    "import numpy as np\n",
    "\n",
    "# create a 5x5 identity matrix\n",
    "matrix = np.identity(5)"
   ]
  },
  {
   "cell_type": "code",
   "execution_count": 30,
   "id": "5f5ce4d7-90f8-4c62-b0e4-9a484c569d8d",
   "metadata": {},
   "outputs": [
    {
     "data": {
      "text/plain": [
       "array([[1., 0., 0., 0., 0.],\n",
       "       [0., 1., 0., 0., 0.],\n",
       "       [0., 0., 1., 0., 0.],\n",
       "       [0., 0., 0., 1., 0.],\n",
       "       [0., 0., 0., 0., 1.]])"
      ]
     },
     "execution_count": 30,
     "metadata": {},
     "output_type": "execute_result"
    }
   ],
   "source": [
    "matrix"
   ]
  },
  {
   "cell_type": "code",
   "execution_count": null,
   "id": "39a7846d-c6f1-4a86-8b97-8e5038d7035e",
   "metadata": {},
   "outputs": [],
   "source": []
  }
 ],
 "metadata": {
  "kernelspec": {
   "display_name": "Python 3 (ipykernel)",
   "language": "python",
   "name": "python3"
  },
  "language_info": {
   "codemirror_mode": {
    "name": "ipython",
    "version": 3
   },
   "file_extension": ".py",
   "mimetype": "text/x-python",
   "name": "python",
   "nbconvert_exporter": "python",
   "pygments_lexer": "ipython3",
   "version": "3.10.8"
  }
 },
 "nbformat": 4,
 "nbformat_minor": 5
}
