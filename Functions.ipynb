{
 "cells": [
  {
   "cell_type": "markdown",
   "id": "d472d269-bfb4-457e-a81e-60393a6697d5",
   "metadata": {},
   "source": [
    "### Q1. Which keyword is used to create a function? Create a function to return a list of odd numbers in the range of 1 to 25."
   ]
  },
  {
   "cell_type": "markdown",
   "id": "c3af4ae4-591c-4f4f-95a4-2cfaf38508f7",
   "metadata": {},
   "source": [
    "The def keyword is used to create a function in Python."
   ]
  },
  {
   "cell_type": "markdown",
   "id": "5adec7e7-6990-4edc-8d1c-0ceb47c76377",
   "metadata": {},
   "source": [
    "Example"
   ]
  },
  {
   "cell_type": "code",
   "execution_count": 1,
   "id": "8c41e2b3-35c1-4e1b-bb42-796e87186c3e",
   "metadata": {},
   "outputs": [],
   "source": [
    "def get_odd_numbers():\n",
    "    odd_numbers = []\n",
    "    for num in range(1, 26):\n",
    "        if num % 2 != 0:\n",
    "            odd_numbers.append(num)\n",
    "    return odd_numbers"
   ]
  },
  {
   "cell_type": "code",
   "execution_count": 2,
   "id": "bb979370-3c8d-4632-9c9e-daff0efe4b4e",
   "metadata": {},
   "outputs": [
    {
     "name": "stdout",
     "output_type": "stream",
     "text": [
      "[1, 3, 5, 7, 9, 11, 13, 15, 17, 19, 21, 23, 25]\n"
     ]
    }
   ],
   "source": [
    "odd_numbers_list = get_odd_numbers()\n",
    "print(odd_numbers_list)"
   ]
  },
  {
   "cell_type": "markdown",
   "id": "28b8992e-9264-43ac-87a7-b671eb475bd3",
   "metadata": {},
   "source": [
    "### Q2. Why *args and **kwargs is used in some functions? Create a function each for *args and **kwargs to demonstrate their use."
   ]
  },
  {
   "cell_type": "markdown",
   "id": "6caf430f-cae7-4746-a7b1-55b04d41e796",
   "metadata": {},
   "source": [
    "'*args' and '**kwargs' are used in some functions when we need to pass a variable number of arguments to the function."
   ]
  },
  {
   "cell_type": "markdown",
   "id": "3cdd380f-5781-49bc-a782-1aa28b2053c9",
   "metadata": {},
   "source": [
    "'*args*' is used when we want to pass a variable number of non-keyworded arguments to the function. We can use '*args*' when we don't know how many arguments we will need to pass."
   ]
  },
  {
   "cell_type": "code",
   "execution_count": 4,
   "id": "a118d1cf-0b38-4c44-b325-1b4b5e2ce21a",
   "metadata": {},
   "outputs": [],
   "source": [
    "def sum_numbers(*args):\n",
    "    total = 0\n",
    "    for num in args:\n",
    "        total += num\n",
    "    return total"
   ]
  },
  {
   "cell_type": "markdown",
   "id": "1975fd1c-376a-4971-bbfb-4baf7fbaa031",
   "metadata": {},
   "source": [
    "'*args' is used to allow any number of arguments to be passed to the function. We then use a for loop to iterate over the args tuple and add each number to the total variable. Finally, we return the total sum of all the numbers."
   ]
  },
  {
   "cell_type": "code",
   "execution_count": 6,
   "id": "3c2a8e0b-0bbc-45a2-b201-e45bca4ba08a",
   "metadata": {},
   "outputs": [
    {
     "name": "stdout",
     "output_type": "stream",
     "text": [
      "15\n"
     ]
    }
   ],
   "source": [
    "total_sum = sum_numbers(1, 2, 3, 4, 5)\n",
    "print(total_sum)"
   ]
  },
  {
   "cell_type": "code",
   "execution_count": 7,
   "id": "d729d800-342d-4618-8110-be068eb648b0",
   "metadata": {},
   "outputs": [],
   "source": [
    "def print_kwargs(**kwargs):\n",
    "    for key, value in kwargs.items():\n",
    "        print(key + \" = \" + str(value))"
   ]
  },
  {
   "cell_type": "markdown",
   "id": "ab50fe68-9401-4a73-afc7-e0c3117eb2b9",
   "metadata": {},
   "source": [
    "'**kwargs' is used to allow any number of keyword arguments to be passed to the function. We then use a for loop to iterate over the kwargs dictionary and print out each key-value pair."
   ]
  },
  {
   "cell_type": "code",
   "execution_count": 8,
   "id": "60b7a1cb-6cc8-468e-932e-c2ab487566e6",
   "metadata": {},
   "outputs": [
    {
     "name": "stdout",
     "output_type": "stream",
     "text": [
      "name = John\n",
      "age = 25\n",
      "city = New York\n"
     ]
    }
   ],
   "source": [
    "print_kwargs(name='John', age=25, city='New York')"
   ]
  },
  {
   "cell_type": "markdown",
   "id": "11fddbc9-775d-43ef-8b73-b60a75dcbf24",
   "metadata": {},
   "source": [
    "In this example, we are passing three keyword arguments (name, age, and city) to the function using **kwargs. The function then prints out the key-value pairs of all the keyword arguments."
   ]
  },
  {
   "cell_type": "markdown",
   "id": "f9b3d18d-ac53-4163-bfc0-9d332ab02e4a",
   "metadata": {},
   "source": [
    "### Q3. What is an iterator in python? Name the method used to initialise the iterator object and the methodused for iteration. \n",
    "\n",
    "### Use these methods to print the first five elements of the given list \n",
    "\n",
    "### [2, 4, 6, 8, 10, 12, 14, 16, 18, 20]."
   ]
  },
  {
   "cell_type": "markdown",
   "id": "e7b34848-7d02-4d59-a579-4d82f2e6fbd6",
   "metadata": {},
   "source": [
    "An iterator in Python is an object that can be iterated upon, meaning that it can be used in a for loop. It returns data, one item at a time, when iterated over.\n",
    "\n",
    "The method used to initialize an iterator object is iter(), which takes an iterable object as its argument and returns an iterator object. The method used for iteration is next(), which returns the next item in the iterator."
   ]
  },
  {
   "cell_type": "markdown",
   "id": "5ef24361-80fb-4932-ac85-407e56623f31",
   "metadata": {},
   "source": [
    "Example"
   ]
  },
  {
   "cell_type": "code",
   "execution_count": 10,
   "id": "4a13eda3-cab7-4dc2-b5bd-b5d72f6b927e",
   "metadata": {},
   "outputs": [
    {
     "name": "stdout",
     "output_type": "stream",
     "text": [
      "2\n",
      "4\n",
      "6\n",
      "8\n",
      "10\n"
     ]
    }
   ],
   "source": [
    "lst = [2, 4, 6, 8, 10, 12, 14, 16, 18, 20]\n",
    "iter_obj = iter(lst)\n",
    "\n",
    "for i in range(5):\n",
    "    print(next(iter_obj))"
   ]
  },
  {
   "cell_type": "markdown",
   "id": "94799cde-4a89-4ae4-8319-d24f403dffa1",
   "metadata": {},
   "source": [
    "We first create a list lst and then initialize an iterator object iter_obj using the iter() method. We then use a for loop to iterate over the first five items in the iterator using the next() method and print them one by one."
   ]
  },
  {
   "cell_type": "markdown",
   "id": "7086c86a-25d0-43f1-aeed-8ee3f56628ee",
   "metadata": {},
   "source": [
    "### Q4. What is a generator function in python? Why yield keyword is used? Give an example of a generator function."
   ]
  },
  {
   "cell_type": "markdown",
   "id": "1facc4c3-2208-492d-8bc2-7d65ec86040b",
   "metadata": {},
   "source": [
    "A generator function is a special type of function that allows us to generate a sequence of values on-the-fly, rather than creating and returning a list of all values at once. It can be thought of as a way to create an iterator in a more concise and elegant way.\n",
    "\n",
    "The yield keyword is used in generator functions to indicate where the function should \"yield\" the next value in the sequence, rather than returning it. When the generator function is called, it returns a generator object, which can be iterated over to get the sequence of values."
   ]
  },
  {
   "cell_type": "markdown",
   "id": "d9f511b6-f3c0-4922-9bd4-65a35eff50e2",
   "metadata": {},
   "source": [
    "Example"
   ]
  },
  {
   "cell_type": "code",
   "execution_count": 12,
   "id": "3b8bbe24-6cc8-4aa1-b9f5-b043b0eca410",
   "metadata": {},
   "outputs": [],
   "source": [
    "def countdown(n):\n",
    "    while n > 0:\n",
    "        yield n\n",
    "        n -= 1"
   ]
  },
  {
   "cell_type": "code",
   "execution_count": 13,
   "id": "4554b8c1-a918-402f-91df-7291c52c66f5",
   "metadata": {},
   "outputs": [
    {
     "data": {
      "text/plain": [
       "<generator object countdown at 0x7f656afeed50>"
      ]
     },
     "execution_count": 13,
     "metadata": {},
     "output_type": "execute_result"
    }
   ],
   "source": [
    "c = countdown(10)\n",
    "c"
   ]
  },
  {
   "cell_type": "code",
   "execution_count": 14,
   "id": "c3acd632-8fbe-43f9-bebb-72ad71608e6c",
   "metadata": {},
   "outputs": [
    {
     "name": "stdout",
     "output_type": "stream",
     "text": [
      "10\n",
      "9\n",
      "8\n",
      "7\n",
      "6\n",
      "5\n",
      "4\n",
      "3\n",
      "2\n",
      "1\n"
     ]
    }
   ],
   "source": [
    "for i in c:\n",
    "    print(i)"
   ]
  },
  {
   "cell_type": "markdown",
   "id": "42cb9922-75fb-47fe-a264-bf122e36bdd1",
   "metadata": {},
   "source": [
    "The countdown function is a generator function that takes an integer n and yields each integer from n down to 1. When we call this function, it returns a generator object:"
   ]
  },
  {
   "cell_type": "markdown",
   "id": "0d11af1b-279a-44f3-a4c4-1a3dddbd9526",
   "metadata": {},
   "source": [
    "We only get one value at a time, and the function is paused at the yield statement until the next value is requested. This allows us to generate a potentially infinite sequence of values without running out of memory, since we only need to store one value at a time.\n",
    "\n",
    "\n",
    "\n",
    "\n"
   ]
  },
  {
   "cell_type": "markdown",
   "id": "3d112b16-493c-4b1a-9f61-b5e7fba9b4fc",
   "metadata": {},
   "source": [
    "### Q5. Create a generator function for prime numbers less than 1000. Use the next() method to print the first 20 prime numbers."
   ]
  },
  {
   "cell_type": "code",
   "execution_count": 15,
   "id": "07770fda-9ee0-4afb-827d-041ec0a71ee1",
   "metadata": {},
   "outputs": [],
   "source": [
    "def primes():\n",
    "    yield 2\n",
    "    primes_list = [2]\n",
    "    n = 3\n",
    "    while n < 1000:\n",
    "        is_prime = True\n",
    "        for prime in primes_list:\n",
    "            if n % prime == 0:\n",
    "                is_prime = False\n",
    "                break\n",
    "        if is_prime:\n",
    "            primes_list.append(n)\n",
    "            yield n\n",
    "        n += 2"
   ]
  },
  {
   "cell_type": "code",
   "execution_count": 16,
   "id": "d519a885-4c50-41a1-a393-8b7a69b17a93",
   "metadata": {},
   "outputs": [
    {
     "name": "stdout",
     "output_type": "stream",
     "text": [
      "2\n",
      "3\n",
      "5\n",
      "7\n",
      "11\n",
      "13\n",
      "17\n",
      "19\n",
      "23\n",
      "29\n",
      "31\n",
      "37\n",
      "41\n",
      "43\n",
      "47\n",
      "53\n",
      "59\n",
      "61\n",
      "67\n",
      "71\n"
     ]
    }
   ],
   "source": [
    "prime_gen = primes()\n",
    "for i in range(20):\n",
    "    print(next(prime_gen))"
   ]
  },
  {
   "cell_type": "markdown",
   "id": "c47db6cc-cd4f-45ad-b254-fede0f3e901b",
   "metadata": {},
   "source": [
    "The primes function starts by yielding the first prime number (2), then it maintains a list of previously generated prime numbers and checks each subsequent odd number to see if it is divisible by any of the primes in the list. If it is not, then it is a prime number and is added to the list and yielded.\n",
    "\n",
    "To print the first 20 prime numbers generated by this function, we can use the next() method to get each successive value from the generator:"
   ]
  },
  {
   "cell_type": "code",
   "execution_count": null,
   "id": "454fbd87-e8b3-42fc-8958-db8d0e50238f",
   "metadata": {},
   "outputs": [],
   "source": []
  }
 ],
 "metadata": {
  "kernelspec": {
   "display_name": "Python 3 (ipykernel)",
   "language": "python",
   "name": "python3"
  },
  "language_info": {
   "codemirror_mode": {
    "name": "ipython",
    "version": 3
   },
   "file_extension": ".py",
   "mimetype": "text/x-python",
   "name": "python",
   "nbconvert_exporter": "python",
   "pygments_lexer": "ipython3",
   "version": "3.10.8"
  }
 },
 "nbformat": 4,
 "nbformat_minor": 5
}
