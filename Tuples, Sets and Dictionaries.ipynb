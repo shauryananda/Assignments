{
 "cells": [
  {
   "cell_type": "markdown",
   "id": "d9a966e6-6883-4b02-896b-64520c5789f7",
   "metadata": {},
   "source": [
    "### Q1. What are the characteristics of the tuples? Is tuple immutable?"
   ]
  },
  {
   "cell_type": "markdown",
   "id": "3c8b0974-ba15-491a-bda7-31114ce5e64b",
   "metadata": {},
   "source": [
    "A tuple is a collection of ordered, immutable elements or items of different types.\n",
    "\n",
    "The main characteristics of tuples are:\n",
    "\n",
    "Ordered: The elements of a tuple are ordered, which means that the position of each element is fixed.\n",
    "\n",
    "Immutable: Tuples are immutable, meaning that once a tuple is created, its elements cannot be changed. If you want to modify a tuple, you need to create a new one.\n",
    "\n",
    "Heterogeneous: Tuples can contain elements of different types. For example, a tuple can have a string, an integer, and a float as its elements.\n",
    "\n",
    "Indexed: Tuples are indexed, which means that each element has a unique index starting from 0."
   ]
  },
  {
   "cell_type": "markdown",
   "id": "5b354907-50d5-4972-a096-006db46bd74b",
   "metadata": {},
   "source": [
    "Tuples are immutable. Once a tuple is created, its elements cannot be modified, added or deleted. However, you can create a new tuple by concatenating two or more tuples together or by slicing a tuple."
   ]
  },
  {
   "cell_type": "markdown",
   "id": "cb892112-a4f1-44c3-9bfb-961857a02d4d",
   "metadata": {},
   "source": [
    "### Q2. What are the two tuple methods in python? Give an example of each method. Give a reason why tuples have only two in-built methods as compared to Lists."
   ]
  },
  {
   "cell_type": "markdown",
   "id": "c6456fbe-13ac-42e7-9b4f-c90bd236526f",
   "metadata": {},
   "source": [
    "The two tuple methods in Python are count() and index().\n",
    "\n",
    "count() method: This method returns the number of times a specified element appears in the tuple."
   ]
  },
  {
   "cell_type": "markdown",
   "id": "a81a61f6-3916-4776-be28-44e7c7b9e9fd",
   "metadata": {},
   "source": [
    "Example"
   ]
  },
  {
   "cell_type": "code",
   "execution_count": 2,
   "id": "3407278c-a327-4695-97ef-55da46752ad4",
   "metadata": {},
   "outputs": [
    {
     "name": "stdout",
     "output_type": "stream",
     "text": [
      "3\n"
     ]
    }
   ],
   "source": [
    "# define a tuple\n",
    "my_tuple = (1, 2, 3, 4, 3, 5, 6, 3)\n",
    "\n",
    "# count the number of times 3 appears in the tuple\n",
    "count_3 = my_tuple.count(3)\n",
    "\n",
    "# print the result\n",
    "print(count_3)"
   ]
  },
  {
   "cell_type": "markdown",
   "id": "3d438218-d65e-4cfa-aa34-10d8226f0d04",
   "metadata": {},
   "source": [
    "index() method: This method returns the index of the first occurrence of a specified element in the tuple."
   ]
  },
  {
   "cell_type": "markdown",
   "id": "2376f904-62d6-4632-8d04-28e4844bc220",
   "metadata": {},
   "source": [
    "Example"
   ]
  },
  {
   "cell_type": "code",
   "execution_count": 3,
   "id": "86401b29-0aac-4091-a0d5-a0bd0b7b52d5",
   "metadata": {},
   "outputs": [
    {
     "name": "stdout",
     "output_type": "stream",
     "text": [
      "1\n"
     ]
    }
   ],
   "source": [
    "# define a tuple\n",
    "my_tuple = ('apple', 'banana', 'cherry', 'banana')\n",
    "\n",
    "# find the index of the first occurrence of 'banana'\n",
    "banana_index = my_tuple.index('banana')\n",
    "\n",
    "# print the result\n",
    "print(banana_index)"
   ]
  },
  {
   "cell_type": "markdown",
   "id": "69869437-0b6b-4677-b52c-c5b704ee988f",
   "metadata": {},
   "source": [
    "Tuples have only two in-built methods as compared to lists because tuples are designed to be immutable, meaning that once a tuple is created, it cannot be modified. In contrast, lists are mutable and have many methods that allow for modification such as append(), insert(), remove(), and sort(). Since tuples cannot be modified, they do not require as many methods as lists. The count() and index() methods are sufficient for working with tuples, as they allow for searching and counting elements in a tuple."
   ]
  },
  {
   "cell_type": "markdown",
   "id": "c7fed3f9-6d62-4c96-9ae3-66225b590463",
   "metadata": {},
   "source": [
    "### Q3. (a) Which collection datatypes in python do not allow duplicate items?"
   ]
  },
  {
   "cell_type": "markdown",
   "id": "ce523f9a-45f0-4ccd-8a7e-966ff5b5fafb",
   "metadata": {},
   "source": [
    "Python has several collection datatypes that do not allow duplicate items:\n",
    "\n",
    "Set: A set is an unordered collection of unique elements. It is mutable, which means you can add or remove elements from a set. You can create a set using curly braces ({}) or the set() constructor."
   ]
  },
  {
   "cell_type": "markdown",
   "id": "b8606c82-dcc1-45d4-a7d5-58dc1f4a1edc",
   "metadata": {},
   "source": [
    "Example"
   ]
  },
  {
   "cell_type": "code",
   "execution_count": 4,
   "id": "4f86c64a-62c8-447e-afdc-649fea16655e",
   "metadata": {},
   "outputs": [
    {
     "name": "stdout",
     "output_type": "stream",
     "text": [
      "{1, 2, 3, 4}\n",
      "{1, 2, 3, 4, 5}\n",
      "{1, 2, 3, 4, 5}\n"
     ]
    }
   ],
   "source": [
    "my_set = {1, 2, 3, 4} \n",
    "print(my_set) \n",
    "\n",
    "my_set.add(5) \n",
    "print(my_set) \n",
    "\n",
    "my_set.add(4) \n",
    "print(my_set) "
   ]
  },
  {
   "cell_type": "markdown",
   "id": "bf7eaf76-164c-45d2-8c66-d5fe78aa1447",
   "metadata": {},
   "source": [
    "FrozenSet: A frozen set is an immutable version of a set. Once created, you cannot add or remove elements from a frozen set. You can create a frozen set using the frozenset() constructor."
   ]
  },
  {
   "cell_type": "markdown",
   "id": "e41b8347-3d3f-4a3c-b4a7-f2dcbfbb73b8",
   "metadata": {},
   "source": [
    "Example"
   ]
  },
  {
   "cell_type": "code",
   "execution_count": 5,
   "id": "53e362c2-3656-4fb3-aaf5-fdff22cc8548",
   "metadata": {},
   "outputs": [
    {
     "name": "stdout",
     "output_type": "stream",
     "text": [
      "frozenset({1, 2, 3, 4})\n"
     ]
    },
    {
     "ename": "AttributeError",
     "evalue": "'frozenset' object has no attribute 'add'",
     "output_type": "error",
     "traceback": [
      "\u001b[0;31m---------------------------------------------------------------------------\u001b[0m",
      "\u001b[0;31mAttributeError\u001b[0m                            Traceback (most recent call last)",
      "Cell \u001b[0;32mIn[5], line 4\u001b[0m\n\u001b[1;32m      1\u001b[0m my_frozen_set \u001b[38;5;241m=\u001b[39m \u001b[38;5;28mfrozenset\u001b[39m([\u001b[38;5;241m1\u001b[39m, \u001b[38;5;241m2\u001b[39m, \u001b[38;5;241m3\u001b[39m, \u001b[38;5;241m4\u001b[39m]) \n\u001b[1;32m      2\u001b[0m \u001b[38;5;28mprint\u001b[39m(my_frozen_set) \u001b[38;5;66;03m# Output: frozenset({1, 2, 3, 4})\u001b[39;00m\n\u001b[0;32m----> 4\u001b[0m \u001b[43mmy_frozen_set\u001b[49m\u001b[38;5;241;43m.\u001b[39;49m\u001b[43madd\u001b[49m(\u001b[38;5;241m5\u001b[39m) \u001b[38;5;66;03m# Trying to add a new item\u001b[39;00m\n\u001b[1;32m      5\u001b[0m \u001b[38;5;66;03m# Output: AttributeError: 'frozenset' object has no attribute 'add'\u001b[39;00m\n",
      "\u001b[0;31mAttributeError\u001b[0m: 'frozenset' object has no attribute 'add'"
     ]
    }
   ],
   "source": [
    "my_frozen_set = frozenset([1, 2, 3, 4]) \n",
    "print(my_frozen_set) \n",
    "\n",
    "my_frozen_set.add(5) "
   ]
  },
  {
   "cell_type": "markdown",
   "id": "bc04e702-7680-491d-8046-207722554f35",
   "metadata": {},
   "source": [
    "Dictionary: A dictionary is a collection of key-value pairs, where each key is unique. Adding a duplicate key to a dictionary will overwrite the existing value."
   ]
  },
  {
   "cell_type": "markdown",
   "id": "e95620e0-8bab-4330-bc26-b15c4edc35aa",
   "metadata": {},
   "source": [
    "Example"
   ]
  },
  {
   "cell_type": "code",
   "execution_count": 6,
   "id": "be93a650-92a7-44f3-9102-4fc9ba843a9c",
   "metadata": {},
   "outputs": [
    {
     "name": "stdout",
     "output_type": "stream",
     "text": [
      "{'a': 1, 'b': 2, 'c': 3}\n",
      "{'a': 1, 'b': 2, 'c': 3, 'd': 4}\n",
      "{'a': 1, 'b': 2, 'c': 5, 'd': 4}\n"
     ]
    }
   ],
   "source": [
    "my_dict = {'a': 1, 'b': 2, 'c': 3}\n",
    "print(my_dict) \n",
    "\n",
    "my_dict['d'] = 4 \n",
    "print(my_dict) \n",
    "\n",
    "my_dict['c'] = 5\n",
    "print(my_dict) "
   ]
  },
  {
   "cell_type": "markdown",
   "id": "600e91ce-20aa-41e1-bbba-69ab17ee181c",
   "metadata": {},
   "source": [
    "#### (b) Write a code using a set to remove duplicates from the given list.\n",
    "#### List = [1, 1, 1, 2, 1, 3, 1, 4, 2, 1, 2, 2, 2, 3, 2, 4, 3, 1, 3, 2, 3, 3, 3, 4, 4, 1, 4, 2, 4, 3, 4, 4]"
   ]
  },
  {
   "cell_type": "code",
   "execution_count": 7,
   "id": "5a52223a-fefd-4b08-aad3-bf7e016db00f",
   "metadata": {},
   "outputs": [
    {
     "name": "stdout",
     "output_type": "stream",
     "text": [
      "[1, 2, 3, 4]\n"
     ]
    }
   ],
   "source": [
    "my_list = [1, 1, 1, 2, 1, 3, 1, 4, 2, 1, 2, 2, 2, 3, 2, 4, 3, 1, 3, 2, 3, 3, 3, 4, 4, 1, 4, 2, 4, 3, 4, 4]\n",
    "\n",
    "# Convert list to set to remove duplicates\n",
    "my_set = set(my_list)\n",
    "\n",
    "# Convert set back to list\n",
    "new_list = list(my_set)\n",
    "\n",
    "# Print the new list without duplicates\n",
    "print(new_list)"
   ]
  },
  {
   "cell_type": "markdown",
   "id": "cf1434c5-8cfa-4a28-a198-065cd427c392",
   "metadata": {},
   "source": [
    "### Q4. Explain the difference between the union() and update() methods for a set. Give an example of each method."
   ]
  },
  {
   "cell_type": "markdown",
   "id": "e46bdae5-63ad-4449-98a5-0857b5f8e229",
   "metadata": {},
   "source": [
    "Both union() and update() are methods of a set in Python that can be used to combine two or more sets. However, there is a difference between these two methods.\n",
    "\n",
    "union() method returns a new set that contains all the unique elements from the original set and one or more additional sets. It does not modify the original set or any of the additional sets."
   ]
  },
  {
   "cell_type": "markdown",
   "id": "9e1c0383-454a-4a63-9c57-41a1aa0be99d",
   "metadata": {},
   "source": [
    "Example"
   ]
  },
  {
   "cell_type": "code",
   "execution_count": 8,
   "id": "44b716b9-8162-4f07-b9b3-5287e1d2be2c",
   "metadata": {},
   "outputs": [
    {
     "name": "stdout",
     "output_type": "stream",
     "text": [
      "{1, 2, 3, 4, 5, 6, 7}\n",
      "{1, 2, 3}\n",
      "{3, 4, 5}\n",
      "{5, 6, 7}\n"
     ]
    }
   ],
   "source": [
    "set1 = {1, 2, 3}\n",
    "set2 = {3, 4, 5}\n",
    "set3 = {5, 6, 7}\n",
    "\n",
    "\n",
    "new_set = set1.union(set2, set3)\n",
    "\n",
    "\n",
    "print(new_set) \n",
    "\n",
    "print(set1)  \n",
    "print(set2)\n",
    "print(set3)"
   ]
  },
  {
   "cell_type": "markdown",
   "id": "559e3696-edc2-4450-ac16-1ba71e4a90de",
   "metadata": {},
   "source": [
    "update() method modifies the original set by adding all the unique elements from one or more additional sets. It does not return a new set."
   ]
  },
  {
   "cell_type": "markdown",
   "id": "5347450f-2b66-420b-9861-d5dc51a44ef1",
   "metadata": {},
   "source": [
    "Example"
   ]
  },
  {
   "cell_type": "code",
   "execution_count": 9,
   "id": "74e70e6c-1e40-499b-8452-370d252c409a",
   "metadata": {},
   "outputs": [
    {
     "name": "stdout",
     "output_type": "stream",
     "text": [
      "{1, 2, 3, 4, 5, 6, 7}\n",
      "{3, 4, 5}\n",
      "{5, 6, 7}\n"
     ]
    }
   ],
   "source": [
    "set1 = {1, 2, 3}\n",
    "set2 = {3, 4, 5}\n",
    "set3 = {5, 6, 7}\n",
    "\n",
    "\n",
    "set1.update(set2, set3)\n",
    "\n",
    "\n",
    "print(set1)  \n",
    "print(set2)  \n",
    "print(set3)  "
   ]
  },
  {
   "cell_type": "markdown",
   "id": "404972b2-5b96-4c56-b1c4-bc44c571c983",
   "metadata": {},
   "source": [
    "union() method returns a new set that is the union of the original set and one or more additional sets, while update() method modifies the original set by adding elements from one or more additional sets."
   ]
  },
  {
   "cell_type": "markdown",
   "id": "84ed68d9-b548-4c93-aa52-295b098e9cd5",
   "metadata": {},
   "source": [
    "### Q5. What is a dictionary? Give an example. Also, state whether a dictionary is ordered or unordered."
   ]
  },
  {
   "cell_type": "markdown",
   "id": "8b4cd474-578d-49eb-a7eb-c51a7e0814cf",
   "metadata": {},
   "source": [
    "A dictionary is a collection of key-value pairs that are stored as an unordered mapping. The key-value pairs are separated by a colon and each pair is separated by a comma. The keys in a dictionary must be unique and immutable, while the values can be of any type."
   ]
  },
  {
   "cell_type": "markdown",
   "id": "ff12d817-423f-4bef-a89d-931219526260",
   "metadata": {},
   "source": [
    "Example"
   ]
  },
  {
   "cell_type": "code",
   "execution_count": 10,
   "id": "dd7ffc97-fbf7-4a0a-8298-a4bb5a8f72e2",
   "metadata": {},
   "outputs": [
    {
     "name": "stdout",
     "output_type": "stream",
     "text": [
      "John\n",
      "20\n",
      "Computer Science\n",
      "{'name': 'John', 'age': 21, 'GPA': 3.5}\n"
     ]
    }
   ],
   "source": [
    "student = {\"name\": \"John\", \"age\": 20, \"major\": \"Computer Science\"}\n",
    "\n",
    "\n",
    "print(student[\"name\"])   \n",
    "print(student[\"age\"])    \n",
    "print(student[\"major\"])  \n",
    "\n",
    "student[\"GPA\"] = 3.5\n",
    "\n",
    "student[\"age\"] = 21\n",
    "\n",
    "del student[\"major\"]\n",
    "\n",
    "print(student)  "
   ]
  },
  {
   "cell_type": "markdown",
   "id": "2de551be-07bb-4a7e-b85b-7a964aefa3e1",
   "metadata": {},
   "source": [
    "'student' is a dictionary that contains three key-value pairs representing a student's name, age, and major. We can access the values in the dictionary using the keys, and we can add, modify, or remove key-value pairs as needed.\n",
    "\n",
    "Dictionaries in Python are unordered, meaning that the order in which the key-value pairs are stored is not guaranteed. If you need to maintain the order of the elements in a dictionary, you can use an OrderedDict from the collections module."
   ]
  },
  {
   "cell_type": "markdown",
   "id": "9f2a00c8-9066-4175-b987-4ed6abbaec42",
   "metadata": {},
   "source": [
    "### Q6. Can we create a nested dictionary? If so, please give an example by creating a simple one-level nested dictionary."
   ]
  },
  {
   "cell_type": "markdown",
   "id": "4190ebeb-01a6-4070-b2f5-735191068be3",
   "metadata": {},
   "source": [
    "We can create a nested dictionary in Python, which is a dictionary that contains one or more dictionaries as values."
   ]
  },
  {
   "cell_type": "markdown",
   "id": "8a1a1945-4f58-48b9-9ad7-0aeb82667951",
   "metadata": {},
   "source": [
    "Example"
   ]
  },
  {
   "cell_type": "code",
   "execution_count": 12,
   "id": "7cf7aaf3-5b97-4514-8d19-540fa31b9823",
   "metadata": {},
   "outputs": [
    {
     "name": "stdout",
     "output_type": "stream",
     "text": [
      "20\n",
      "Biology\n",
      "22\n",
      "{'John': {'age': 20, 'major': 'Computer Science', 'GPA': 3.5}, 'Jane': {'age': 19, 'major': 'Chemistry'}, 'Bob': {'age': 22}}\n"
     ]
    }
   ],
   "source": [
    "students = {\n",
    "    \"John\": {\"age\": 20, \"major\": \"Computer Science\"},\n",
    "    \"Jane\": {\"age\": 19, \"major\": \"Biology\"},\n",
    "    \"Bob\": {\"age\": 22, \"major\": \"Mathematics\"}\n",
    "}\n",
    "\n",
    "print(students[\"John\"][\"age\"])      \n",
    "print(students[\"Jane\"][\"major\"])   \n",
    "print(students[\"Bob\"][\"age\"])      \n",
    "\n",
    "students[\"John\"][\"GPA\"] = 3.5\n",
    "\n",
    "students[\"Jane\"][\"major\"] = \"Chemistry\"\n",
    "\n",
    "del students[\"Bob\"][\"major\"]\n",
    "\n",
    "print(students)"
   ]
  },
  {
   "cell_type": "markdown",
   "id": "86e86e9c-619a-4e0c-8ed3-e473ce6267aa",
   "metadata": {},
   "source": [
    "'students' is a nested dictionary that contains three key-value pairs representing student names as keys and their age and major as the corresponding values. Each value is itself a dictionary containing two key-value pairs representing the age and major of the student. We can access the values in the nested dictionary using the keys, and we can add, modify, or remove key-value pairs as needed."
   ]
  },
  {
   "cell_type": "markdown",
   "id": "72a003c5-4684-4189-a7b9-cfc8f0a23b19",
   "metadata": {},
   "source": [
    "### Q7. Using setdefault() method, create key named topics in the given dictionary and also add the value of the key as this\n",
    "\n",
    "### list ['Python', 'Machine Learning’, 'Deep Learning'], \n",
    "### dict1 = {'language' : 'Python', 'course': 'Data Science Masters'}"
   ]
  },
  {
   "cell_type": "markdown",
   "id": "9313a926-7804-4d05-8c93-6c0669f75415",
   "metadata": {},
   "source": [
    "We can use the setdefault() method to create a key named topics in the given dictionary and set its value to \n",
    "\n",
    "['Python', 'Machine Learning', 'Deep Learning']"
   ]
  },
  {
   "cell_type": "code",
   "execution_count": 13,
   "id": "67f7e79f-07df-476e-a192-af16a6acbb8f",
   "metadata": {},
   "outputs": [
    {
     "name": "stdout",
     "output_type": "stream",
     "text": [
      "{'language': 'Python', 'course': 'Data Science Masters', 'topics': ['Python', 'Machine Learning', 'Deep Learning']}\n"
     ]
    }
   ],
   "source": [
    "dict1 = {'language': 'Python', 'course': 'Data Science Masters'}\n",
    "\n",
    "dict1.setdefault('topics', ['Python', 'Machine Learning', 'Deep Learning'])\n",
    "\n",
    "print(dict1)  # Output: {'language': 'Python', 'course': 'Data Science Masters', 'topics': ['Python', 'Machine Learning', 'Deep Learning']}"
   ]
  },
  {
   "cell_type": "markdown",
   "id": "cf657b94-d6b7-465d-9f7f-c2828993d24c",
   "metadata": {},
   "source": [
    "We use the setdefault() method to check if the key topics already exists in the dictionary dict1. Since it does not exist, the method creates a new key named topics and sets its value to ['Python', 'Machine Learning', 'Deep Learning']. \n",
    "\n",
    "\n",
    "If the key topics already exists in the dictionary, the method does not modify the dictionary and simply returns the current value associated with the key. After executing the setdefault() method, we print the updated dictionary dict1 to verify that the key topics has been added with the expected value."
   ]
  },
  {
   "cell_type": "markdown",
   "id": "11575c96-f0e9-4752-b6f4-c31009c1d7ca",
   "metadata": {},
   "source": [
    "### Q8. What are the three view objects in dictionaries? Use the three in-built methods in python to display these three view objects for the given dictionary.\n",
    "\n",
    "### dict1 = {'Sport': 'Cricket' , 'Teams': ['India', 'Australia', 'England', 'South Africa', 'Sri Lanka', 'New Zealand']}"
   ]
  },
  {
   "cell_type": "markdown",
   "id": "36656e08-45bf-485e-bb86-6897213ae32d",
   "metadata": {},
   "source": [
    "There are three view objects that can be used to view the keys, values, and key-value pairs of a dictionary:\n",
    "\n",
    "dict.keys() - returns a view object that contains the keys of the dictionary\n",
    "\n",
    "dict.values() - returns a view object that contains the values of the dictionary\n",
    "\n",
    "dict.items() - returns a view object that contains the key-value pairs of the dictionary"
   ]
  },
  {
   "cell_type": "markdown",
   "id": "8bb91847-da7c-4fc8-a5c7-9c71b577cebe",
   "metadata": {},
   "source": [
    "Example"
   ]
  },
  {
   "cell_type": "code",
   "execution_count": 17,
   "id": "d2092f45-353d-4a12-8653-882e11d826b8",
   "metadata": {},
   "outputs": [
    {
     "name": "stdout",
     "output_type": "stream",
     "text": [
      "dict_keys(['language', 'course', 'topics'])\n",
      "dict_values(['Python', 'Data Science Masters', ['Python', 'Machine Learning', 'Deep Learning']])\n",
      "dict_items([('language', 'Python'), ('course', 'Data Science Masters'), ('topics', ['Python', 'Machine Learning', 'Deep Learning'])])\n"
     ]
    }
   ],
   "source": [
    "dict1 = {'language': 'Python', 'course': 'Data Science Masters', 'topics': ['Python', 'Machine Learning', 'Deep Learning']}\n",
    "\n",
    "\n",
    "print(dict1.keys())  \n",
    "\n",
    "print(dict1.values())  \n",
    "\n",
    "print(dict1.items()) "
   ]
  },
  {
   "cell_type": "code",
   "execution_count": null,
   "id": "86bd2311-dac6-4c24-89ca-b95d9a625fc1",
   "metadata": {},
   "outputs": [],
   "source": []
  }
 ],
 "metadata": {
  "kernelspec": {
   "display_name": "Python 3 (ipykernel)",
   "language": "python",
   "name": "python3"
  },
  "language_info": {
   "codemirror_mode": {
    "name": "ipython",
    "version": 3
   },
   "file_extension": ".py",
   "mimetype": "text/x-python",
   "name": "python",
   "nbconvert_exporter": "python",
   "pygments_lexer": "ipython3",
   "version": "3.10.8"
  }
 },
 "nbformat": 4,
 "nbformat_minor": 5
}
